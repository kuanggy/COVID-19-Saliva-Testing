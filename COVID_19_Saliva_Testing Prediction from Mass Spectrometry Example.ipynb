{
  "nbformat": 4,
  "nbformat_minor": 0,
  "metadata": {
    "colab": {
      "provenance": [],
      "toc_visible": true
    },
    "kernelspec": {
      "name": "python3",
      "display_name": "Python 3"
    },
    "language_info": {
      "name": "python"
    }
  },
  "cells": [
    {
      "cell_type": "markdown",
      "source": [
        "### Before start running the code blocks, please upload the .csv file named\n",
        "\n",
        "> 'anonymized_COVID-19_MS_dataset_041822.csv'\n",
        "\n",
        "downloaded from AI Acad2022 Problem 1 Kaggle.\n This Jupyter Notebook developed by Tharathip Kulchotirat"
      ],
      "metadata": {
        "id": "fBqgovJDfyxI"
      }
    },
    {
      "cell_type": "markdown",
      "source": [
        "# Import Neccessary Libraries"
      ],
      "metadata": {
        "id": "hgPbCcNpZF3f"
      }
    },
    {
      "cell_type": "code",
      "source": [
        "import numpy as np\n",
        "import matplotlib.pyplot as plt\n",
        "import pandas as pd\n",
        "import seaborn as sns\n",
        "from IPython.display import display\n",
        "\n",
        "from sklearn.preprocessing import LabelEncoder\n",
        "from sklearn.model_selection import train_test_split\n",
        "from sklearn.preprocessing import StandardScaler\n",
        "from sklearn.decomposition import PCA\n",
        "\n",
        "import warnings\n",
        "warnings.filterwarnings('ignore')"
      ],
      "metadata": {
        "id": "cWAbcVxfZNv5"
      },
      "execution_count": null,
      "outputs": []
    },
    {
      "cell_type": "markdown",
      "source": [
        "# Import Data"
      ],
      "metadata": {
        "id": "Vx5eYsYOZhxq"
      }
    },
    {
      "cell_type": "markdown",
      "source": [
        "### Data Comprehension\n",
        "getting data comprehension"
      ],
      "metadata": {
        "id": "U7UD_cAjZ_S7"
      }
    },
    {
      "cell_type": "code",
      "source": [
        "default_data = pd.read_csv('anonymized_COVID-19_MS_dataset_041822.csv')\n",
        "default_data.head()"
      ],
      "metadata": {
        "colab": {
          "base_uri": "https://localhost:8080/",
          "height": 317
        },
        "id": "eRipD3PkZkiO",
        "outputId": "b5385b6b-3087-4f6c-9b6a-16ce7e209f43"
      },
      "execution_count": null,
      "outputs": [
        {
          "output_type": "execute_result",
          "data": {
            "text/plain": [
              "   Unnamed: 0 Sample_ID PCR_result  244.17  244.38  245.48  246.44  246.69  \\\n",
              "0           1        N6        pos     NaN     NaN     NaN     NaN     NaN   \n",
              "1           2        N6        pos     NaN     NaN     NaN     NaN     NaN   \n",
              "2           3        N6        pos     NaN     NaN     NaN     NaN     NaN   \n",
              "3           4        N6        pos     NaN     NaN     NaN     NaN     NaN   \n",
              "4           5        N6        pos     NaN     NaN     NaN     NaN     NaN   \n",
              "\n",
              "   247.36  247.99  ...  15406.61  15411.6  15417.97  15468.66  16531.56  \\\n",
              "0     NaN     NaN  ...       NaN      NaN       NaN       NaN       NaN   \n",
              "1     NaN     NaN  ...       NaN      NaN       NaN       NaN       NaN   \n",
              "2     NaN     NaN  ...       NaN      NaN       NaN       NaN       NaN   \n",
              "3     NaN     NaN  ...       NaN      NaN       NaN       NaN       NaN   \n",
              "4     NaN     NaN  ...       NaN      NaN       NaN       NaN       NaN   \n",
              "\n",
              "   16612.52  16810.09  17207.81  18738.92  20265.36  \n",
              "0       NaN       NaN       NaN       NaN       NaN  \n",
              "1       NaN       NaN       NaN       NaN       NaN  \n",
              "2       NaN       NaN       NaN       NaN       NaN  \n",
              "3       NaN       NaN       NaN       NaN       NaN  \n",
              "4       NaN       NaN       NaN       NaN       NaN  \n",
              "\n",
              "[5 rows x 2718 columns]"
            ],
            "text/html": [
              "\n",
              "  <div id=\"df-4bcc06ef-3dc4-439e-b090-50c51a8d34b2\">\n",
              "    <div class=\"colab-df-container\">\n",
              "      <div>\n",
              "<style scoped>\n",
              "    .dataframe tbody tr th:only-of-type {\n",
              "        vertical-align: middle;\n",
              "    }\n",
              "\n",
              "    .dataframe tbody tr th {\n",
              "        vertical-align: top;\n",
              "    }\n",
              "\n",
              "    .dataframe thead th {\n",
              "        text-align: right;\n",
              "    }\n",
              "</style>\n",
              "<table border=\"1\" class=\"dataframe\">\n",
              "  <thead>\n",
              "    <tr style=\"text-align: right;\">\n",
              "      <th></th>\n",
              "      <th>Unnamed: 0</th>\n",
              "      <th>Sample_ID</th>\n",
              "      <th>PCR_result</th>\n",
              "      <th>244.17</th>\n",
              "      <th>244.38</th>\n",
              "      <th>245.48</th>\n",
              "      <th>246.44</th>\n",
              "      <th>246.69</th>\n",
              "      <th>247.36</th>\n",
              "      <th>247.99</th>\n",
              "      <th>...</th>\n",
              "      <th>15406.61</th>\n",
              "      <th>15411.6</th>\n",
              "      <th>15417.97</th>\n",
              "      <th>15468.66</th>\n",
              "      <th>16531.56</th>\n",
              "      <th>16612.52</th>\n",
              "      <th>16810.09</th>\n",
              "      <th>17207.81</th>\n",
              "      <th>18738.92</th>\n",
              "      <th>20265.36</th>\n",
              "    </tr>\n",
              "  </thead>\n",
              "  <tbody>\n",
              "    <tr>\n",
              "      <th>0</th>\n",
              "      <td>1</td>\n",
              "      <td>N6</td>\n",
              "      <td>pos</td>\n",
              "      <td>NaN</td>\n",
              "      <td>NaN</td>\n",
              "      <td>NaN</td>\n",
              "      <td>NaN</td>\n",
              "      <td>NaN</td>\n",
              "      <td>NaN</td>\n",
              "      <td>NaN</td>\n",
              "      <td>...</td>\n",
              "      <td>NaN</td>\n",
              "      <td>NaN</td>\n",
              "      <td>NaN</td>\n",
              "      <td>NaN</td>\n",
              "      <td>NaN</td>\n",
              "      <td>NaN</td>\n",
              "      <td>NaN</td>\n",
              "      <td>NaN</td>\n",
              "      <td>NaN</td>\n",
              "      <td>NaN</td>\n",
              "    </tr>\n",
              "    <tr>\n",
              "      <th>1</th>\n",
              "      <td>2</td>\n",
              "      <td>N6</td>\n",
              "      <td>pos</td>\n",
              "      <td>NaN</td>\n",
              "      <td>NaN</td>\n",
              "      <td>NaN</td>\n",
              "      <td>NaN</td>\n",
              "      <td>NaN</td>\n",
              "      <td>NaN</td>\n",
              "      <td>NaN</td>\n",
              "      <td>...</td>\n",
              "      <td>NaN</td>\n",
              "      <td>NaN</td>\n",
              "      <td>NaN</td>\n",
              "      <td>NaN</td>\n",
              "      <td>NaN</td>\n",
              "      <td>NaN</td>\n",
              "      <td>NaN</td>\n",
              "      <td>NaN</td>\n",
              "      <td>NaN</td>\n",
              "      <td>NaN</td>\n",
              "    </tr>\n",
              "    <tr>\n",
              "      <th>2</th>\n",
              "      <td>3</td>\n",
              "      <td>N6</td>\n",
              "      <td>pos</td>\n",
              "      <td>NaN</td>\n",
              "      <td>NaN</td>\n",
              "      <td>NaN</td>\n",
              "      <td>NaN</td>\n",
              "      <td>NaN</td>\n",
              "      <td>NaN</td>\n",
              "      <td>NaN</td>\n",
              "      <td>...</td>\n",
              "      <td>NaN</td>\n",
              "      <td>NaN</td>\n",
              "      <td>NaN</td>\n",
              "      <td>NaN</td>\n",
              "      <td>NaN</td>\n",
              "      <td>NaN</td>\n",
              "      <td>NaN</td>\n",
              "      <td>NaN</td>\n",
              "      <td>NaN</td>\n",
              "      <td>NaN</td>\n",
              "    </tr>\n",
              "    <tr>\n",
              "      <th>3</th>\n",
              "      <td>4</td>\n",
              "      <td>N6</td>\n",
              "      <td>pos</td>\n",
              "      <td>NaN</td>\n",
              "      <td>NaN</td>\n",
              "      <td>NaN</td>\n",
              "      <td>NaN</td>\n",
              "      <td>NaN</td>\n",
              "      <td>NaN</td>\n",
              "      <td>NaN</td>\n",
              "      <td>...</td>\n",
              "      <td>NaN</td>\n",
              "      <td>NaN</td>\n",
              "      <td>NaN</td>\n",
              "      <td>NaN</td>\n",
              "      <td>NaN</td>\n",
              "      <td>NaN</td>\n",
              "      <td>NaN</td>\n",
              "      <td>NaN</td>\n",
              "      <td>NaN</td>\n",
              "      <td>NaN</td>\n",
              "    </tr>\n",
              "    <tr>\n",
              "      <th>4</th>\n",
              "      <td>5</td>\n",
              "      <td>N6</td>\n",
              "      <td>pos</td>\n",
              "      <td>NaN</td>\n",
              "      <td>NaN</td>\n",
              "      <td>NaN</td>\n",
              "      <td>NaN</td>\n",
              "      <td>NaN</td>\n",
              "      <td>NaN</td>\n",
              "      <td>NaN</td>\n",
              "      <td>...</td>\n",
              "      <td>NaN</td>\n",
              "      <td>NaN</td>\n",
              "      <td>NaN</td>\n",
              "      <td>NaN</td>\n",
              "      <td>NaN</td>\n",
              "      <td>NaN</td>\n",
              "      <td>NaN</td>\n",
              "      <td>NaN</td>\n",
              "      <td>NaN</td>\n",
              "      <td>NaN</td>\n",
              "    </tr>\n",
              "  </tbody>\n",
              "</table>\n",
              "<p>5 rows × 2718 columns</p>\n",
              "</div>\n",
              "      <button class=\"colab-df-convert\" onclick=\"convertToInteractive('df-4bcc06ef-3dc4-439e-b090-50c51a8d34b2')\"\n",
              "              title=\"Convert this dataframe to an interactive table.\"\n",
              "              style=\"display:none;\">\n",
              "        \n",
              "  <svg xmlns=\"http://www.w3.org/2000/svg\" height=\"24px\"viewBox=\"0 0 24 24\"\n",
              "       width=\"24px\">\n",
              "    <path d=\"M0 0h24v24H0V0z\" fill=\"none\"/>\n",
              "    <path d=\"M18.56 5.44l.94 2.06.94-2.06 2.06-.94-2.06-.94-.94-2.06-.94 2.06-2.06.94zm-11 1L8.5 8.5l.94-2.06 2.06-.94-2.06-.94L8.5 2.5l-.94 2.06-2.06.94zm10 10l.94 2.06.94-2.06 2.06-.94-2.06-.94-.94-2.06-.94 2.06-2.06.94z\"/><path d=\"M17.41 7.96l-1.37-1.37c-.4-.4-.92-.59-1.43-.59-.52 0-1.04.2-1.43.59L10.3 9.45l-7.72 7.72c-.78.78-.78 2.05 0 2.83L4 21.41c.39.39.9.59 1.41.59.51 0 1.02-.2 1.41-.59l7.78-7.78 2.81-2.81c.8-.78.8-2.07 0-2.86zM5.41 20L4 18.59l7.72-7.72 1.47 1.35L5.41 20z\"/>\n",
              "  </svg>\n",
              "      </button>\n",
              "      \n",
              "  <style>\n",
              "    .colab-df-container {\n",
              "      display:flex;\n",
              "      flex-wrap:wrap;\n",
              "      gap: 12px;\n",
              "    }\n",
              "\n",
              "    .colab-df-convert {\n",
              "      background-color: #E8F0FE;\n",
              "      border: none;\n",
              "      border-radius: 50%;\n",
              "      cursor: pointer;\n",
              "      display: none;\n",
              "      fill: #1967D2;\n",
              "      height: 32px;\n",
              "      padding: 0 0 0 0;\n",
              "      width: 32px;\n",
              "    }\n",
              "\n",
              "    .colab-df-convert:hover {\n",
              "      background-color: #E2EBFA;\n",
              "      box-shadow: 0px 1px 2px rgba(60, 64, 67, 0.3), 0px 1px 3px 1px rgba(60, 64, 67, 0.15);\n",
              "      fill: #174EA6;\n",
              "    }\n",
              "\n",
              "    [theme=dark] .colab-df-convert {\n",
              "      background-color: #3B4455;\n",
              "      fill: #D2E3FC;\n",
              "    }\n",
              "\n",
              "    [theme=dark] .colab-df-convert:hover {\n",
              "      background-color: #434B5C;\n",
              "      box-shadow: 0px 1px 3px 1px rgba(0, 0, 0, 0.15);\n",
              "      filter: drop-shadow(0px 1px 2px rgba(0, 0, 0, 0.3));\n",
              "      fill: #FFFFFF;\n",
              "    }\n",
              "  </style>\n",
              "\n",
              "      <script>\n",
              "        const buttonEl =\n",
              "          document.querySelector('#df-4bcc06ef-3dc4-439e-b090-50c51a8d34b2 button.colab-df-convert');\n",
              "        buttonEl.style.display =\n",
              "          google.colab.kernel.accessAllowed ? 'block' : 'none';\n",
              "\n",
              "        async function convertToInteractive(key) {\n",
              "          const element = document.querySelector('#df-4bcc06ef-3dc4-439e-b090-50c51a8d34b2');\n",
              "          const dataTable =\n",
              "            await google.colab.kernel.invokeFunction('convertToInteractive',\n",
              "                                                     [key], {});\n",
              "          if (!dataTable) return;\n",
              "\n",
              "          const docLinkHtml = 'Like what you see? Visit the ' +\n",
              "            '<a target=\"_blank\" href=https://colab.research.google.com/notebooks/data_table.ipynb>data table notebook</a>'\n",
              "            + ' to learn more about interactive tables.';\n",
              "          element.innerHTML = '';\n",
              "          dataTable['output_type'] = 'display_data';\n",
              "          await google.colab.output.renderOutput(dataTable, element);\n",
              "          const docLink = document.createElement('div');\n",
              "          docLink.innerHTML = docLinkHtml;\n",
              "          element.appendChild(docLink);\n",
              "        }\n",
              "      </script>\n",
              "    </div>\n",
              "  </div>\n",
              "  "
            ]
          },
          "metadata": {},
          "execution_count": 2
        }
      ]
    },
    {
      "cell_type": "code",
      "source": [
        "default_data.shape"
      ],
      "metadata": {
        "colab": {
          "base_uri": "https://localhost:8080/"
        },
        "id": "JfEPJfoEZwpC",
        "outputId": "cd435067-28b7-4219-d1ae-3edf1e243c87"
      },
      "execution_count": null,
      "outputs": [
        {
          "output_type": "execute_result",
          "data": {
            "text/plain": [
              "(4282, 2718)"
            ]
          },
          "metadata": {},
          "execution_count": 3
        }
      ]
    },
    {
      "cell_type": "markdown",
      "source": [
        "There were 4282 rows of patients and 2715 columns of molecular mass. (from column index 3 and so on)"
      ],
      "metadata": {
        "id": "0NVGFKzi_vx-"
      }
    },
    {
      "cell_type": "markdown",
      "source": [
        "### Explore Data"
      ],
      "metadata": {
        "id": "LyzF_jyLzgYq"
      }
    },
    {
      "cell_type": "markdown",
      "source": [
        "Now, see if applicable data included."
      ],
      "metadata": {
        "id": "8-fTi6qdaVos"
      }
    },
    {
      "cell_type": "code",
      "source": [
        "default_data['PCR_result'].value_counts()"
      ],
      "metadata": {
        "colab": {
          "base_uri": "https://localhost:8080/"
        },
        "id": "ReMc4-jgaTFU",
        "outputId": "5d40a782-a3f7-40f3-d270-d2055e5a9470"
      },
      "execution_count": null,
      "outputs": [
        {
          "output_type": "execute_result",
          "data": {
            "text/plain": [
              "unknown    1877\n",
              "pos        1632\n",
              "neg         773\n",
              "Name: PCR_result, dtype: int64"
            ]
          },
          "metadata": {},
          "execution_count": 4
        }
      ]
    },
    {
      "cell_type": "markdown",
      "source": [
        "There were 1877 unknown results from COVID-19 Saliva Testing, which will not be used for model training. So, I decided to drop all the rows with 'PCR_result' is 'unknown'."
      ],
      "metadata": {
        "id": "muFCLOzha4f4"
      }
    },
    {
      "cell_type": "code",
      "source": [
        "default_data.drop(default_data[default_data['PCR_result'] == 'unknown'].index, axis=0, inplace=True)\n",
        "default_data['PCR_result'].value_counts()"
      ],
      "metadata": {
        "colab": {
          "base_uri": "https://localhost:8080/"
        },
        "id": "psEQuBExamLn",
        "outputId": "cbff41ca-e48a-49e5-cc2f-217f673b1943"
      },
      "execution_count": null,
      "outputs": [
        {
          "output_type": "execute_result",
          "data": {
            "text/plain": [
              "pos    1632\n",
              "neg     773\n",
              "Name: PCR_result, dtype: int64"
            ]
          },
          "metadata": {},
          "execution_count": 5
        }
      ]
    },
    {
      "cell_type": "code",
      "source": [
        "default_data.shape"
      ],
      "metadata": {
        "colab": {
          "base_uri": "https://localhost:8080/"
        },
        "id": "azezrA68bTYt",
        "outputId": "3ba9f4b7-89b0-470a-e08c-d60bb834886b"
      },
      "execution_count": null,
      "outputs": [
        {
          "output_type": "execute_result",
          "data": {
            "text/plain": [
              "(2405, 2718)"
            ]
          },
          "metadata": {},
          "execution_count": 6
        }
      ]
    },
    {
      "cell_type": "markdown",
      "source": [
        "Now, replace all 'NONE' value with 0, because the Spectra in Mass Spectrometry will shoot to > 0 if the chemicals/molecules/elements are detected. Also, I will use only the columns representing Spectra and the PCR result."
      ],
      "metadata": {
        "id": "bIGhwVELbuQH"
      }
    },
    {
      "cell_type": "code",
      "source": [
        "df = default_data.iloc[:,2:]\n",
        "df.fillna(0,inplace=True)\n",
        "df"
      ],
      "metadata": {
        "colab": {
          "base_uri": "https://localhost:8080/",
          "height": 488
        },
        "id": "wlLVPzGMbVdP",
        "outputId": "27ebe246-3cea-4f87-ea3d-bab470bfe1f0"
      },
      "execution_count": null,
      "outputs": [
        {
          "output_type": "execute_result",
          "data": {
            "text/plain": [
              "     PCR_result  244.17  244.38  245.48  246.44  246.69  247.36  247.99  \\\n",
              "0           pos     0.0     0.0     0.0     0.0     0.0     0.0     0.0   \n",
              "1           pos     0.0     0.0     0.0     0.0     0.0     0.0     0.0   \n",
              "2           pos     0.0     0.0     0.0     0.0     0.0     0.0     0.0   \n",
              "3           pos     0.0     0.0     0.0     0.0     0.0     0.0     0.0   \n",
              "4           pos     0.0     0.0     0.0     0.0     0.0     0.0     0.0   \n",
              "...         ...     ...     ...     ...     ...     ...     ...     ...   \n",
              "3252        neg     0.0     0.0     0.0     0.0     0.0     0.0     0.0   \n",
              "3253        neg     0.0     0.0     0.0     0.0     0.0     0.0     0.0   \n",
              "3254        neg     0.0     0.0     0.0     0.0     0.0     0.0     0.0   \n",
              "3255        neg     0.0     0.0     0.0     0.0     0.0     0.0     0.0   \n",
              "3256        neg     0.0     0.0     0.0     0.0     0.0     0.0     0.0   \n",
              "\n",
              "      248.21     248.6  ...  15406.61  15411.6  15417.97  15468.66  16531.56  \\\n",
              "0        0.0  0.000000  ...       0.0      0.0       0.0       0.0       0.0   \n",
              "1        0.0  0.000000  ...       0.0      0.0       0.0       0.0       0.0   \n",
              "2        0.0  0.000000  ...       0.0      0.0       0.0       0.0       0.0   \n",
              "3        0.0  0.890322  ...       0.0      0.0       0.0       0.0       0.0   \n",
              "4        0.0  0.000000  ...       0.0      0.0       0.0       0.0       0.0   \n",
              "...      ...       ...  ...       ...      ...       ...       ...       ...   \n",
              "3252     0.0  0.000000  ...       0.0      0.0       0.0       0.0       0.0   \n",
              "3253     0.0  0.000000  ...       0.0      0.0       0.0       0.0       0.0   \n",
              "3254     0.0  0.000000  ...       0.0      0.0       0.0       0.0       0.0   \n",
              "3255     0.0  0.000000  ...       0.0      0.0       0.0       0.0       0.0   \n",
              "3256     0.0  0.000000  ...       0.0      0.0       0.0       0.0       0.0   \n",
              "\n",
              "      16612.52  16810.09  17207.81  18738.92  20265.36  \n",
              "0          0.0       0.0       0.0       0.0       0.0  \n",
              "1          0.0       0.0       0.0       0.0       0.0  \n",
              "2          0.0       0.0       0.0       0.0       0.0  \n",
              "3          0.0       0.0       0.0       0.0       0.0  \n",
              "4          0.0       0.0       0.0       0.0       0.0  \n",
              "...        ...       ...       ...       ...       ...  \n",
              "3252       0.0       0.0       0.0       0.0       0.0  \n",
              "3253       0.0       0.0       0.0       0.0       0.0  \n",
              "3254       0.0       0.0       0.0       0.0       0.0  \n",
              "3255       0.0       0.0       0.0       0.0       0.0  \n",
              "3256       0.0       0.0       0.0       0.0       0.0  \n",
              "\n",
              "[2405 rows x 2716 columns]"
            ],
            "text/html": [
              "\n",
              "  <div id=\"df-75377b91-e4c5-4795-9a84-4020324bfc7c\">\n",
              "    <div class=\"colab-df-container\">\n",
              "      <div>\n",
              "<style scoped>\n",
              "    .dataframe tbody tr th:only-of-type {\n",
              "        vertical-align: middle;\n",
              "    }\n",
              "\n",
              "    .dataframe tbody tr th {\n",
              "        vertical-align: top;\n",
              "    }\n",
              "\n",
              "    .dataframe thead th {\n",
              "        text-align: right;\n",
              "    }\n",
              "</style>\n",
              "<table border=\"1\" class=\"dataframe\">\n",
              "  <thead>\n",
              "    <tr style=\"text-align: right;\">\n",
              "      <th></th>\n",
              "      <th>PCR_result</th>\n",
              "      <th>244.17</th>\n",
              "      <th>244.38</th>\n",
              "      <th>245.48</th>\n",
              "      <th>246.44</th>\n",
              "      <th>246.69</th>\n",
              "      <th>247.36</th>\n",
              "      <th>247.99</th>\n",
              "      <th>248.21</th>\n",
              "      <th>248.6</th>\n",
              "      <th>...</th>\n",
              "      <th>15406.61</th>\n",
              "      <th>15411.6</th>\n",
              "      <th>15417.97</th>\n",
              "      <th>15468.66</th>\n",
              "      <th>16531.56</th>\n",
              "      <th>16612.52</th>\n",
              "      <th>16810.09</th>\n",
              "      <th>17207.81</th>\n",
              "      <th>18738.92</th>\n",
              "      <th>20265.36</th>\n",
              "    </tr>\n",
              "  </thead>\n",
              "  <tbody>\n",
              "    <tr>\n",
              "      <th>0</th>\n",
              "      <td>pos</td>\n",
              "      <td>0.0</td>\n",
              "      <td>0.0</td>\n",
              "      <td>0.0</td>\n",
              "      <td>0.0</td>\n",
              "      <td>0.0</td>\n",
              "      <td>0.0</td>\n",
              "      <td>0.0</td>\n",
              "      <td>0.0</td>\n",
              "      <td>0.000000</td>\n",
              "      <td>...</td>\n",
              "      <td>0.0</td>\n",
              "      <td>0.0</td>\n",
              "      <td>0.0</td>\n",
              "      <td>0.0</td>\n",
              "      <td>0.0</td>\n",
              "      <td>0.0</td>\n",
              "      <td>0.0</td>\n",
              "      <td>0.0</td>\n",
              "      <td>0.0</td>\n",
              "      <td>0.0</td>\n",
              "    </tr>\n",
              "    <tr>\n",
              "      <th>1</th>\n",
              "      <td>pos</td>\n",
              "      <td>0.0</td>\n",
              "      <td>0.0</td>\n",
              "      <td>0.0</td>\n",
              "      <td>0.0</td>\n",
              "      <td>0.0</td>\n",
              "      <td>0.0</td>\n",
              "      <td>0.0</td>\n",
              "      <td>0.0</td>\n",
              "      <td>0.000000</td>\n",
              "      <td>...</td>\n",
              "      <td>0.0</td>\n",
              "      <td>0.0</td>\n",
              "      <td>0.0</td>\n",
              "      <td>0.0</td>\n",
              "      <td>0.0</td>\n",
              "      <td>0.0</td>\n",
              "      <td>0.0</td>\n",
              "      <td>0.0</td>\n",
              "      <td>0.0</td>\n",
              "      <td>0.0</td>\n",
              "    </tr>\n",
              "    <tr>\n",
              "      <th>2</th>\n",
              "      <td>pos</td>\n",
              "      <td>0.0</td>\n",
              "      <td>0.0</td>\n",
              "      <td>0.0</td>\n",
              "      <td>0.0</td>\n",
              "      <td>0.0</td>\n",
              "      <td>0.0</td>\n",
              "      <td>0.0</td>\n",
              "      <td>0.0</td>\n",
              "      <td>0.000000</td>\n",
              "      <td>...</td>\n",
              "      <td>0.0</td>\n",
              "      <td>0.0</td>\n",
              "      <td>0.0</td>\n",
              "      <td>0.0</td>\n",
              "      <td>0.0</td>\n",
              "      <td>0.0</td>\n",
              "      <td>0.0</td>\n",
              "      <td>0.0</td>\n",
              "      <td>0.0</td>\n",
              "      <td>0.0</td>\n",
              "    </tr>\n",
              "    <tr>\n",
              "      <th>3</th>\n",
              "      <td>pos</td>\n",
              "      <td>0.0</td>\n",
              "      <td>0.0</td>\n",
              "      <td>0.0</td>\n",
              "      <td>0.0</td>\n",
              "      <td>0.0</td>\n",
              "      <td>0.0</td>\n",
              "      <td>0.0</td>\n",
              "      <td>0.0</td>\n",
              "      <td>0.890322</td>\n",
              "      <td>...</td>\n",
              "      <td>0.0</td>\n",
              "      <td>0.0</td>\n",
              "      <td>0.0</td>\n",
              "      <td>0.0</td>\n",
              "      <td>0.0</td>\n",
              "      <td>0.0</td>\n",
              "      <td>0.0</td>\n",
              "      <td>0.0</td>\n",
              "      <td>0.0</td>\n",
              "      <td>0.0</td>\n",
              "    </tr>\n",
              "    <tr>\n",
              "      <th>4</th>\n",
              "      <td>pos</td>\n",
              "      <td>0.0</td>\n",
              "      <td>0.0</td>\n",
              "      <td>0.0</td>\n",
              "      <td>0.0</td>\n",
              "      <td>0.0</td>\n",
              "      <td>0.0</td>\n",
              "      <td>0.0</td>\n",
              "      <td>0.0</td>\n",
              "      <td>0.000000</td>\n",
              "      <td>...</td>\n",
              "      <td>0.0</td>\n",
              "      <td>0.0</td>\n",
              "      <td>0.0</td>\n",
              "      <td>0.0</td>\n",
              "      <td>0.0</td>\n",
              "      <td>0.0</td>\n",
              "      <td>0.0</td>\n",
              "      <td>0.0</td>\n",
              "      <td>0.0</td>\n",
              "      <td>0.0</td>\n",
              "    </tr>\n",
              "    <tr>\n",
              "      <th>...</th>\n",
              "      <td>...</td>\n",
              "      <td>...</td>\n",
              "      <td>...</td>\n",
              "      <td>...</td>\n",
              "      <td>...</td>\n",
              "      <td>...</td>\n",
              "      <td>...</td>\n",
              "      <td>...</td>\n",
              "      <td>...</td>\n",
              "      <td>...</td>\n",
              "      <td>...</td>\n",
              "      <td>...</td>\n",
              "      <td>...</td>\n",
              "      <td>...</td>\n",
              "      <td>...</td>\n",
              "      <td>...</td>\n",
              "      <td>...</td>\n",
              "      <td>...</td>\n",
              "      <td>...</td>\n",
              "      <td>...</td>\n",
              "      <td>...</td>\n",
              "    </tr>\n",
              "    <tr>\n",
              "      <th>3252</th>\n",
              "      <td>neg</td>\n",
              "      <td>0.0</td>\n",
              "      <td>0.0</td>\n",
              "      <td>0.0</td>\n",
              "      <td>0.0</td>\n",
              "      <td>0.0</td>\n",
              "      <td>0.0</td>\n",
              "      <td>0.0</td>\n",
              "      <td>0.0</td>\n",
              "      <td>0.000000</td>\n",
              "      <td>...</td>\n",
              "      <td>0.0</td>\n",
              "      <td>0.0</td>\n",
              "      <td>0.0</td>\n",
              "      <td>0.0</td>\n",
              "      <td>0.0</td>\n",
              "      <td>0.0</td>\n",
              "      <td>0.0</td>\n",
              "      <td>0.0</td>\n",
              "      <td>0.0</td>\n",
              "      <td>0.0</td>\n",
              "    </tr>\n",
              "    <tr>\n",
              "      <th>3253</th>\n",
              "      <td>neg</td>\n",
              "      <td>0.0</td>\n",
              "      <td>0.0</td>\n",
              "      <td>0.0</td>\n",
              "      <td>0.0</td>\n",
              "      <td>0.0</td>\n",
              "      <td>0.0</td>\n",
              "      <td>0.0</td>\n",
              "      <td>0.0</td>\n",
              "      <td>0.000000</td>\n",
              "      <td>...</td>\n",
              "      <td>0.0</td>\n",
              "      <td>0.0</td>\n",
              "      <td>0.0</td>\n",
              "      <td>0.0</td>\n",
              "      <td>0.0</td>\n",
              "      <td>0.0</td>\n",
              "      <td>0.0</td>\n",
              "      <td>0.0</td>\n",
              "      <td>0.0</td>\n",
              "      <td>0.0</td>\n",
              "    </tr>\n",
              "    <tr>\n",
              "      <th>3254</th>\n",
              "      <td>neg</td>\n",
              "      <td>0.0</td>\n",
              "      <td>0.0</td>\n",
              "      <td>0.0</td>\n",
              "      <td>0.0</td>\n",
              "      <td>0.0</td>\n",
              "      <td>0.0</td>\n",
              "      <td>0.0</td>\n",
              "      <td>0.0</td>\n",
              "      <td>0.000000</td>\n",
              "      <td>...</td>\n",
              "      <td>0.0</td>\n",
              "      <td>0.0</td>\n",
              "      <td>0.0</td>\n",
              "      <td>0.0</td>\n",
              "      <td>0.0</td>\n",
              "      <td>0.0</td>\n",
              "      <td>0.0</td>\n",
              "      <td>0.0</td>\n",
              "      <td>0.0</td>\n",
              "      <td>0.0</td>\n",
              "    </tr>\n",
              "    <tr>\n",
              "      <th>3255</th>\n",
              "      <td>neg</td>\n",
              "      <td>0.0</td>\n",
              "      <td>0.0</td>\n",
              "      <td>0.0</td>\n",
              "      <td>0.0</td>\n",
              "      <td>0.0</td>\n",
              "      <td>0.0</td>\n",
              "      <td>0.0</td>\n",
              "      <td>0.0</td>\n",
              "      <td>0.000000</td>\n",
              "      <td>...</td>\n",
              "      <td>0.0</td>\n",
              "      <td>0.0</td>\n",
              "      <td>0.0</td>\n",
              "      <td>0.0</td>\n",
              "      <td>0.0</td>\n",
              "      <td>0.0</td>\n",
              "      <td>0.0</td>\n",
              "      <td>0.0</td>\n",
              "      <td>0.0</td>\n",
              "      <td>0.0</td>\n",
              "    </tr>\n",
              "    <tr>\n",
              "      <th>3256</th>\n",
              "      <td>neg</td>\n",
              "      <td>0.0</td>\n",
              "      <td>0.0</td>\n",
              "      <td>0.0</td>\n",
              "      <td>0.0</td>\n",
              "      <td>0.0</td>\n",
              "      <td>0.0</td>\n",
              "      <td>0.0</td>\n",
              "      <td>0.0</td>\n",
              "      <td>0.000000</td>\n",
              "      <td>...</td>\n",
              "      <td>0.0</td>\n",
              "      <td>0.0</td>\n",
              "      <td>0.0</td>\n",
              "      <td>0.0</td>\n",
              "      <td>0.0</td>\n",
              "      <td>0.0</td>\n",
              "      <td>0.0</td>\n",
              "      <td>0.0</td>\n",
              "      <td>0.0</td>\n",
              "      <td>0.0</td>\n",
              "    </tr>\n",
              "  </tbody>\n",
              "</table>\n",
              "<p>2405 rows × 2716 columns</p>\n",
              "</div>\n",
              "      <button class=\"colab-df-convert\" onclick=\"convertToInteractive('df-75377b91-e4c5-4795-9a84-4020324bfc7c')\"\n",
              "              title=\"Convert this dataframe to an interactive table.\"\n",
              "              style=\"display:none;\">\n",
              "        \n",
              "  <svg xmlns=\"http://www.w3.org/2000/svg\" height=\"24px\"viewBox=\"0 0 24 24\"\n",
              "       width=\"24px\">\n",
              "    <path d=\"M0 0h24v24H0V0z\" fill=\"none\"/>\n",
              "    <path d=\"M18.56 5.44l.94 2.06.94-2.06 2.06-.94-2.06-.94-.94-2.06-.94 2.06-2.06.94zm-11 1L8.5 8.5l.94-2.06 2.06-.94-2.06-.94L8.5 2.5l-.94 2.06-2.06.94zm10 10l.94 2.06.94-2.06 2.06-.94-2.06-.94-.94-2.06-.94 2.06-2.06.94z\"/><path d=\"M17.41 7.96l-1.37-1.37c-.4-.4-.92-.59-1.43-.59-.52 0-1.04.2-1.43.59L10.3 9.45l-7.72 7.72c-.78.78-.78 2.05 0 2.83L4 21.41c.39.39.9.59 1.41.59.51 0 1.02-.2 1.41-.59l7.78-7.78 2.81-2.81c.8-.78.8-2.07 0-2.86zM5.41 20L4 18.59l7.72-7.72 1.47 1.35L5.41 20z\"/>\n",
              "  </svg>\n",
              "      </button>\n",
              "      \n",
              "  <style>\n",
              "    .colab-df-container {\n",
              "      display:flex;\n",
              "      flex-wrap:wrap;\n",
              "      gap: 12px;\n",
              "    }\n",
              "\n",
              "    .colab-df-convert {\n",
              "      background-color: #E8F0FE;\n",
              "      border: none;\n",
              "      border-radius: 50%;\n",
              "      cursor: pointer;\n",
              "      display: none;\n",
              "      fill: #1967D2;\n",
              "      height: 32px;\n",
              "      padding: 0 0 0 0;\n",
              "      width: 32px;\n",
              "    }\n",
              "\n",
              "    .colab-df-convert:hover {\n",
              "      background-color: #E2EBFA;\n",
              "      box-shadow: 0px 1px 2px rgba(60, 64, 67, 0.3), 0px 1px 3px 1px rgba(60, 64, 67, 0.15);\n",
              "      fill: #174EA6;\n",
              "    }\n",
              "\n",
              "    [theme=dark] .colab-df-convert {\n",
              "      background-color: #3B4455;\n",
              "      fill: #D2E3FC;\n",
              "    }\n",
              "\n",
              "    [theme=dark] .colab-df-convert:hover {\n",
              "      background-color: #434B5C;\n",
              "      box-shadow: 0px 1px 3px 1px rgba(0, 0, 0, 0.15);\n",
              "      filter: drop-shadow(0px 1px 2px rgba(0, 0, 0, 0.3));\n",
              "      fill: #FFFFFF;\n",
              "    }\n",
              "  </style>\n",
              "\n",
              "      <script>\n",
              "        const buttonEl =\n",
              "          document.querySelector('#df-75377b91-e4c5-4795-9a84-4020324bfc7c button.colab-df-convert');\n",
              "        buttonEl.style.display =\n",
              "          google.colab.kernel.accessAllowed ? 'block' : 'none';\n",
              "\n",
              "        async function convertToInteractive(key) {\n",
              "          const element = document.querySelector('#df-75377b91-e4c5-4795-9a84-4020324bfc7c');\n",
              "          const dataTable =\n",
              "            await google.colab.kernel.invokeFunction('convertToInteractive',\n",
              "                                                     [key], {});\n",
              "          if (!dataTable) return;\n",
              "\n",
              "          const docLinkHtml = 'Like what you see? Visit the ' +\n",
              "            '<a target=\"_blank\" href=https://colab.research.google.com/notebooks/data_table.ipynb>data table notebook</a>'\n",
              "            + ' to learn more about interactive tables.';\n",
              "          element.innerHTML = '';\n",
              "          dataTable['output_type'] = 'display_data';\n",
              "          await google.colab.output.renderOutput(dataTable, element);\n",
              "          const docLink = document.createElement('div');\n",
              "          docLink.innerHTML = docLinkHtml;\n",
              "          element.appendChild(docLink);\n",
              "        }\n",
              "      </script>\n",
              "    </div>\n",
              "  </div>\n",
              "  "
            ]
          },
          "metadata": {},
          "execution_count": 7
        }
      ]
    },
    {
      "cell_type": "markdown",
      "source": [
        "Now, try to explore some individual PCR test"
      ],
      "metadata": {
        "id": "Axr9xomvcxim"
      }
    },
    {
      "cell_type": "code",
      "source": [
        "mass_to_charge_names = list(float(f) for f in df.columns[1:])\n",
        "\n",
        "#try plotting Mass Spectrometry of Negative Case\n",
        "x = mass_to_charge_names\n",
        "y = df.iloc[[df[df['PCR_result'] == 'neg'].index[54]], 1:].values[0]\n",
        "plt.figure(figsize=(15,6))\n",
        "plt.bar(x, y, width=30)\n",
        "plt.ylim(0,max(y)+10)\n",
        "plt.xlabel('m/z')\n",
        "plt.ylabel('Intensity')\n",
        "plt.title('Negative')\n",
        "plt.show()"
      ],
      "metadata": {
        "colab": {
          "base_uri": "https://localhost:8080/",
          "height": 404
        },
        "id": "CMzHAbgzckEt",
        "outputId": "705b5fc4-ddad-4c1c-c89a-f5e58bb0e271"
      },
      "execution_count": null,
      "outputs": [
        {
          "output_type": "display_data",
          "data": {
            "text/plain": [
              "<Figure size 1080x432 with 1 Axes>"
            ],
            "image/png": "[encoded data removed]"
          },
          "metadata": {
            "needs_background": "light"
          }
        }
      ]
    },
    {
      "cell_type": "code",
      "source": [
        "#try plotting Mass Spectrometry of Positive Case\n",
        "x = mass_to_charge_names\n",
        "y = df.iloc[[df[df['PCR_result'] == 'pos'].index[54]], 1:].values[0]\n",
        "plt.figure(figsize=(15,6))\n",
        "plt.bar(x, y, width=30)\n",
        "plt.ylim(0,max(y)+10)\n",
        "plt.xlabel('m/z')\n",
        "plt.ylabel('Intensity')\n",
        "plt.title('Positive')\n",
        "plt.show()"
      ],
      "metadata": {
        "colab": {
          "base_uri": "https://localhost:8080/",
          "height": 404
        },
        "id": "L_w_t7BedX0h",
        "outputId": "0bc93776-c802-4711-bcae-9d25ec2a9d04"
      },
      "execution_count": null,
      "outputs": [
        {
          "output_type": "display_data",
          "data": {
            "text/plain": [
              "<Figure size 1080x432 with 1 Axes>"
            ],
            "image/png": "[encoded data removed]"
          },
          "metadata": {
            "needs_background": "light"
          }
        }
      ]
    },
    {
      "cell_type": "markdown",
      "source": [
        "By randomly selected from the dataset, I've found that, in Positive Case, there will be some values, around 200-300, shoot much higher than the negative case. (approximately 4 times)"
      ],
      "metadata": {
        "id": "qCnxKi4ueFtG"
      }
    },
    {
      "cell_type": "markdown",
      "source": [
        "Now, try to explore the data in other view using PCA. But, before I do that, I have done LabelEncoded the 'PCR_result' column. So I can use this processed data later."
      ],
      "metadata": {
        "id": "FJBGlZr1fc5Q"
      }
    },
    {
      "cell_type": "code",
      "source": [
        "#One-hot encoding\n",
        "le = LabelEncoder()\n",
        "df['PCR_result'] = le.fit_transform(df['PCR_result'])\n",
        "df"
      ],
      "metadata": {
        "colab": {
          "base_uri": "https://localhost:8080/",
          "height": 488
        },
        "id": "cMjLHnXegWth",
        "outputId": "bd91c13e-9e6f-4e90-ef52-df477f1d5ee3"
      },
      "execution_count": null,
      "outputs": [
        {
          "output_type": "execute_result",
          "data": {
            "text/plain": [
              "      PCR_result  244.17  244.38  245.48  246.44  246.69  247.36  247.99  \\\n",
              "0              1     0.0     0.0     0.0     0.0     0.0     0.0     0.0   \n",
              "1              1     0.0     0.0     0.0     0.0     0.0     0.0     0.0   \n",
              "2              1     0.0     0.0     0.0     0.0     0.0     0.0     0.0   \n",
              "3              1     0.0     0.0     0.0     0.0     0.0     0.0     0.0   \n",
              "4              1     0.0     0.0     0.0     0.0     0.0     0.0     0.0   \n",
              "...          ...     ...     ...     ...     ...     ...     ...     ...   \n",
              "3252           0     0.0     0.0     0.0     0.0     0.0     0.0     0.0   \n",
              "3253           0     0.0     0.0     0.0     0.0     0.0     0.0     0.0   \n",
              "3254           0     0.0     0.0     0.0     0.0     0.0     0.0     0.0   \n",
              "3255           0     0.0     0.0     0.0     0.0     0.0     0.0     0.0   \n",
              "3256           0     0.0     0.0     0.0     0.0     0.0     0.0     0.0   \n",
              "\n",
              "      248.21     248.6  ...  15406.61  15411.6  15417.97  15468.66  16531.56  \\\n",
              "0        0.0  0.000000  ...       0.0      0.0       0.0       0.0       0.0   \n",
              "1        0.0  0.000000  ...       0.0      0.0       0.0       0.0       0.0   \n",
              "2        0.0  0.000000  ...       0.0      0.0       0.0       0.0       0.0   \n",
              "3        0.0  0.890322  ...       0.0      0.0       0.0       0.0       0.0   \n",
              "4        0.0  0.000000  ...       0.0      0.0       0.0       0.0       0.0   \n",
              "...      ...       ...  ...       ...      ...       ...       ...       ...   \n",
              "3252     0.0  0.000000  ...       0.0      0.0       0.0       0.0       0.0   \n",
              "3253     0.0  0.000000  ...       0.0      0.0       0.0       0.0       0.0   \n",
              "3254     0.0  0.000000  ...       0.0      0.0       0.0       0.0       0.0   \n",
              "3255     0.0  0.000000  ...       0.0      0.0       0.0       0.0       0.0   \n",
              "3256     0.0  0.000000  ...       0.0      0.0       0.0       0.0       0.0   \n",
              "\n",
              "      16612.52  16810.09  17207.81  18738.92  20265.36  \n",
              "0          0.0       0.0       0.0       0.0       0.0  \n",
              "1          0.0       0.0       0.0       0.0       0.0  \n",
              "2          0.0       0.0       0.0       0.0       0.0  \n",
              "3          0.0       0.0       0.0       0.0       0.0  \n",
              "4          0.0       0.0       0.0       0.0       0.0  \n",
              "...        ...       ...       ...       ...       ...  \n",
              "3252       0.0       0.0       0.0       0.0       0.0  \n",
              "3253       0.0       0.0       0.0       0.0       0.0  \n",
              "3254       0.0       0.0       0.0       0.0       0.0  \n",
              "3255       0.0       0.0       0.0       0.0       0.0  \n",
              "3256       0.0       0.0       0.0       0.0       0.0  \n",
              "\n",
              "[2405 rows x 2716 columns]"
            ],
            "text/html": [
              "\n",
              "  <div id=\"df-d581e804-ecc2-42e9-a70b-9414114d6075\">\n",
              "    <div class=\"colab-df-container\">\n",
              "      <div>\n",
              "<style scoped>\n",
              "    .dataframe tbody tr th:only-of-type {\n",
              "        vertical-align: middle;\n",
              "    }\n",
              "\n",
              "    .dataframe tbody tr th {\n",
              "        vertical-align: top;\n",
              "    }\n",
              "\n",
              "    .dataframe thead th {\n",
              "        text-align: right;\n",
              "    }\n",
              "</style>\n",
              "<table border=\"1\" class=\"dataframe\">\n",
              "  <thead>\n",
              "    <tr style=\"text-align: right;\">\n",
              "      <th></th>\n",
              "      <th>PCR_result</th>\n",
              "      <th>244.17</th>\n",
              "      <th>244.38</th>\n",
              "      <th>245.48</th>\n",
              "      <th>246.44</th>\n",
              "      <th>246.69</th>\n",
              "      <th>247.36</th>\n",
              "      <th>247.99</th>\n",
              "      <th>248.21</th>\n",
              "      <th>248.6</th>\n",
              "      <th>...</th>\n",
              "      <th>15406.61</th>\n",
              "      <th>15411.6</th>\n",
              "      <th>15417.97</th>\n",
              "      <th>15468.66</th>\n",
              "      <th>16531.56</th>\n",
              "      <th>16612.52</th>\n",
              "      <th>16810.09</th>\n",
              "      <th>17207.81</th>\n",
              "      <th>18738.92</th>\n",
              "      <th>20265.36</th>\n",
              "    </tr>\n",
              "  </thead>\n",
              "  <tbody>\n",
              "    <tr>\n",
              "      <th>0</th>\n",
              "      <td>1</td>\n",
              "      <td>0.0</td>\n",
              "      <td>0.0</td>\n",
              "      <td>0.0</td>\n",
              "      <td>0.0</td>\n",
              "      <td>0.0</td>\n",
              "      <td>0.0</td>\n",
              "      <td>0.0</td>\n",
              "      <td>0.0</td>\n",
              "      <td>0.000000</td>\n",
              "      <td>...</td>\n",
              "      <td>0.0</td>\n",
              "      <td>0.0</td>\n",
              "      <td>0.0</td>\n",
              "      <td>0.0</td>\n",
              "      <td>0.0</td>\n",
              "      <td>0.0</td>\n",
              "      <td>0.0</td>\n",
              "      <td>0.0</td>\n",
              "      <td>0.0</td>\n",
              "      <td>0.0</td>\n",
              "    </tr>\n",
              "    <tr>\n",
              "      <th>1</th>\n",
              "      <td>1</td>\n",
              "      <td>0.0</td>\n",
              "      <td>0.0</td>\n",
              "      <td>0.0</td>\n",
              "      <td>0.0</td>\n",
              "      <td>0.0</td>\n",
              "      <td>0.0</td>\n",
              "      <td>0.0</td>\n",
              "      <td>0.0</td>\n",
              "      <td>0.000000</td>\n",
              "      <td>...</td>\n",
              "      <td>0.0</td>\n",
              "      <td>0.0</td>\n",
              "      <td>0.0</td>\n",
              "      <td>0.0</td>\n",
              "      <td>0.0</td>\n",
              "      <td>0.0</td>\n",
              "      <td>0.0</td>\n",
              "      <td>0.0</td>\n",
              "      <td>0.0</td>\n",
              "      <td>0.0</td>\n",
              "    </tr>\n",
              "    <tr>\n",
              "      <th>2</th>\n",
              "      <td>1</td>\n",
              "      <td>0.0</td>\n",
              "      <td>0.0</td>\n",
              "      <td>0.0</td>\n",
              "      <td>0.0</td>\n",
              "      <td>0.0</td>\n",
              "      <td>0.0</td>\n",
              "      <td>0.0</td>\n",
              "      <td>0.0</td>\n",
              "      <td>0.000000</td>\n",
              "      <td>...</td>\n",
              "      <td>0.0</td>\n",
              "      <td>0.0</td>\n",
              "      <td>0.0</td>\n",
              "      <td>0.0</td>\n",
              "      <td>0.0</td>\n",
              "      <td>0.0</td>\n",
              "      <td>0.0</td>\n",
              "      <td>0.0</td>\n",
              "      <td>0.0</td>\n",
              "      <td>0.0</td>\n",
              "    </tr>\n",
              "    <tr>\n",
              "      <th>3</th>\n",
              "      <td>1</td>\n",
              "      <td>0.0</td>\n",
              "      <td>0.0</td>\n",
              "      <td>0.0</td>\n",
              "      <td>0.0</td>\n",
              "      <td>0.0</td>\n",
              "      <td>0.0</td>\n",
              "      <td>0.0</td>\n",
              "      <td>0.0</td>\n",
              "      <td>0.890322</td>\n",
              "      <td>...</td>\n",
              "      <td>0.0</td>\n",
              "      <td>0.0</td>\n",
              "      <td>0.0</td>\n",
              "      <td>0.0</td>\n",
              "      <td>0.0</td>\n",
              "      <td>0.0</td>\n",
              "      <td>0.0</td>\n",
              "      <td>0.0</td>\n",
              "      <td>0.0</td>\n",
              "      <td>0.0</td>\n",
              "    </tr>\n",
              "    <tr>\n",
              "      <th>4</th>\n",
              "      <td>1</td>\n",
              "      <td>0.0</td>\n",
              "      <td>0.0</td>\n",
              "      <td>0.0</td>\n",
              "      <td>0.0</td>\n",
              "      <td>0.0</td>\n",
              "      <td>0.0</td>\n",
              "      <td>0.0</td>\n",
              "      <td>0.0</td>\n",
              "      <td>0.000000</td>\n",
              "      <td>...</td>\n",
              "      <td>0.0</td>\n",
              "      <td>0.0</td>\n",
              "      <td>0.0</td>\n",
              "      <td>0.0</td>\n",
              "      <td>0.0</td>\n",
              "      <td>0.0</td>\n",
              "      <td>0.0</td>\n",
              "      <td>0.0</td>\n",
              "      <td>0.0</td>\n",
              "      <td>0.0</td>\n",
              "    </tr>\n",
              "    <tr>\n",
              "      <th>...</th>\n",
              "      <td>...</td>\n",
              "      <td>...</td>\n",
              "      <td>...</td>\n",
              "      <td>...</td>\n",
              "      <td>...</td>\n",
              "      <td>...</td>\n",
              "      <td>...</td>\n",
              "      <td>...</td>\n",
              "      <td>...</td>\n",
              "      <td>...</td>\n",
              "      <td>...</td>\n",
              "      <td>...</td>\n",
              "      <td>...</td>\n",
              "      <td>...</td>\n",
              "      <td>...</td>\n",
              "      <td>...</td>\n",
              "      <td>...</td>\n",
              "      <td>...</td>\n",
              "      <td>...</td>\n",
              "      <td>...</td>\n",
              "      <td>...</td>\n",
              "    </tr>\n",
              "    <tr>\n",
              "      <th>3252</th>\n",
              "      <td>0</td>\n",
              "      <td>0.0</td>\n",
              "      <td>0.0</td>\n",
              "      <td>0.0</td>\n",
              "      <td>0.0</td>\n",
              "      <td>0.0</td>\n",
              "      <td>0.0</td>\n",
              "      <td>0.0</td>\n",
              "      <td>0.0</td>\n",
              "      <td>0.000000</td>\n",
              "      <td>...</td>\n",
              "      <td>0.0</td>\n",
              "      <td>0.0</td>\n",
              "      <td>0.0</td>\n",
              "      <td>0.0</td>\n",
              "      <td>0.0</td>\n",
              "      <td>0.0</td>\n",
              "      <td>0.0</td>\n",
              "      <td>0.0</td>\n",
              "      <td>0.0</td>\n",
              "      <td>0.0</td>\n",
              "    </tr>\n",
              "    <tr>\n",
              "      <th>3253</th>\n",
              "      <td>0</td>\n",
              "      <td>0.0</td>\n",
              "      <td>0.0</td>\n",
              "      <td>0.0</td>\n",
              "      <td>0.0</td>\n",
              "      <td>0.0</td>\n",
              "      <td>0.0</td>\n",
              "      <td>0.0</td>\n",
              "      <td>0.0</td>\n",
              "      <td>0.000000</td>\n",
              "      <td>...</td>\n",
              "      <td>0.0</td>\n",
              "      <td>0.0</td>\n",
              "      <td>0.0</td>\n",
              "      <td>0.0</td>\n",
              "      <td>0.0</td>\n",
              "      <td>0.0</td>\n",
              "      <td>0.0</td>\n",
              "      <td>0.0</td>\n",
              "      <td>0.0</td>\n",
              "      <td>0.0</td>\n",
              "    </tr>\n",
              "    <tr>\n",
              "      <th>3254</th>\n",
              "      <td>0</td>\n",
              "      <td>0.0</td>\n",
              "      <td>0.0</td>\n",
              "      <td>0.0</td>\n",
              "      <td>0.0</td>\n",
              "      <td>0.0</td>\n",
              "      <td>0.0</td>\n",
              "      <td>0.0</td>\n",
              "      <td>0.0</td>\n",
              "      <td>0.000000</td>\n",
              "      <td>...</td>\n",
              "      <td>0.0</td>\n",
              "      <td>0.0</td>\n",
              "      <td>0.0</td>\n",
              "      <td>0.0</td>\n",
              "      <td>0.0</td>\n",
              "      <td>0.0</td>\n",
              "      <td>0.0</td>\n",
              "      <td>0.0</td>\n",
              "      <td>0.0</td>\n",
              "      <td>0.0</td>\n",
              "    </tr>\n",
              "    <tr>\n",
              "      <th>3255</th>\n",
              "      <td>0</td>\n",
              "      <td>0.0</td>\n",
              "      <td>0.0</td>\n",
              "      <td>0.0</td>\n",
              "      <td>0.0</td>\n",
              "      <td>0.0</td>\n",
              "      <td>0.0</td>\n",
              "      <td>0.0</td>\n",
              "      <td>0.0</td>\n",
              "      <td>0.000000</td>\n",
              "      <td>...</td>\n",
              "      <td>0.0</td>\n",
              "      <td>0.0</td>\n",
              "      <td>0.0</td>\n",
              "      <td>0.0</td>\n",
              "      <td>0.0</td>\n",
              "      <td>0.0</td>\n",
              "      <td>0.0</td>\n",
              "      <td>0.0</td>\n",
              "      <td>0.0</td>\n",
              "      <td>0.0</td>\n",
              "    </tr>\n",
              "    <tr>\n",
              "      <th>3256</th>\n",
              "      <td>0</td>\n",
              "      <td>0.0</td>\n",
              "      <td>0.0</td>\n",
              "      <td>0.0</td>\n",
              "      <td>0.0</td>\n",
              "      <td>0.0</td>\n",
              "      <td>0.0</td>\n",
              "      <td>0.0</td>\n",
              "      <td>0.0</td>\n",
              "      <td>0.000000</td>\n",
              "      <td>...</td>\n",
              "      <td>0.0</td>\n",
              "      <td>0.0</td>\n",
              "      <td>0.0</td>\n",
              "      <td>0.0</td>\n",
              "      <td>0.0</td>\n",
              "      <td>0.0</td>\n",
              "      <td>0.0</td>\n",
              "      <td>0.0</td>\n",
              "      <td>0.0</td>\n",
              "      <td>0.0</td>\n",
              "    </tr>\n",
              "  </tbody>\n",
              "</table>\n",
              "<p>2405 rows × 2716 columns</p>\n",
              "</div>\n",
              "      <button class=\"colab-df-convert\" onclick=\"convertToInteractive('df-d581e804-ecc2-42e9-a70b-9414114d6075')\"\n",
              "              title=\"Convert this dataframe to an interactive table.\"\n",
              "              style=\"display:none;\">\n",
              "        \n",
              "  <svg xmlns=\"http://www.w3.org/2000/svg\" height=\"24px\"viewBox=\"0 0 24 24\"\n",
              "       width=\"24px\">\n",
              "    <path d=\"M0 0h24v24H0V0z\" fill=\"none\"/>\n",
              "    <path d=\"M18.56 5.44l.94 2.06.94-2.06 2.06-.94-2.06-.94-.94-2.06-.94 2.06-2.06.94zm-11 1L8.5 8.5l.94-2.06 2.06-.94-2.06-.94L8.5 2.5l-.94 2.06-2.06.94zm10 10l.94 2.06.94-2.06 2.06-.94-2.06-.94-.94-2.06-.94 2.06-2.06.94z\"/><path d=\"M17.41 7.96l-1.37-1.37c-.4-.4-.92-.59-1.43-.59-.52 0-1.04.2-1.43.59L10.3 9.45l-7.72 7.72c-.78.78-.78 2.05 0 2.83L4 21.41c.39.39.9.59 1.41.59.51 0 1.02-.2 1.41-.59l7.78-7.78 2.81-2.81c.8-.78.8-2.07 0-2.86zM5.41 20L4 18.59l7.72-7.72 1.47 1.35L5.41 20z\"/>\n",
              "  </svg>\n",
              "      </button>\n",
              "      \n",
              "  <style>\n",
              "    .colab-df-container {\n",
              "      display:flex;\n",
              "      flex-wrap:wrap;\n",
              "      gap: 12px;\n",
              "    }\n",
              "\n",
              "    .colab-df-convert {\n",
              "      background-color: #E8F0FE;\n",
              "      border: none;\n",
              "      border-radius: 50%;\n",
              "      cursor: pointer;\n",
              "      display: none;\n",
              "      fill: #1967D2;\n",
              "      height: 32px;\n",
              "      padding: 0 0 0 0;\n",
              "      width: 32px;\n",
              "    }\n",
              "\n",
              "    .colab-df-convert:hover {\n",
              "      background-color: #E2EBFA;\n",
              "      box-shadow: 0px 1px 2px rgba(60, 64, 67, 0.3), 0px 1px 3px 1px rgba(60, 64, 67, 0.15);\n",
              "      fill: #174EA6;\n",
              "    }\n",
              "\n",
              "    [theme=dark] .colab-df-convert {\n",
              "      background-color: #3B4455;\n",
              "      fill: #D2E3FC;\n",
              "    }\n",
              "\n",
              "    [theme=dark] .colab-df-convert:hover {\n",
              "      background-color: #434B5C;\n",
              "      box-shadow: 0px 1px 3px 1px rgba(0, 0, 0, 0.15);\n",
              "      filter: drop-shadow(0px 1px 2px rgba(0, 0, 0, 0.3));\n",
              "      fill: #FFFFFF;\n",
              "    }\n",
              "  </style>\n",
              "\n",
              "      <script>\n",
              "        const buttonEl =\n",
              "          document.querySelector('#df-d581e804-ecc2-42e9-a70b-9414114d6075 button.colab-df-convert');\n",
              "        buttonEl.style.display =\n",
              "          google.colab.kernel.accessAllowed ? 'block' : 'none';\n",
              "\n",
              "        async function convertToInteractive(key) {\n",
              "          const element = document.querySelector('#df-d581e804-ecc2-42e9-a70b-9414114d6075');\n",
              "          const dataTable =\n",
              "            await google.colab.kernel.invokeFunction('convertToInteractive',\n",
              "                                                     [key], {});\n",
              "          if (!dataTable) return;\n",
              "\n",
              "          const docLinkHtml = 'Like what you see? Visit the ' +\n",
              "            '<a target=\"_blank\" href=https://colab.research.google.com/notebooks/data_table.ipynb>data table notebook</a>'\n",
              "            + ' to learn more about interactive tables.';\n",
              "          element.innerHTML = '';\n",
              "          dataTable['output_type'] = 'display_data';\n",
              "          await google.colab.output.renderOutput(dataTable, element);\n",
              "          const docLink = document.createElement('div');\n",
              "          docLink.innerHTML = docLinkHtml;\n",
              "          element.appendChild(docLink);\n",
              "        }\n",
              "      </script>\n",
              "    </div>\n",
              "  </div>\n",
              "  "
            ]
          },
          "metadata": {},
          "execution_count": 10
        }
      ]
    },
    {
      "cell_type": "markdown",
      "source": [
        "Separate Features from Target"
      ],
      "metadata": {
        "id": "U6iVwjLAfwB3"
      }
    },
    {
      "cell_type": "code",
      "source": [
        "X = df.iloc[:, 1:].values\n",
        "y = df.iloc[:, [0]].values"
      ],
      "metadata": {
        "id": "dqkivUXIdiaJ"
      },
      "execution_count": null,
      "outputs": []
    },
    {
      "cell_type": "code",
      "source": [
        "y = y.reshape((1,len(y)))[0]\n",
        "y"
      ],
      "metadata": {
        "colab": {
          "base_uri": "https://localhost:8080/"
        },
        "id": "XbvRs-Uwe71G",
        "outputId": "c2fa3b5d-09ed-49e2-fda1-da7845e6d952"
      },
      "execution_count": null,
      "outputs": [
        {
          "output_type": "execute_result",
          "data": {
            "text/plain": [
              "array([1, 1, 1, ..., 0, 0, 0])"
            ]
          },
          "metadata": {},
          "execution_count": 12
        }
      ]
    },
    {
      "cell_type": "markdown",
      "source": [
        "Then, use PCA to reduce data dimension to two."
      ],
      "metadata": {
        "id": "rCcZjyrlglM1"
      }
    },
    {
      "cell_type": "code",
      "source": [
        "pca = PCA(n_components=2)\n",
        "X_pca = pca.fit_transform(X)\n",
        "pd.DataFrame(X_pca, index=None)"
      ],
      "metadata": {
        "colab": {
          "base_uri": "https://localhost:8080/",
          "height": 424
        },
        "id": "YvW4K5Fyf2Ki",
        "outputId": "15698f8f-103a-4257-c94e-7df1fe8ffed3"
      },
      "execution_count": null,
      "outputs": [
        {
          "output_type": "execute_result",
          "data": {
            "text/plain": [
              "              0           1\n",
              "0    -75.517316  105.006960\n",
              "1    -90.942621    5.738250\n",
              "2    -58.392977   65.878624\n",
              "3    -78.387865   78.953792\n",
              "4    -65.965307   57.276633\n",
              "...         ...         ...\n",
              "2400  14.397569  -58.001146\n",
              "2401  29.324402  -50.941446\n",
              "2402  -3.138195  -57.682515\n",
              "2403 -49.668507  -65.590054\n",
              "2404 -25.679494  -65.708058\n",
              "\n",
              "[2405 rows x 2 columns]"
            ],
            "text/html": [
              "\n",
              "  <div id=\"df-5d555cc3-761e-4b13-823c-9ff201952bcc\">\n",
              "    <div class=\"colab-df-container\">\n",
              "      <div>\n",
              "<style scoped>\n",
              "    .dataframe tbody tr th:only-of-type {\n",
              "        vertical-align: middle;\n",
              "    }\n",
              "\n",
              "    .dataframe tbody tr th {\n",
              "        vertical-align: top;\n",
              "    }\n",
              "\n",
              "    .dataframe thead th {\n",
              "        text-align: right;\n",
              "    }\n",
              "</style>\n",
              "<table border=\"1\" class=\"dataframe\">\n",
              "  <thead>\n",
              "    <tr style=\"text-align: right;\">\n",
              "      <th></th>\n",
              "      <th>0</th>\n",
              "      <th>1</th>\n",
              "    </tr>\n",
              "  </thead>\n",
              "  <tbody>\n",
              "    <tr>\n",
              "      <th>0</th>\n",
              "      <td>-75.517316</td>\n",
              "      <td>105.006960</td>\n",
              "    </tr>\n",
              "    <tr>\n",
              "      <th>1</th>\n",
              "      <td>-90.942621</td>\n",
              "      <td>5.738250</td>\n",
              "    </tr>\n",
              "    <tr>\n",
              "      <th>2</th>\n",
              "      <td>-58.392977</td>\n",
              "      <td>65.878624</td>\n",
              "    </tr>\n",
              "    <tr>\n",
              "      <th>3</th>\n",
              "      <td>-78.387865</td>\n",
              "      <td>78.953792</td>\n",
              "    </tr>\n",
              "    <tr>\n",
              "      <th>4</th>\n",
              "      <td>-65.965307</td>\n",
              "      <td>57.276633</td>\n",
              "    </tr>\n",
              "    <tr>\n",
              "      <th>...</th>\n",
              "      <td>...</td>\n",
              "      <td>...</td>\n",
              "    </tr>\n",
              "    <tr>\n",
              "      <th>2400</th>\n",
              "      <td>14.397569</td>\n",
              "      <td>-58.001146</td>\n",
              "    </tr>\n",
              "    <tr>\n",
              "      <th>2401</th>\n",
              "      <td>29.324402</td>\n",
              "      <td>-50.941446</td>\n",
              "    </tr>\n",
              "    <tr>\n",
              "      <th>2402</th>\n",
              "      <td>-3.138195</td>\n",
              "      <td>-57.682515</td>\n",
              "    </tr>\n",
              "    <tr>\n",
              "      <th>2403</th>\n",
              "      <td>-49.668507</td>\n",
              "      <td>-65.590054</td>\n",
              "    </tr>\n",
              "    <tr>\n",
              "      <th>2404</th>\n",
              "      <td>-25.679494</td>\n",
              "      <td>-65.708058</td>\n",
              "    </tr>\n",
              "  </tbody>\n",
              "</table>\n",
              "<p>2405 rows × 2 columns</p>\n",
              "</div>\n",
              "      <button class=\"colab-df-convert\" onclick=\"convertToInteractive('df-5d555cc3-761e-4b13-823c-9ff201952bcc')\"\n",
              "              title=\"Convert this dataframe to an interactive table.\"\n",
              "              style=\"display:none;\">\n",
              "        \n",
              "  <svg xmlns=\"http://www.w3.org/2000/svg\" height=\"24px\"viewBox=\"0 0 24 24\"\n",
              "       width=\"24px\">\n",
              "    <path d=\"M0 0h24v24H0V0z\" fill=\"none\"/>\n",
              "    <path d=\"M18.56 5.44l.94 2.06.94-2.06 2.06-.94-2.06-.94-.94-2.06-.94 2.06-2.06.94zm-11 1L8.5 8.5l.94-2.06 2.06-.94-2.06-.94L8.5 2.5l-.94 2.06-2.06.94zm10 10l.94 2.06.94-2.06 2.06-.94-2.06-.94-.94-2.06-.94 2.06-2.06.94z\"/><path d=\"M17.41 7.96l-1.37-1.37c-.4-.4-.92-.59-1.43-.59-.52 0-1.04.2-1.43.59L10.3 9.45l-7.72 7.72c-.78.78-.78 2.05 0 2.83L4 21.41c.39.39.9.59 1.41.59.51 0 1.02-.2 1.41-.59l7.78-7.78 2.81-2.81c.8-.78.8-2.07 0-2.86zM5.41 20L4 18.59l7.72-7.72 1.47 1.35L5.41 20z\"/>\n",
              "  </svg>\n",
              "      </button>\n",
              "      \n",
              "  <style>\n",
              "    .colab-df-container {\n",
              "      display:flex;\n",
              "      flex-wrap:wrap;\n",
              "      gap: 12px;\n",
              "    }\n",
              "\n",
              "    .colab-df-convert {\n",
              "      background-color: #E8F0FE;\n",
              "      border: none;\n",
              "      border-radius: 50%;\n",
              "      cursor: pointer;\n",
              "      display: none;\n",
              "      fill: #1967D2;\n",
              "      height: 32px;\n",
              "      padding: 0 0 0 0;\n",
              "      width: 32px;\n",
              "    }\n",
              "\n",
              "    .colab-df-convert:hover {\n",
              "      background-color: #E2EBFA;\n",
              "      box-shadow: 0px 1px 2px rgba(60, 64, 67, 0.3), 0px 1px 3px 1px rgba(60, 64, 67, 0.15);\n",
              "      fill: #174EA6;\n",
              "    }\n",
              "\n",
              "    [theme=dark] .colab-df-convert {\n",
              "      background-color: #3B4455;\n",
              "      fill: #D2E3FC;\n",
              "    }\n",
              "\n",
              "    [theme=dark] .colab-df-convert:hover {\n",
              "      background-color: #434B5C;\n",
              "      box-shadow: 0px 1px 3px 1px rgba(0, 0, 0, 0.15);\n",
              "      filter: drop-shadow(0px 1px 2px rgba(0, 0, 0, 0.3));\n",
              "      fill: #FFFFFF;\n",
              "    }\n",
              "  </style>\n",
              "\n",
              "      <script>\n",
              "        const buttonEl =\n",
              "          document.querySelector('#df-5d555cc3-761e-4b13-823c-9ff201952bcc button.colab-df-convert');\n",
              "        buttonEl.style.display =\n",
              "          google.colab.kernel.accessAllowed ? 'block' : 'none';\n",
              "\n",
              "        async function convertToInteractive(key) {\n",
              "          const element = document.querySelector('#df-5d555cc3-761e-4b13-823c-9ff201952bcc');\n",
              "          const dataTable =\n",
              "            await google.colab.kernel.invokeFunction('convertToInteractive',\n",
              "                                                     [key], {});\n",
              "          if (!dataTable) return;\n",
              "\n",
              "          const docLinkHtml = 'Like what you see? Visit the ' +\n",
              "            '<a target=\"_blank\" href=https://colab.research.google.com/notebooks/data_table.ipynb>data table notebook</a>'\n",
              "            + ' to learn more about interactive tables.';\n",
              "          element.innerHTML = '';\n",
              "          dataTable['output_type'] = 'display_data';\n",
              "          await google.colab.output.renderOutput(dataTable, element);\n",
              "          const docLink = document.createElement('div');\n",
              "          docLink.innerHTML = docLinkHtml;\n",
              "          element.appendChild(docLink);\n",
              "        }\n",
              "      </script>\n",
              "    </div>\n",
              "  </div>\n",
              "  "
            ]
          },
          "metadata": {},
          "execution_count": 13
        }
      ]
    },
    {
      "cell_type": "code",
      "source": [
        "df_plot = pd.concat([pd.DataFrame(X_pca), pd.DataFrame(y)], axis=1)\n",
        "df_plot.columns = ['pca_1', 'pca_2', 'target']\n",
        "df_plot"
      ],
      "metadata": {
        "colab": {
          "base_uri": "https://localhost:8080/",
          "height": 424
        },
        "id": "IUjf4IH5gucS",
        "outputId": "151e1d92-c88d-40e7-f6be-b5964a44bbab"
      },
      "execution_count": null,
      "outputs": [
        {
          "output_type": "execute_result",
          "data": {
            "text/plain": [
              "          pca_1       pca_2  target\n",
              "0    -75.517316  105.006960       1\n",
              "1    -90.942621    5.738250       1\n",
              "2    -58.392977   65.878624       1\n",
              "3    -78.387865   78.953792       1\n",
              "4    -65.965307   57.276633       1\n",
              "...         ...         ...     ...\n",
              "2400  14.397569  -58.001146       0\n",
              "2401  29.324402  -50.941446       0\n",
              "2402  -3.138195  -57.682515       0\n",
              "2403 -49.668507  -65.590054       0\n",
              "2404 -25.679494  -65.708058       0\n",
              "\n",
              "[2405 rows x 3 columns]"
            ],
            "text/html": [
              "\n",
              "  <div id=\"df-4279eeaa-9d81-40e0-8524-b827f077eb04\">\n",
              "    <div class=\"colab-df-container\">\n",
              "      <div>\n",
              "<style scoped>\n",
              "    .dataframe tbody tr th:only-of-type {\n",
              "        vertical-align: middle;\n",
              "    }\n",
              "\n",
              "    .dataframe tbody tr th {\n",
              "        vertical-align: top;\n",
              "    }\n",
              "\n",
              "    .dataframe thead th {\n",
              "        text-align: right;\n",
              "    }\n",
              "</style>\n",
              "<table border=\"1\" class=\"dataframe\">\n",
              "  <thead>\n",
              "    <tr style=\"text-align: right;\">\n",
              "      <th></th>\n",
              "      <th>pca_1</th>\n",
              "      <th>pca_2</th>\n",
              "      <th>target</th>\n",
              "    </tr>\n",
              "  </thead>\n",
              "  <tbody>\n",
              "    <tr>\n",
              "      <th>0</th>\n",
              "      <td>-75.517316</td>\n",
              "      <td>105.006960</td>\n",
              "      <td>1</td>\n",
              "    </tr>\n",
              "    <tr>\n",
              "      <th>1</th>\n",
              "      <td>-90.942621</td>\n",
              "      <td>5.738250</td>\n",
              "      <td>1</td>\n",
              "    </tr>\n",
              "    <tr>\n",
              "      <th>2</th>\n",
              "      <td>-58.392977</td>\n",
              "      <td>65.878624</td>\n",
              "      <td>1</td>\n",
              "    </tr>\n",
              "    <tr>\n",
              "      <th>3</th>\n",
              "      <td>-78.387865</td>\n",
              "      <td>78.953792</td>\n",
              "      <td>1</td>\n",
              "    </tr>\n",
              "    <tr>\n",
              "      <th>4</th>\n",
              "      <td>-65.965307</td>\n",
              "      <td>57.276633</td>\n",
              "      <td>1</td>\n",
              "    </tr>\n",
              "    <tr>\n",
              "      <th>...</th>\n",
              "      <td>...</td>\n",
              "      <td>...</td>\n",
              "      <td>...</td>\n",
              "    </tr>\n",
              "    <tr>\n",
              "      <th>2400</th>\n",
              "      <td>14.397569</td>\n",
              "      <td>-58.001146</td>\n",
              "      <td>0</td>\n",
              "    </tr>\n",
              "    <tr>\n",
              "      <th>2401</th>\n",
              "      <td>29.324402</td>\n",
              "      <td>-50.941446</td>\n",
              "      <td>0</td>\n",
              "    </tr>\n",
              "    <tr>\n",
              "      <th>2402</th>\n",
              "      <td>-3.138195</td>\n",
              "      <td>-57.682515</td>\n",
              "      <td>0</td>\n",
              "    </tr>\n",
              "    <tr>\n",
              "      <th>2403</th>\n",
              "      <td>-49.668507</td>\n",
              "      <td>-65.590054</td>\n",
              "      <td>0</td>\n",
              "    </tr>\n",
              "    <tr>\n",
              "      <th>2404</th>\n",
              "      <td>-25.679494</td>\n",
              "      <td>-65.708058</td>\n",
              "      <td>0</td>\n",
              "    </tr>\n",
              "  </tbody>\n",
              "</table>\n",
              "<p>2405 rows × 3 columns</p>\n",
              "</div>\n",
              "      <button class=\"colab-df-convert\" onclick=\"convertToInteractive('df-4279eeaa-9d81-40e0-8524-b827f077eb04')\"\n",
              "              title=\"Convert this dataframe to an interactive table.\"\n",
              "              style=\"display:none;\">\n",
              "        \n",
              "  <svg xmlns=\"http://www.w3.org/2000/svg\" height=\"24px\"viewBox=\"0 0 24 24\"\n",
              "       width=\"24px\">\n",
              "    <path d=\"M0 0h24v24H0V0z\" fill=\"none\"/>\n",
              "    <path d=\"M18.56 5.44l.94 2.06.94-2.06 2.06-.94-2.06-.94-.94-2.06-.94 2.06-2.06.94zm-11 1L8.5 8.5l.94-2.06 2.06-.94-2.06-.94L8.5 2.5l-.94 2.06-2.06.94zm10 10l.94 2.06.94-2.06 2.06-.94-2.06-.94-.94-2.06-.94 2.06-2.06.94z\"/><path d=\"M17.41 7.96l-1.37-1.37c-.4-.4-.92-.59-1.43-.59-.52 0-1.04.2-1.43.59L10.3 9.45l-7.72 7.72c-.78.78-.78 2.05 0 2.83L4 21.41c.39.39.9.59 1.41.59.51 0 1.02-.2 1.41-.59l7.78-7.78 2.81-2.81c.8-.78.8-2.07 0-2.86zM5.41 20L4 18.59l7.72-7.72 1.47 1.35L5.41 20z\"/>\n",
              "  </svg>\n",
              "      </button>\n",
              "      \n",
              "  <style>\n",
              "    .colab-df-container {\n",
              "      display:flex;\n",
              "      flex-wrap:wrap;\n",
              "      gap: 12px;\n",
              "    }\n",
              "\n",
              "    .colab-df-convert {\n",
              "      background-color: #E8F0FE;\n",
              "      border: none;\n",
              "      border-radius: 50%;\n",
              "      cursor: pointer;\n",
              "      display: none;\n",
              "      fill: #1967D2;\n",
              "      height: 32px;\n",
              "      padding: 0 0 0 0;\n",
              "      width: 32px;\n",
              "    }\n",
              "\n",
              "    .colab-df-convert:hover {\n",
              "      background-color: #E2EBFA;\n",
              "      box-shadow: 0px 1px 2px rgba(60, 64, 67, 0.3), 0px 1px 3px 1px rgba(60, 64, 67, 0.15);\n",
              "      fill: #174EA6;\n",
              "    }\n",
              "\n",
              "    [theme=dark] .colab-df-convert {\n",
              "      background-color: #3B4455;\n",
              "      fill: #D2E3FC;\n",
              "    }\n",
              "\n",
              "    [theme=dark] .colab-df-convert:hover {\n",
              "      background-color: #434B5C;\n",
              "      box-shadow: 0px 1px 3px 1px rgba(0, 0, 0, 0.15);\n",
              "      filter: drop-shadow(0px 1px 2px rgba(0, 0, 0, 0.3));\n",
              "      fill: #FFFFFF;\n",
              "    }\n",
              "  </style>\n",
              "\n",
              "      <script>\n",
              "        const buttonEl =\n",
              "          document.querySelector('#df-4279eeaa-9d81-40e0-8524-b827f077eb04 button.colab-df-convert');\n",
              "        buttonEl.style.display =\n",
              "          google.colab.kernel.accessAllowed ? 'block' : 'none';\n",
              "\n",
              "        async function convertToInteractive(key) {\n",
              "          const element = document.querySelector('#df-4279eeaa-9d81-40e0-8524-b827f077eb04');\n",
              "          const dataTable =\n",
              "            await google.colab.kernel.invokeFunction('convertToInteractive',\n",
              "                                                     [key], {});\n",
              "          if (!dataTable) return;\n",
              "\n",
              "          const docLinkHtml = 'Like what you see? Visit the ' +\n",
              "            '<a target=\"_blank\" href=https://colab.research.google.com/notebooks/data_table.ipynb>data table notebook</a>'\n",
              "            + ' to learn more about interactive tables.';\n",
              "          element.innerHTML = '';\n",
              "          dataTable['output_type'] = 'display_data';\n",
              "          await google.colab.output.renderOutput(dataTable, element);\n",
              "          const docLink = document.createElement('div');\n",
              "          docLink.innerHTML = docLinkHtml;\n",
              "          element.appendChild(docLink);\n",
              "        }\n",
              "      </script>\n",
              "    </div>\n",
              "  </div>\n",
              "  "
            ]
          },
          "metadata": {},
          "execution_count": 14
        }
      ]
    },
    {
      "cell_type": "code",
      "source": [
        "sns.scatterplot(data=df_plot, x='pca_1', y='pca_2', hue='target')"
      ],
      "metadata": {
        "colab": {
          "base_uri": "https://localhost:8080/",
          "height": 298
        },
        "id": "RXKqXTiKgyel",
        "outputId": "5cf0b57d-966f-47e5-c00e-cd7c8e4e313d"
      },
      "execution_count": null,
      "outputs": [
        {
          "output_type": "execute_result",
          "data": {
            "text/plain": [
              "<matplotlib.axes._subplots.AxesSubplot at 0x7f45c47c2050>"
            ]
          },
          "metadata": {},
          "execution_count": 15
        },
        {
          "output_type": "display_data",
          "data": {
            "text/plain": [
              "<Figure size 432x288 with 1 Axes>"
            ],
            "image/png": "[encoded data removed]"
          },
          "metadata": {
            "needs_background": "light"
          }
        }
      ]
    },
    {
      "cell_type": "markdown",
      "source": [
        "From the chart, it has been suspected that \"Linear Model\" may provide better accuracy. However, I will run all models to compare each model before selection."
      ],
      "metadata": {
        "id": "ulQjhaWqhDSn"
      }
    },
    {
      "cell_type": "markdown",
      "source": [
        "### Prepare data for training and validation."
      ],
      "metadata": {
        "id": "RQLksZWkiyaW"
      }
    },
    {
      "cell_type": "code",
      "source": [
        "X_train, X_test, y_train, y_test = train_test_split(X, y, test_size=0.3, random_state=0)"
      ],
      "metadata": {
        "id": "9xt7AjbyixqJ"
      },
      "execution_count": null,
      "outputs": []
    },
    {
      "cell_type": "code",
      "source": [
        "X_train.shape"
      ],
      "metadata": {
        "colab": {
          "base_uri": "https://localhost:8080/"
        },
        "id": "XcrwbIdoi73S",
        "outputId": "8fd2c426-4372-4170-cba3-ce96ac612d9f"
      },
      "execution_count": null,
      "outputs": [
        {
          "output_type": "execute_result",
          "data": {
            "text/plain": [
              "(1683, 2715)"
            ]
          },
          "metadata": {},
          "execution_count": 17
        }
      ]
    },
    {
      "cell_type": "code",
      "source": [
        "X_test.shape"
      ],
      "metadata": {
        "colab": {
          "base_uri": "https://localhost:8080/"
        },
        "id": "IJ7i-2yvi9w5",
        "outputId": "ec834440-b670-44c1-b324-11aed34ad147"
      },
      "execution_count": null,
      "outputs": [
        {
          "output_type": "execute_result",
          "data": {
            "text/plain": [
              "(722, 2715)"
            ]
          },
          "metadata": {},
          "execution_count": 18
        }
      ]
    },
    {
      "cell_type": "markdown",
      "source": [
        "Now, standardize the data."
      ],
      "metadata": {
        "id": "8hyBzC-simQO"
      }
    },
    {
      "cell_type": "code",
      "source": [
        "sc = StandardScaler()\n",
        "X_train_sc = sc.fit_transform(X_train)\n",
        "X_test_sc = sc.transform(X_test)"
      ],
      "metadata": {
        "id": "iE_wtTIkireD"
      },
      "execution_count": null,
      "outputs": []
    },
    {
      "cell_type": "markdown",
      "source": [
        "# Prepare Utilities"
      ],
      "metadata": {
        "id": "yJBClOv3hjep"
      }
    },
    {
      "cell_type": "markdown",
      "source": [
        "Prepare utilities, so complete model report will be easily executed."
      ],
      "metadata": {
        "id": "X2nMEr0ZhrsT"
      }
    },
    {
      "cell_type": "code",
      "source": [
        "def cross_validate(model):\n",
        "    accuracies = cross_val_score(estimator=model, X=X_train_sc, y=y_train, cv=10)\n",
        "    for idx, f in enumerate(accuracies):\n",
        "      print(f'Accuracy of fold {idx}', round(f, 3))\n",
        "    print(\"Mean Accuracy of Cross Validation: {:.2f}%\".format(accuracies.mean()*100))\n",
        "    print(\"Standard Deviation: {:.2f}%\".format(accuracies.std()*100))\n",
        "\n",
        "def report_classification_metrics(y_test, y_pred):\n",
        "    f1 = f1_score(y_test, y_pred)\n",
        "    precision = precision_score(y_test, y_pred)\n",
        "    recall = recall_score(y_test, y_pred)\n",
        "    print(classification_report(y_test, y_pred))\n",
        "    return f1, precision, recall\n",
        "\n",
        "def store_model_summary(model_name, accuracy, auc, f1, precision, recall):\n",
        "    model_collection['Model'].append(model_name)\n",
        "    model_collection['Accuracy'].append(accuracy)\n",
        "    model_collection['F1 Score'].append(f1)\n",
        "    model_collection['Precision'].append(precision)\n",
        "    model_collection['Recall'].append(recall)\n",
        "    model_collection['AUC'].append(auc)\n",
        "\n",
        "model_collection = {'Model': [],'Accuracy': [],'F1 Score': [],'Precision': [],'Recall': [],'AUC': []}\n",
        "\n",
        "def create_complete_report(model, model_name, X_test=X_test_sc, y_test=y_test):\n",
        "    #print cross validation\n",
        "    print('CROSS VALIDATION')\n",
        "    print('-'*99)\n",
        "    cross_validate(model)\n",
        "    print('-'*99)\n",
        "    print('')\n",
        "    \n",
        "    #classsification report\n",
        "    y_pred = model.predict(X_test)\n",
        "    print('CLASSIFICATION REPORT')\n",
        "    print('-'*99)\n",
        "    f1, precision, recall = report_classification_metrics(y_test, y_pred)\n",
        "    accuracy = accuracy_score(y_test, y_pred)\n",
        "    print('-'*99)\n",
        "    print('')\n",
        "    \n",
        "    #plot Confusion Matrix and ROC\n",
        "    \n",
        "    #define metrics\n",
        "    y_pred_proba = model.predict_proba(X_test)[::,1]\n",
        "    fpr, tpr, _ = metrics.roc_curve(y_test,  y_pred_proba)\n",
        "    auc = metrics.roc_auc_score(y_test, y_pred_proba)\n",
        "    \n",
        "    #ROC curve\n",
        "    fig, (ax1, ax2) = plt.subplots(ncols=2, nrows=1, figsize=(15, 6))\n",
        "    ax1.plot(fpr,tpr,label=\"AUC=\"+str(round(auc,3)))\n",
        "    ax1.set_title(f'ROC Curve of {model_name}')\n",
        "    ax1.set_ylabel('True Positive Rate')\n",
        "    ax1.set_xlabel('False Positive Rate')\n",
        "    ax1.legend(loc=4)\n",
        "    \n",
        "    #Confusion Matrix\n",
        "    cm = confusion_matrix(y_test, y_pred)\n",
        "    group_names = ['True Neg','False Pos','False Neg','True Pos']\n",
        "    group_counts = ['{0:0.0f}'.format(value) for value in\n",
        "                    cm.flatten()]\n",
        "    group_percentages = ['{0:.2%}'.format(value) for value in\n",
        "                         cm.flatten()/np.sum(cm)]\n",
        "    labels = [f'{v1}\\n{v2}\\n{v3}' for v1, v2, v3 in\n",
        "              zip(group_names,group_counts,group_percentages)]\n",
        "    labels = np.asarray(labels).reshape(2,2)\n",
        "    ax2 = sns.heatmap(cm, annot=labels, fmt='', cmap='Blues')\n",
        "    ax2.set_title(f'Confusion Matrix of {model_name}')\n",
        "    \n",
        "    plt.show()\n",
        "    \n",
        "    #store model result\n",
        "    print('')\n",
        "    print('-'*99)\n",
        "    print('MODEL RESULT SUMMARY')\n",
        "    if model_name not in model_collection['Model']:\n",
        "        store_model_summary(model_name, accuracy, auc, f1, precision, recall)\n",
        "    display(pd.DataFrame(model_collection))"
      ],
      "metadata": {
        "id": "WFc2X2N5hnXT"
      },
      "execution_count": null,
      "outputs": []
    },
    {
      "cell_type": "markdown",
      "source": [
        "Import Model Libraries"
      ],
      "metadata": {
        "id": "LAEV6nOaiEtV"
      }
    },
    {
      "cell_type": "code",
      "source": [
        "from sklearn.linear_model import LogisticRegression\n",
        "from sklearn.neighbors import KNeighborsClassifier\n",
        "from sklearn.svm import SVC\n",
        "from sklearn.naive_bayes import GaussianNB\n",
        "from sklearn.tree import DecisionTreeClassifier\n",
        "from sklearn.ensemble import RandomForestClassifier\n",
        "from xgboost import XGBClassifier\n",
        "\n",
        "from sklearn import metrics\n",
        "from sklearn.model_selection import cross_val_score\n",
        "from sklearn.metrics import confusion_matrix, accuracy_score, classification_report, f1_score, precision_score, recall_score"
      ],
      "metadata": {
        "id": "qgfJS6JqiEUH"
      },
      "execution_count": null,
      "outputs": []
    },
    {
      "cell_type": "markdown",
      "source": [
        "# Model Development and Selection"
      ],
      "metadata": {
        "id": "33C1JiEiiWPQ"
      }
    },
    {
      "cell_type": "markdown",
      "source": [
        "## Logistic Regression"
      ],
      "metadata": {
        "id": "7uuGOqkyiait"
      }
    },
    {
      "cell_type": "code",
      "source": [
        "#declare model\n",
        "lr = LogisticRegression(random_state=0)\n",
        "\n",
        "#training\n",
        "lr.fit(X_train_sc, y_train)\n",
        "\n",
        "#predict\n",
        "y_pred = lr.predict(X_test_sc)\n",
        "\n",
        "#accuracy\n",
        "accuracy = accuracy_score(y_test, y_pred)\n",
        "print('Accuracy: ', round(accuracy*100,3),'%')"
      ],
      "metadata": {
        "colab": {
          "base_uri": "https://localhost:8080/"
        },
        "id": "4xoZBujsiZig",
        "outputId": "38829732-ddac-4136-8007-1613aa828a1e"
      },
      "execution_count": null,
      "outputs": [
        {
          "output_type": "stream",
          "name": "stdout",
          "text": [
            "Accuracy:  91.967 %\n"
          ]
        }
      ]
    },
    {
      "cell_type": "code",
      "source": [
        "create_complete_report(lr, 'Logistic Regression')"
      ],
      "metadata": {
        "colab": {
          "base_uri": "https://localhost:8080/",
          "height": 1000
        },
        "id": "9c04Cg5sjVwG",
        "outputId": "04aae52f-6a81-4241-870a-3f2b6380fe0f"
      },
      "execution_count": null,
      "outputs": [
        {
          "output_type": "stream",
          "name": "stdout",
          "text": [
            "CROSS VALIDATION\n",
            "---------------------------------------------------------------------------------------------------\n",
            "Accuracy of fold 0 0.941\n",
            "Accuracy of fold 1 0.941\n",
            "Accuracy of fold 2 0.947\n",
            "Accuracy of fold 3 0.899\n",
            "Accuracy of fold 4 0.929\n",
            "Accuracy of fold 5 0.923\n",
            "Accuracy of fold 6 0.911\n",
            "Accuracy of fold 7 0.917\n",
            "Accuracy of fold 8 0.899\n",
            "Accuracy of fold 9 0.917\n",
            "Mean Accuracy of Cross Validation: 92.21%\n",
            "Standard Deviation: 1.62%\n",
            "---------------------------------------------------------------------------------------------------\n",
            "\n",
            "CLASSIFICATION REPORT\n",
            "---------------------------------------------------------------------------------------------------\n",
            "              precision    recall  f1-score   support\n",
            "\n",
            "           0       0.91      0.84      0.87       237\n",
            "           1       0.92      0.96      0.94       485\n",
            "\n",
            "    accuracy                           0.92       722\n",
            "   macro avg       0.92      0.90      0.91       722\n",
            "weighted avg       0.92      0.92      0.92       722\n",
            "\n",
            "---------------------------------------------------------------------------------------------------\n",
            "\n"
          ]
        },
        {
          "output_type": "display_data",
          "data": {
            "text/plain": [
              "<Figure size 1080x432 with 3 Axes>"
            ],
            "image/png": "[encoded data removed]"
          },
          "metadata": {
            "needs_background": "light"
          }
        },
        {
          "output_type": "stream",
          "name": "stdout",
          "text": [
            "\n",
            "---------------------------------------------------------------------------------------------------\n",
            "MODEL RESULT SUMMARY\n"
          ]
        },
        {
          "output_type": "display_data",
          "data": {
            "text/plain": [
              "                 Model  Accuracy  F1 Score  Precision    Recall       AUC\n",
              "0  Logistic Regression  0.919668  0.941414   0.922772  0.960825  0.968811"
            ],
            "text/html": [
              "\n",
              "  <div id=\"df-2181c740-0afa-4b54-9cd7-5ce91053e1b6\">\n",
              "    <div class=\"colab-df-container\">\n",
              "      <div>\n",
              "<style scoped>\n",
              "    .dataframe tbody tr th:only-of-type {\n",
              "        vertical-align: middle;\n",
              "    }\n",
              "\n",
              "    .dataframe tbody tr th {\n",
              "        vertical-align: top;\n",
              "    }\n",
              "\n",
              "    .dataframe thead th {\n",
              "        text-align: right;\n",
              "    }\n",
              "</style>\n",
              "<table border=\"1\" class=\"dataframe\">\n",
              "  <thead>\n",
              "    <tr style=\"text-align: right;\">\n",
              "      <th></th>\n",
              "      <th>Model</th>\n",
              "      <th>Accuracy</th>\n",
              "      <th>F1 Score</th>\n",
              "      <th>Precision</th>\n",
              "      <th>Recall</th>\n",
              "      <th>AUC</th>\n",
              "    </tr>\n",
              "  </thead>\n",
              "  <tbody>\n",
              "    <tr>\n",
              "      <th>0</th>\n",
              "      <td>Logistic Regression</td>\n",
              "      <td>0.919668</td>\n",
              "      <td>0.941414</td>\n",
              "      <td>0.922772</td>\n",
              "      <td>0.960825</td>\n",
              "      <td>0.968811</td>\n",
              "    </tr>\n",
              "  </tbody>\n",
              "</table>\n",
              "</div>\n",
              "      <button class=\"colab-df-convert\" onclick=\"convertToInteractive('df-2181c740-0afa-4b54-9cd7-5ce91053e1b6')\"\n",
              "              title=\"Convert this dataframe to an interactive table.\"\n",
              "              style=\"display:none;\">\n",
              "        \n",
              "  <svg xmlns=\"http://www.w3.org/2000/svg\" height=\"24px\"viewBox=\"0 0 24 24\"\n",
              "       width=\"24px\">\n",
              "    <path d=\"M0 0h24v24H0V0z\" fill=\"none\"/>\n",
              "    <path d=\"M18.56 5.44l.94 2.06.94-2.06 2.06-.94-2.06-.94-.94-2.06-.94 2.06-2.06.94zm-11 1L8.5 8.5l.94-2.06 2.06-.94-2.06-.94L8.5 2.5l-.94 2.06-2.06.94zm10 10l.94 2.06.94-2.06 2.06-.94-2.06-.94-.94-2.06-.94 2.06-2.06.94z\"/><path d=\"M17.41 7.96l-1.37-1.37c-.4-.4-.92-.59-1.43-.59-.52 0-1.04.2-1.43.59L10.3 9.45l-7.72 7.72c-.78.78-.78 2.05 0 2.83L4 21.41c.39.39.9.59 1.41.59.51 0 1.02-.2 1.41-.59l7.78-7.78 2.81-2.81c.8-.78.8-2.07 0-2.86zM5.41 20L4 18.59l7.72-7.72 1.47 1.35L5.41 20z\"/>\n",
              "  </svg>\n",
              "      </button>\n",
              "      \n",
              "  <style>\n",
              "    .colab-df-container {\n",
              "      display:flex;\n",
              "      flex-wrap:wrap;\n",
              "      gap: 12px;\n",
              "    }\n",
              "\n",
              "    .colab-df-convert {\n",
              "      background-color: #E8F0FE;\n",
              "      border: none;\n",
              "      border-radius: 50%;\n",
              "      cursor: pointer;\n",
              "      display: none;\n",
              "      fill: #1967D2;\n",
              "      height: 32px;\n",
              "      padding: 0 0 0 0;\n",
              "      width: 32px;\n",
              "    }\n",
              "\n",
              "    .colab-df-convert:hover {\n",
              "      background-color: #E2EBFA;\n",
              "      box-shadow: 0px 1px 2px rgba(60, 64, 67, 0.3), 0px 1px 3px 1px rgba(60, 64, 67, 0.15);\n",
              "      fill: #174EA6;\n",
              "    }\n",
              "\n",
              "    [theme=dark] .colab-df-convert {\n",
              "      background-color: #3B4455;\n",
              "      fill: #D2E3FC;\n",
              "    }\n",
              "\n",
              "    [theme=dark] .colab-df-convert:hover {\n",
              "      background-color: #434B5C;\n",
              "      box-shadow: 0px 1px 3px 1px rgba(0, 0, 0, 0.15);\n",
              "      filter: drop-shadow(0px 1px 2px rgba(0, 0, 0, 0.3));\n",
              "      fill: #FFFFFF;\n",
              "    }\n",
              "  </style>\n",
              "\n",
              "      <script>\n",
              "        const buttonEl =\n",
              "          document.querySelector('#df-2181c740-0afa-4b54-9cd7-5ce91053e1b6 button.colab-df-convert');\n",
              "        buttonEl.style.display =\n",
              "          google.colab.kernel.accessAllowed ? 'block' : 'none';\n",
              "\n",
              "        async function convertToInteractive(key) {\n",
              "          const element = document.querySelector('#df-2181c740-0afa-4b54-9cd7-5ce91053e1b6');\n",
              "          const dataTable =\n",
              "            await google.colab.kernel.invokeFunction('convertToInteractive',\n",
              "                                                     [key], {});\n",
              "          if (!dataTable) return;\n",
              "\n",
              "          const docLinkHtml = 'Like what you see? Visit the ' +\n",
              "            '<a target=\"_blank\" href=https://colab.research.google.com/notebooks/data_table.ipynb>data table notebook</a>'\n",
              "            + ' to learn more about interactive tables.';\n",
              "          element.innerHTML = '';\n",
              "          dataTable['output_type'] = 'display_data';\n",
              "          await google.colab.output.renderOutput(dataTable, element);\n",
              "          const docLink = document.createElement('div');\n",
              "          docLink.innerHTML = docLinkHtml;\n",
              "          element.appendChild(docLink);\n",
              "        }\n",
              "      </script>\n",
              "    </div>\n",
              "  </div>\n",
              "  "
            ]
          },
          "metadata": {}
        }
      ]
    },
    {
      "cell_type": "markdown",
      "source": [
        "## KNN"
      ],
      "metadata": {
        "id": "MDU_LKRHlepO"
      }
    },
    {
      "cell_type": "markdown",
      "source": [
        "First, test for K selection"
      ],
      "metadata": {
        "id": "eyZzSS5LliEv"
      }
    },
    {
      "cell_type": "code",
      "source": [
        "for n in range(2,10):\n",
        "    knn = KNeighborsClassifier(n_neighbors=n, metric='minkowski', p=2)\n",
        "    knn.fit(X_train_sc, y_train)\n",
        "    y_pred = knn.predict(X_test_sc)\n",
        "    cm_knn = confusion_matrix(y_test, y_pred)\n",
        "    print('KNN for n = ', n)\n",
        "    print(cm_knn)\n",
        "    print('Accuracy: ',(accuracy_score(y_test, y_pred)))\n",
        "    print('')"
      ],
      "metadata": {
        "colab": {
          "base_uri": "https://localhost:8080/"
        },
        "id": "sF-FgVQjj2bu",
        "outputId": "6d5635a3-122a-4dab-df61-438d90458cef"
      },
      "execution_count": null,
      "outputs": [
        {
          "output_type": "stream",
          "name": "stdout",
          "text": [
            "KNN for n =  2\n",
            "[[174  63]\n",
            " [244 241]]\n",
            "Accuracy:  0.574792243767313\n",
            "\n",
            "KNN for n =  3\n",
            "[[101 136]\n",
            " [ 59 426]]\n",
            "Accuracy:  0.7299168975069252\n",
            "\n",
            "KNN for n =  4\n",
            "[[134 103]\n",
            " [113 372]]\n",
            "Accuracy:  0.7008310249307479\n",
            "\n",
            "KNN for n =  5\n",
            "[[ 84 153]\n",
            " [ 30 455]]\n",
            "Accuracy:  0.7465373961218836\n",
            "\n",
            "KNN for n =  6\n",
            "[[109 128]\n",
            " [ 51 434]]\n",
            "Accuracy:  0.7520775623268698\n",
            "\n",
            "KNN for n =  7\n",
            "[[ 76 161]\n",
            " [ 14 471]]\n",
            "Accuracy:  0.7576177285318559\n",
            "\n",
            "KNN for n =  8\n",
            "[[ 89 148]\n",
            " [ 26 459]]\n",
            "Accuracy:  0.7590027700831025\n",
            "\n",
            "KNN for n =  9\n",
            "[[ 64 173]\n",
            " [  5 480]]\n",
            "Accuracy:  0.7534626038781164\n",
            "\n"
          ]
        }
      ]
    },
    {
      "cell_type": "markdown",
      "source": [
        "K that gives the best accuracy is 8. So..."
      ],
      "metadata": {
        "id": "EZ6YV-r1luNU"
      }
    },
    {
      "cell_type": "code",
      "source": [
        "#define final Model\n",
        "knn = KNeighborsClassifier(n_neighbors=8, metric='minkowski', p=2)\n",
        "knn.fit(X_train_sc, y_train)\n",
        "y_pred = knn.predict(X_test_sc)\n",
        "accuracy = (accuracy_score(y_test, y_pred))\n",
        "print('Accuracy: ',round(accuracy*100, 3),'%')"
      ],
      "metadata": {
        "colab": {
          "base_uri": "https://localhost:8080/"
        },
        "id": "bMm4eU0hlovq",
        "outputId": "96fae206-08ae-4316-cf0d-0eb561e0cd65"
      },
      "execution_count": null,
      "outputs": [
        {
          "output_type": "stream",
          "name": "stdout",
          "text": [
            "Accuracy:  75.9 %\n"
          ]
        }
      ]
    },
    {
      "cell_type": "code",
      "source": [
        "create_complete_report(knn, 'KNN')"
      ],
      "metadata": {
        "colab": {
          "base_uri": "https://localhost:8080/",
          "height": 1000
        },
        "id": "uhcTlRpVl_Cq",
        "outputId": "dc76e1b3-a8be-454a-ada7-bd7d286f58a5"
      },
      "execution_count": null,
      "outputs": [
        {
          "output_type": "stream",
          "name": "stdout",
          "text": [
            "CROSS VALIDATION\n",
            "---------------------------------------------------------------------------------------------------\n",
            "Accuracy of fold 0 0.74\n",
            "Accuracy of fold 1 0.775\n",
            "Accuracy of fold 2 0.734\n",
            "Accuracy of fold 3 0.78\n",
            "Accuracy of fold 4 0.78\n",
            "Accuracy of fold 5 0.75\n",
            "Accuracy of fold 6 0.762\n",
            "Accuracy of fold 7 0.732\n",
            "Accuracy of fold 8 0.744\n",
            "Accuracy of fold 9 0.774\n",
            "Mean Accuracy of Cross Validation: 75.70%\n",
            "Standard Deviation: 1.83%\n",
            "---------------------------------------------------------------------------------------------------\n",
            "\n",
            "CLASSIFICATION REPORT\n",
            "---------------------------------------------------------------------------------------------------\n",
            "              precision    recall  f1-score   support\n",
            "\n",
            "           0       0.77      0.38      0.51       237\n",
            "           1       0.76      0.95      0.84       485\n",
            "\n",
            "    accuracy                           0.76       722\n",
            "   macro avg       0.77      0.66      0.67       722\n",
            "weighted avg       0.76      0.76      0.73       722\n",
            "\n",
            "---------------------------------------------------------------------------------------------------\n",
            "\n"
          ]
        },
        {
          "output_type": "display_data",
          "data": {
            "text/plain": [
              "<Figure size 1080x432 with 3 Axes>"
            ],
            "image/png": "[encoded data removed]"
          },
          "metadata": {
            "needs_background": "light"
          }
        },
        {
          "output_type": "stream",
          "name": "stdout",
          "text": [
            "\n",
            "---------------------------------------------------------------------------------------------------\n",
            "MODEL RESULT SUMMARY\n"
          ]
        },
        {
          "output_type": "display_data",
          "data": {
            "text/plain": [
              "                 Model  Accuracy  F1 Score  Precision    Recall       AUC\n",
              "0  Logistic Regression  0.919668  0.941414   0.922772  0.960825  0.968811\n",
              "1                  KNN  0.759003  0.840659   0.756178  0.946392  0.743699"
            ],
            "text/html": [
              "\n",
              "  <div id=\"df-ab980846-de9e-4254-81de-5bb2572f4f54\">\n",
              "    <div class=\"colab-df-container\">\n",
              "      <div>\n",
              "<style scoped>\n",
              "    .dataframe tbody tr th:only-of-type {\n",
              "        vertical-align: middle;\n",
              "    }\n",
              "\n",
              "    .dataframe tbody tr th {\n",
              "        vertical-align: top;\n",
              "    }\n",
              "\n",
              "    .dataframe thead th {\n",
              "        text-align: right;\n",
              "    }\n",
              "</style>\n",
              "<table border=\"1\" class=\"dataframe\">\n",
              "  <thead>\n",
              "    <tr style=\"text-align: right;\">\n",
              "      <th></th>\n",
              "      <th>Model</th>\n",
              "      <th>Accuracy</th>\n",
              "      <th>F1 Score</th>\n",
              "      <th>Precision</th>\n",
              "      <th>Recall</th>\n",
              "      <th>AUC</th>\n",
              "    </tr>\n",
              "  </thead>\n",
              "  <tbody>\n",
              "    <tr>\n",
              "      <th>0</th>\n",
              "      <td>Logistic Regression</td>\n",
              "      <td>0.919668</td>\n",
              "      <td>0.941414</td>\n",
              "      <td>0.922772</td>\n",
              "      <td>0.960825</td>\n",
              "      <td>0.968811</td>\n",
              "    </tr>\n",
              "    <tr>\n",
              "      <th>1</th>\n",
              "      <td>KNN</td>\n",
              "      <td>0.759003</td>\n",
              "      <td>0.840659</td>\n",
              "      <td>0.756178</td>\n",
              "      <td>0.946392</td>\n",
              "      <td>0.743699</td>\n",
              "    </tr>\n",
              "  </tbody>\n",
              "</table>\n",
              "</div>\n",
              "      <button class=\"colab-df-convert\" onclick=\"convertToInteractive('df-ab980846-de9e-4254-81de-5bb2572f4f54')\"\n",
              "              title=\"Convert this dataframe to an interactive table.\"\n",
              "              style=\"display:none;\">\n",
              "        \n",
              "  <svg xmlns=\"http://www.w3.org/2000/svg\" height=\"24px\"viewBox=\"0 0 24 24\"\n",
              "       width=\"24px\">\n",
              "    <path d=\"M0 0h24v24H0V0z\" fill=\"none\"/>\n",
              "    <path d=\"M18.56 5.44l.94 2.06.94-2.06 2.06-.94-2.06-.94-.94-2.06-.94 2.06-2.06.94zm-11 1L8.5 8.5l.94-2.06 2.06-.94-2.06-.94L8.5 2.5l-.94 2.06-2.06.94zm10 10l.94 2.06.94-2.06 2.06-.94-2.06-.94-.94-2.06-.94 2.06-2.06.94z\"/><path d=\"M17.41 7.96l-1.37-1.37c-.4-.4-.92-.59-1.43-.59-.52 0-1.04.2-1.43.59L10.3 9.45l-7.72 7.72c-.78.78-.78 2.05 0 2.83L4 21.41c.39.39.9.59 1.41.59.51 0 1.02-.2 1.41-.59l7.78-7.78 2.81-2.81c.8-.78.8-2.07 0-2.86zM5.41 20L4 18.59l7.72-7.72 1.47 1.35L5.41 20z\"/>\n",
              "  </svg>\n",
              "      </button>\n",
              "      \n",
              "  <style>\n",
              "    .colab-df-container {\n",
              "      display:flex;\n",
              "      flex-wrap:wrap;\n",
              "      gap: 12px;\n",
              "    }\n",
              "\n",
              "    .colab-df-convert {\n",
              "      background-color: #E8F0FE;\n",
              "      border: none;\n",
              "      border-radius: 50%;\n",
              "      cursor: pointer;\n",
              "      display: none;\n",
              "      fill: #1967D2;\n",
              "      height: 32px;\n",
              "      padding: 0 0 0 0;\n",
              "      width: 32px;\n",
              "    }\n",
              "\n",
              "    .colab-df-convert:hover {\n",
              "      background-color: #E2EBFA;\n",
              "      box-shadow: 0px 1px 2px rgba(60, 64, 67, 0.3), 0px 1px 3px 1px rgba(60, 64, 67, 0.15);\n",
              "      fill: #174EA6;\n",
              "    }\n",
              "\n",
              "    [theme=dark] .colab-df-convert {\n",
              "      background-color: #3B4455;\n",
              "      fill: #D2E3FC;\n",
              "    }\n",
              "\n",
              "    [theme=dark] .colab-df-convert:hover {\n",
              "      background-color: #434B5C;\n",
              "      box-shadow: 0px 1px 3px 1px rgba(0, 0, 0, 0.15);\n",
              "      filter: drop-shadow(0px 1px 2px rgba(0, 0, 0, 0.3));\n",
              "      fill: #FFFFFF;\n",
              "    }\n",
              "  </style>\n",
              "\n",
              "      <script>\n",
              "        const buttonEl =\n",
              "          document.querySelector('#df-ab980846-de9e-4254-81de-5bb2572f4f54 button.colab-df-convert');\n",
              "        buttonEl.style.display =\n",
              "          google.colab.kernel.accessAllowed ? 'block' : 'none';\n",
              "\n",
              "        async function convertToInteractive(key) {\n",
              "          const element = document.querySelector('#df-ab980846-de9e-4254-81de-5bb2572f4f54');\n",
              "          const dataTable =\n",
              "            await google.colab.kernel.invokeFunction('convertToInteractive',\n",
              "                                                     [key], {});\n",
              "          if (!dataTable) return;\n",
              "\n",
              "          const docLinkHtml = 'Like what you see? Visit the ' +\n",
              "            '<a target=\"_blank\" href=https://colab.research.google.com/notebooks/data_table.ipynb>data table notebook</a>'\n",
              "            + ' to learn more about interactive tables.';\n",
              "          element.innerHTML = '';\n",
              "          dataTable['output_type'] = 'display_data';\n",
              "          await google.colab.output.renderOutput(dataTable, element);\n",
              "          const docLink = document.createElement('div');\n",
              "          docLink.innerHTML = docLinkHtml;\n",
              "          element.appendChild(docLink);\n",
              "        }\n",
              "      </script>\n",
              "    </div>\n",
              "  </div>\n",
              "  "
            ]
          },
          "metadata": {}
        }
      ]
    },
    {
      "cell_type": "markdown",
      "source": [
        "## SVM"
      ],
      "metadata": {
        "id": "miILGke9mOQ6"
      }
    },
    {
      "cell_type": "markdown",
      "source": [
        "Start with choosing the right Kernel."
      ],
      "metadata": {
        "id": "CKdz5YE6mTYh"
      }
    },
    {
      "cell_type": "code",
      "source": [
        "kernel = ['linear', 'poly', 'rbf', 'sigmoid']\n",
        "\n",
        "for k in kernel:\n",
        "    svm = SVC(kernel = k, random_state = 1)\n",
        "    svm.fit(X_train_sc, y_train)\n",
        "    y_pred = svm.predict(X_test_sc)\n",
        "    cm_svm = confusion_matrix(y_test, y_pred)\n",
        "    print('svm for kernel = ', k)\n",
        "    print(cm_svm)\n",
        "    print('Accuracy: ',(accuracy_score(y_test, y_pred)))\n",
        "    print('')"
      ],
      "metadata": {
        "colab": {
          "base_uri": "https://localhost:8080/"
        },
        "id": "p8YQyLPImERR",
        "outputId": "91b481eb-a120-445c-bd8c-47a4f668353b"
      },
      "execution_count": null,
      "outputs": [
        {
          "output_type": "stream",
          "name": "stdout",
          "text": [
            "svm for kernel =  linear\n",
            "[[193  44]\n",
            " [ 28 457]]\n",
            "Accuracy:  0.9002770083102493\n",
            "\n",
            "svm for kernel =  poly\n",
            "[[ 17 220]\n",
            " [  6 479]]\n",
            "Accuracy:  0.6869806094182825\n",
            "\n",
            "svm for kernel =  rbf\n",
            "[[139  98]\n",
            " [  5 480]]\n",
            "Accuracy:  0.8573407202216067\n",
            "\n",
            "svm for kernel =  sigmoid\n",
            "[[181  56]\n",
            " [ 18 467]]\n",
            "Accuracy:  0.8975069252077562\n",
            "\n"
          ]
        }
      ]
    },
    {
      "cell_type": "markdown",
      "source": [
        "The kernel that gives us best accuracy is 'linear'."
      ],
      "metadata": {
        "id": "FllZsupzmds8"
      }
    },
    {
      "cell_type": "code",
      "source": [
        "#define Final Model for SVM\n",
        "svm = SVC(kernel = 'linear', random_state = 1, probability=True)\n",
        "svm.fit(X_train_sc, y_train)\n",
        "y_pred = svm.predict(X_test_sc)\n",
        "accuracy = (accuracy_score(y_test, y_pred))\n",
        "print('Accuracy: ',round(accuracy*100,3),'%')\n",
        "print('')"
      ],
      "metadata": {
        "colab": {
          "base_uri": "https://localhost:8080/"
        },
        "id": "CFwldx5QmYPm",
        "outputId": "a549f3ae-c246-426f-d927-4fd7de26aa39"
      },
      "execution_count": null,
      "outputs": [
        {
          "output_type": "stream",
          "name": "stdout",
          "text": [
            "Accuracy:  90.028 %\n",
            "\n"
          ]
        }
      ]
    },
    {
      "cell_type": "code",
      "source": [
        "create_complete_report(svm, \"SVM (Linear)\")"
      ],
      "metadata": {
        "colab": {
          "base_uri": "https://localhost:8080/",
          "height": 1000
        },
        "id": "rvH62DJbmrYZ",
        "outputId": "bfd3f2c1-388f-459c-9053-26249bf42b4f"
      },
      "execution_count": null,
      "outputs": [
        {
          "output_type": "stream",
          "name": "stdout",
          "text": [
            "CROSS VALIDATION\n",
            "---------------------------------------------------------------------------------------------------\n",
            "Accuracy of fold 0 0.923\n",
            "Accuracy of fold 1 0.917\n",
            "Accuracy of fold 2 0.959\n",
            "Accuracy of fold 3 0.905\n",
            "Accuracy of fold 4 0.935\n",
            "Accuracy of fold 5 0.911\n",
            "Accuracy of fold 6 0.905\n",
            "Accuracy of fold 7 0.905\n",
            "Accuracy of fold 8 0.905\n",
            "Accuracy of fold 9 0.929\n",
            "Mean Accuracy of Cross Validation: 91.92%\n",
            "Standard Deviation: 1.67%\n",
            "---------------------------------------------------------------------------------------------------\n",
            "\n",
            "CLASSIFICATION REPORT\n",
            "---------------------------------------------------------------------------------------------------\n",
            "              precision    recall  f1-score   support\n",
            "\n",
            "           0       0.87      0.81      0.84       237\n",
            "           1       0.91      0.94      0.93       485\n",
            "\n",
            "    accuracy                           0.90       722\n",
            "   macro avg       0.89      0.88      0.88       722\n",
            "weighted avg       0.90      0.90      0.90       722\n",
            "\n",
            "---------------------------------------------------------------------------------------------------\n",
            "\n"
          ]
        },
        {
          "output_type": "display_data",
          "data": {
            "text/plain": [
              "<Figure size 1080x432 with 3 Axes>"
            ],
            "image/png": "[encoded data removed]"
          },
          "metadata": {
            "needs_background": "light"
          }
        },
        {
          "output_type": "stream",
          "name": "stdout",
          "text": [
            "\n",
            "---------------------------------------------------------------------------------------------------\n",
            "MODEL RESULT SUMMARY\n"
          ]
        },
        {
          "output_type": "display_data",
          "data": {
            "text/plain": [
              "                 Model  Accuracy  F1 Score  Precision    Recall       AUC\n",
              "0  Logistic Regression  0.919668  0.941414   0.922772  0.960825  0.968811\n",
              "1                  KNN  0.759003  0.840659   0.756178  0.946392  0.743699\n",
              "2         SVM (Linear)  0.900277  0.926978   0.912176  0.942268  0.958976"
            ],
            "text/html": [
              "\n",
              "  <div id=\"df-3728c22b-4e5d-41a1-907b-4f7fe39c29fb\">\n",
              "    <div class=\"colab-df-container\">\n",
              "      <div>\n",
              "<style scoped>\n",
              "    .dataframe tbody tr th:only-of-type {\n",
              "        vertical-align: middle;\n",
              "    }\n",
              "\n",
              "    .dataframe tbody tr th {\n",
              "        vertical-align: top;\n",
              "    }\n",
              "\n",
              "    .dataframe thead th {\n",
              "        text-align: right;\n",
              "    }\n",
              "</style>\n",
              "<table border=\"1\" class=\"dataframe\">\n",
              "  <thead>\n",
              "    <tr style=\"text-align: right;\">\n",
              "      <th></th>\n",
              "      <th>Model</th>\n",
              "      <th>Accuracy</th>\n",
              "      <th>F1 Score</th>\n",
              "      <th>Precision</th>\n",
              "      <th>Recall</th>\n",
              "      <th>AUC</th>\n",
              "    </tr>\n",
              "  </thead>\n",
              "  <tbody>\n",
              "    <tr>\n",
              "      <th>0</th>\n",
              "      <td>Logistic Regression</td>\n",
              "      <td>0.919668</td>\n",
              "      <td>0.941414</td>\n",
              "      <td>0.922772</td>\n",
              "      <td>0.960825</td>\n",
              "      <td>0.968811</td>\n",
              "    </tr>\n",
              "    <tr>\n",
              "      <th>1</th>\n",
              "      <td>KNN</td>\n",
              "      <td>0.759003</td>\n",
              "      <td>0.840659</td>\n",
              "      <td>0.756178</td>\n",
              "      <td>0.946392</td>\n",
              "      <td>0.743699</td>\n",
              "    </tr>\n",
              "    <tr>\n",
              "      <th>2</th>\n",
              "      <td>SVM (Linear)</td>\n",
              "      <td>0.900277</td>\n",
              "      <td>0.926978</td>\n",
              "      <td>0.912176</td>\n",
              "      <td>0.942268</td>\n",
              "      <td>0.958976</td>\n",
              "    </tr>\n",
              "  </tbody>\n",
              "</table>\n",
              "</div>\n",
              "      <button class=\"colab-df-convert\" onclick=\"convertToInteractive('df-3728c22b-4e5d-41a1-907b-4f7fe39c29fb')\"\n",
              "              title=\"Convert this dataframe to an interactive table.\"\n",
              "              style=\"display:none;\">\n",
              "        \n",
              "  <svg xmlns=\"http://www.w3.org/2000/svg\" height=\"24px\"viewBox=\"0 0 24 24\"\n",
              "       width=\"24px\">\n",
              "    <path d=\"M0 0h24v24H0V0z\" fill=\"none\"/>\n",
              "    <path d=\"M18.56 5.44l.94 2.06.94-2.06 2.06-.94-2.06-.94-.94-2.06-.94 2.06-2.06.94zm-11 1L8.5 8.5l.94-2.06 2.06-.94-2.06-.94L8.5 2.5l-.94 2.06-2.06.94zm10 10l.94 2.06.94-2.06 2.06-.94-2.06-.94-.94-2.06-.94 2.06-2.06.94z\"/><path d=\"M17.41 7.96l-1.37-1.37c-.4-.4-.92-.59-1.43-.59-.52 0-1.04.2-1.43.59L10.3 9.45l-7.72 7.72c-.78.78-.78 2.05 0 2.83L4 21.41c.39.39.9.59 1.41.59.51 0 1.02-.2 1.41-.59l7.78-7.78 2.81-2.81c.8-.78.8-2.07 0-2.86zM5.41 20L4 18.59l7.72-7.72 1.47 1.35L5.41 20z\"/>\n",
              "  </svg>\n",
              "      </button>\n",
              "      \n",
              "  <style>\n",
              "    .colab-df-container {\n",
              "      display:flex;\n",
              "      flex-wrap:wrap;\n",
              "      gap: 12px;\n",
              "    }\n",
              "\n",
              "    .colab-df-convert {\n",
              "      background-color: #E8F0FE;\n",
              "      border: none;\n",
              "      border-radius: 50%;\n",
              "      cursor: pointer;\n",
              "      display: none;\n",
              "      fill: #1967D2;\n",
              "      height: 32px;\n",
              "      padding: 0 0 0 0;\n",
              "      width: 32px;\n",
              "    }\n",
              "\n",
              "    .colab-df-convert:hover {\n",
              "      background-color: #E2EBFA;\n",
              "      box-shadow: 0px 1px 2px rgba(60, 64, 67, 0.3), 0px 1px 3px 1px rgba(60, 64, 67, 0.15);\n",
              "      fill: #174EA6;\n",
              "    }\n",
              "\n",
              "    [theme=dark] .colab-df-convert {\n",
              "      background-color: #3B4455;\n",
              "      fill: #D2E3FC;\n",
              "    }\n",
              "\n",
              "    [theme=dark] .colab-df-convert:hover {\n",
              "      background-color: #434B5C;\n",
              "      box-shadow: 0px 1px 3px 1px rgba(0, 0, 0, 0.15);\n",
              "      filter: drop-shadow(0px 1px 2px rgba(0, 0, 0, 0.3));\n",
              "      fill: #FFFFFF;\n",
              "    }\n",
              "  </style>\n",
              "\n",
              "      <script>\n",
              "        const buttonEl =\n",
              "          document.querySelector('#df-3728c22b-4e5d-41a1-907b-4f7fe39c29fb button.colab-df-convert');\n",
              "        buttonEl.style.display =\n",
              "          google.colab.kernel.accessAllowed ? 'block' : 'none';\n",
              "\n",
              "        async function convertToInteractive(key) {\n",
              "          const element = document.querySelector('#df-3728c22b-4e5d-41a1-907b-4f7fe39c29fb');\n",
              "          const dataTable =\n",
              "            await google.colab.kernel.invokeFunction('convertToInteractive',\n",
              "                                                     [key], {});\n",
              "          if (!dataTable) return;\n",
              "\n",
              "          const docLinkHtml = 'Like what you see? Visit the ' +\n",
              "            '<a target=\"_blank\" href=https://colab.research.google.com/notebooks/data_table.ipynb>data table notebook</a>'\n",
              "            + ' to learn more about interactive tables.';\n",
              "          element.innerHTML = '';\n",
              "          dataTable['output_type'] = 'display_data';\n",
              "          await google.colab.output.renderOutput(dataTable, element);\n",
              "          const docLink = document.createElement('div');\n",
              "          docLink.innerHTML = docLinkHtml;\n",
              "          element.appendChild(docLink);\n",
              "        }\n",
              "      </script>\n",
              "    </div>\n",
              "  </div>\n",
              "  "
            ]
          },
          "metadata": {}
        }
      ]
    },
    {
      "cell_type": "markdown",
      "source": [
        "## Naive Bayes"
      ],
      "metadata": {
        "id": "W6Aa-ixInOA_"
      }
    },
    {
      "cell_type": "code",
      "source": [
        "nb = GaussianNB()\n",
        "nb.fit(X_train_sc, y_train)\n",
        "y_pred = nb.predict(X_test_sc)\n",
        "accuracy = (accuracy_score(y_test, y_pred))\n",
        "print('Accuracy: ',round(accuracy*100,3),'%')"
      ],
      "metadata": {
        "colab": {
          "base_uri": "https://localhost:8080/"
        },
        "id": "Yde4F4GDmxv1",
        "outputId": "07031da2-0a1f-49fa-bf94-146b9a312351"
      },
      "execution_count": null,
      "outputs": [
        {
          "output_type": "stream",
          "name": "stdout",
          "text": [
            "Accuracy:  59.972 %\n"
          ]
        }
      ]
    },
    {
      "cell_type": "code",
      "source": [
        "create_complete_report(nb, \"GaussianNB\")"
      ],
      "metadata": {
        "colab": {
          "base_uri": "https://localhost:8080/",
          "height": 1000
        },
        "id": "LLz5YuJbnb7i",
        "outputId": "5b578f96-d88d-4819-ab88-7063ba31acf2"
      },
      "execution_count": null,
      "outputs": [
        {
          "output_type": "stream",
          "name": "stdout",
          "text": [
            "CROSS VALIDATION\n",
            "---------------------------------------------------------------------------------------------------\n",
            "Accuracy of fold 0 0.633\n",
            "Accuracy of fold 1 0.574\n",
            "Accuracy of fold 2 0.586\n",
            "Accuracy of fold 3 0.595\n",
            "Accuracy of fold 4 0.685\n",
            "Accuracy of fold 5 0.589\n",
            "Accuracy of fold 6 0.607\n",
            "Accuracy of fold 7 0.595\n",
            "Accuracy of fold 8 0.643\n",
            "Accuracy of fold 9 0.542\n",
            "Mean Accuracy of Cross Validation: 60.49%\n",
            "Standard Deviation: 3.79%\n",
            "---------------------------------------------------------------------------------------------------\n",
            "\n",
            "CLASSIFICATION REPORT\n",
            "---------------------------------------------------------------------------------------------------\n",
            "              precision    recall  f1-score   support\n",
            "\n",
            "           0       0.44      0.76      0.55       237\n",
            "           1       0.81      0.52      0.64       485\n",
            "\n",
            "    accuracy                           0.60       722\n",
            "   macro avg       0.63      0.64      0.60       722\n",
            "weighted avg       0.69      0.60      0.61       722\n",
            "\n",
            "---------------------------------------------------------------------------------------------------\n",
            "\n"
          ]
        },
        {
          "output_type": "display_data",
          "data": {
            "text/plain": [
              "<Figure size 1080x432 with 3 Axes>"
            ],
            "image/png": "[encoded data removed]"
          },
          "metadata": {
            "needs_background": "light"
          }
        },
        {
          "output_type": "stream",
          "name": "stdout",
          "text": [
            "\n",
            "---------------------------------------------------------------------------------------------------\n",
            "MODEL RESULT SUMMARY\n"
          ]
        },
        {
          "output_type": "display_data",
          "data": {
            "text/plain": [
              "                 Model  Accuracy  F1 Score  Precision    Recall       AUC\n",
              "0  Logistic Regression  0.919668  0.941414   0.922772  0.960825  0.968811\n",
              "1                  KNN  0.759003  0.840659   0.756178  0.946392  0.743699\n",
              "2         SVM (Linear)  0.900277  0.926978   0.912176  0.942268  0.958976\n",
              "3           GaussianNB  0.599723  0.637390   0.814103  0.523711  0.645243"
            ],
            "text/html": [
              "\n",
              "  <div id=\"df-ac20d636-a86a-48bb-a563-f8accb571312\">\n",
              "    <div class=\"colab-df-container\">\n",
              "      <div>\n",
              "<style scoped>\n",
              "    .dataframe tbody tr th:only-of-type {\n",
              "        vertical-align: middle;\n",
              "    }\n",
              "\n",
              "    .dataframe tbody tr th {\n",
              "        vertical-align: top;\n",
              "    }\n",
              "\n",
              "    .dataframe thead th {\n",
              "        text-align: right;\n",
              "    }\n",
              "</style>\n",
              "<table border=\"1\" class=\"dataframe\">\n",
              "  <thead>\n",
              "    <tr style=\"text-align: right;\">\n",
              "      <th></th>\n",
              "      <th>Model</th>\n",
              "      <th>Accuracy</th>\n",
              "      <th>F1 Score</th>\n",
              "      <th>Precision</th>\n",
              "      <th>Recall</th>\n",
              "      <th>AUC</th>\n",
              "    </tr>\n",
              "  </thead>\n",
              "  <tbody>\n",
              "    <tr>\n",
              "      <th>0</th>\n",
              "      <td>Logistic Regression</td>\n",
              "      <td>0.919668</td>\n",
              "      <td>0.941414</td>\n",
              "      <td>0.922772</td>\n",
              "      <td>0.960825</td>\n",
              "      <td>0.968811</td>\n",
              "    </tr>\n",
              "    <tr>\n",
              "      <th>1</th>\n",
              "      <td>KNN</td>\n",
              "      <td>0.759003</td>\n",
              "      <td>0.840659</td>\n",
              "      <td>0.756178</td>\n",
              "      <td>0.946392</td>\n",
              "      <td>0.743699</td>\n",
              "    </tr>\n",
              "    <tr>\n",
              "      <th>2</th>\n",
              "      <td>SVM (Linear)</td>\n",
              "      <td>0.900277</td>\n",
              "      <td>0.926978</td>\n",
              "      <td>0.912176</td>\n",
              "      <td>0.942268</td>\n",
              "      <td>0.958976</td>\n",
              "    </tr>\n",
              "    <tr>\n",
              "      <th>3</th>\n",
              "      <td>GaussianNB</td>\n",
              "      <td>0.599723</td>\n",
              "      <td>0.637390</td>\n",
              "      <td>0.814103</td>\n",
              "      <td>0.523711</td>\n",
              "      <td>0.645243</td>\n",
              "    </tr>\n",
              "  </tbody>\n",
              "</table>\n",
              "</div>\n",
              "      <button class=\"colab-df-convert\" onclick=\"convertToInteractive('df-ac20d636-a86a-48bb-a563-f8accb571312')\"\n",
              "              title=\"Convert this dataframe to an interactive table.\"\n",
              "              style=\"display:none;\">\n",
              "        \n",
              "  <svg xmlns=\"http://www.w3.org/2000/svg\" height=\"24px\"viewBox=\"0 0 24 24\"\n",
              "       width=\"24px\">\n",
              "    <path d=\"M0 0h24v24H0V0z\" fill=\"none\"/>\n",
              "    <path d=\"M18.56 5.44l.94 2.06.94-2.06 2.06-.94-2.06-.94-.94-2.06-.94 2.06-2.06.94zm-11 1L8.5 8.5l.94-2.06 2.06-.94-2.06-.94L8.5 2.5l-.94 2.06-2.06.94zm10 10l.94 2.06.94-2.06 2.06-.94-2.06-.94-.94-2.06-.94 2.06-2.06.94z\"/><path d=\"M17.41 7.96l-1.37-1.37c-.4-.4-.92-.59-1.43-.59-.52 0-1.04.2-1.43.59L10.3 9.45l-7.72 7.72c-.78.78-.78 2.05 0 2.83L4 21.41c.39.39.9.59 1.41.59.51 0 1.02-.2 1.41-.59l7.78-7.78 2.81-2.81c.8-.78.8-2.07 0-2.86zM5.41 20L4 18.59l7.72-7.72 1.47 1.35L5.41 20z\"/>\n",
              "  </svg>\n",
              "      </button>\n",
              "      \n",
              "  <style>\n",
              "    .colab-df-container {\n",
              "      display:flex;\n",
              "      flex-wrap:wrap;\n",
              "      gap: 12px;\n",
              "    }\n",
              "\n",
              "    .colab-df-convert {\n",
              "      background-color: #E8F0FE;\n",
              "      border: none;\n",
              "      border-radius: 50%;\n",
              "      cursor: pointer;\n",
              "      display: none;\n",
              "      fill: #1967D2;\n",
              "      height: 32px;\n",
              "      padding: 0 0 0 0;\n",
              "      width: 32px;\n",
              "    }\n",
              "\n",
              "    .colab-df-convert:hover {\n",
              "      background-color: #E2EBFA;\n",
              "      box-shadow: 0px 1px 2px rgba(60, 64, 67, 0.3), 0px 1px 3px 1px rgba(60, 64, 67, 0.15);\n",
              "      fill: #174EA6;\n",
              "    }\n",
              "\n",
              "    [theme=dark] .colab-df-convert {\n",
              "      background-color: #3B4455;\n",
              "      fill: #D2E3FC;\n",
              "    }\n",
              "\n",
              "    [theme=dark] .colab-df-convert:hover {\n",
              "      background-color: #434B5C;\n",
              "      box-shadow: 0px 1px 3px 1px rgba(0, 0, 0, 0.15);\n",
              "      filter: drop-shadow(0px 1px 2px rgba(0, 0, 0, 0.3));\n",
              "      fill: #FFFFFF;\n",
              "    }\n",
              "  </style>\n",
              "\n",
              "      <script>\n",
              "        const buttonEl =\n",
              "          document.querySelector('#df-ac20d636-a86a-48bb-a563-f8accb571312 button.colab-df-convert');\n",
              "        buttonEl.style.display =\n",
              "          google.colab.kernel.accessAllowed ? 'block' : 'none';\n",
              "\n",
              "        async function convertToInteractive(key) {\n",
              "          const element = document.querySelector('#df-ac20d636-a86a-48bb-a563-f8accb571312');\n",
              "          const dataTable =\n",
              "            await google.colab.kernel.invokeFunction('convertToInteractive',\n",
              "                                                     [key], {});\n",
              "          if (!dataTable) return;\n",
              "\n",
              "          const docLinkHtml = 'Like what you see? Visit the ' +\n",
              "            '<a target=\"_blank\" href=https://colab.research.google.com/notebooks/data_table.ipynb>data table notebook</a>'\n",
              "            + ' to learn more about interactive tables.';\n",
              "          element.innerHTML = '';\n",
              "          dataTable['output_type'] = 'display_data';\n",
              "          await google.colab.output.renderOutput(dataTable, element);\n",
              "          const docLink = document.createElement('div');\n",
              "          docLink.innerHTML = docLinkHtml;\n",
              "          element.appendChild(docLink);\n",
              "        }\n",
              "      </script>\n",
              "    </div>\n",
              "  </div>\n",
              "  "
            ]
          },
          "metadata": {}
        }
      ]
    },
    {
      "cell_type": "markdown",
      "source": [
        "## Decision Tree Classifier"
      ],
      "metadata": {
        "id": "wc27DUjEnmKf"
      }
    },
    {
      "cell_type": "code",
      "source": [
        "tree = DecisionTreeClassifier(criterion = 'entropy', random_state = 0)\n",
        "tree.fit(X_train_sc, y_train)\n",
        "y_pred = tree.predict(X_test_sc)\n",
        "accuracy = (accuracy_score(y_test, y_pred))\n",
        "print('Accuracy: ',round(accuracy*100,3),'%')"
      ],
      "metadata": {
        "colab": {
          "base_uri": "https://localhost:8080/"
        },
        "id": "kD9LcWFNnd3p",
        "outputId": "c1f90c1b-6bdf-4e77-85c7-a37d310c01fc"
      },
      "execution_count": null,
      "outputs": [
        {
          "output_type": "stream",
          "name": "stdout",
          "text": [
            "Accuracy:  89.197 %\n"
          ]
        }
      ]
    },
    {
      "cell_type": "code",
      "source": [
        "create_complete_report(tree, \"Decision Tree Classifier\")"
      ],
      "metadata": {
        "colab": {
          "base_uri": "https://localhost:8080/",
          "height": 1000
        },
        "id": "horkievVnuEb",
        "outputId": "84bc9f10-692e-4981-c831-8a0254013cf4"
      },
      "execution_count": null,
      "outputs": [
        {
          "output_type": "stream",
          "name": "stdout",
          "text": [
            "CROSS VALIDATION\n",
            "---------------------------------------------------------------------------------------------------\n",
            "Accuracy of fold 0 0.893\n",
            "Accuracy of fold 1 0.905\n",
            "Accuracy of fold 2 0.923\n",
            "Accuracy of fold 3 0.905\n",
            "Accuracy of fold 4 0.887\n",
            "Accuracy of fold 5 0.917\n",
            "Accuracy of fold 6 0.911\n",
            "Accuracy of fold 7 0.929\n",
            "Accuracy of fold 8 0.893\n",
            "Accuracy of fold 9 0.946\n",
            "Mean Accuracy of Cross Validation: 91.09%\n",
            "Standard Deviation: 1.74%\n",
            "---------------------------------------------------------------------------------------------------\n",
            "\n",
            "CLASSIFICATION REPORT\n",
            "---------------------------------------------------------------------------------------------------\n",
            "              precision    recall  f1-score   support\n",
            "\n",
            "           0       0.81      0.87      0.84       237\n",
            "           1       0.93      0.90      0.92       485\n",
            "\n",
            "    accuracy                           0.89       722\n",
            "   macro avg       0.87      0.89      0.88       722\n",
            "weighted avg       0.89      0.89      0.89       722\n",
            "\n",
            "---------------------------------------------------------------------------------------------------\n",
            "\n"
          ]
        },
        {
          "output_type": "display_data",
          "data": {
            "text/plain": [
              "<Figure size 1080x432 with 3 Axes>"
            ],
            "image/png": "[encoded data removed]"
          },
          "metadata": {
            "needs_background": "light"
          }
        },
        {
          "output_type": "stream",
          "name": "stdout",
          "text": [
            "\n",
            "---------------------------------------------------------------------------------------------------\n",
            "MODEL RESULT SUMMARY\n"
          ]
        },
        {
          "output_type": "display_data",
          "data": {
            "text/plain": [
              "                      Model  Accuracy  F1 Score  Precision    Recall       AUC\n",
              "0       Logistic Regression  0.919668  0.941414   0.922772  0.960825  0.968811\n",
              "1                       KNN  0.759003  0.840659   0.756178  0.946392  0.743699\n",
              "2              SVM (Linear)  0.900277  0.926978   0.912176  0.942268  0.958976\n",
              "3                GaussianNB  0.599723  0.637390   0.814103  0.523711  0.645243\n",
              "4  Decision Tree Classifier  0.891967  0.918239   0.933902  0.903093  0.886146"
            ],
            "text/html": [
              "\n",
              "  <div id=\"df-5a33d257-2d36-4fae-90c3-2da940b54bd9\">\n",
              "    <div class=\"colab-df-container\">\n",
              "      <div>\n",
              "<style scoped>\n",
              "    .dataframe tbody tr th:only-of-type {\n",
              "        vertical-align: middle;\n",
              "    }\n",
              "\n",
              "    .dataframe tbody tr th {\n",
              "        vertical-align: top;\n",
              "    }\n",
              "\n",
              "    .dataframe thead th {\n",
              "        text-align: right;\n",
              "    }\n",
              "</style>\n",
              "<table border=\"1\" class=\"dataframe\">\n",
              "  <thead>\n",
              "    <tr style=\"text-align: right;\">\n",
              "      <th></th>\n",
              "      <th>Model</th>\n",
              "      <th>Accuracy</th>\n",
              "      <th>F1 Score</th>\n",
              "      <th>Precision</th>\n",
              "      <th>Recall</th>\n",
              "      <th>AUC</th>\n",
              "    </tr>\n",
              "  </thead>\n",
              "  <tbody>\n",
              "    <tr>\n",
              "      <th>0</th>\n",
              "      <td>Logistic Regression</td>\n",
              "      <td>0.919668</td>\n",
              "      <td>0.941414</td>\n",
              "      <td>0.922772</td>\n",
              "      <td>0.960825</td>\n",
              "      <td>0.968811</td>\n",
              "    </tr>\n",
              "    <tr>\n",
              "      <th>1</th>\n",
              "      <td>KNN</td>\n",
              "      <td>0.759003</td>\n",
              "      <td>0.840659</td>\n",
              "      <td>0.756178</td>\n",
              "      <td>0.946392</td>\n",
              "      <td>0.743699</td>\n",
              "    </tr>\n",
              "    <tr>\n",
              "      <th>2</th>\n",
              "      <td>SVM (Linear)</td>\n",
              "      <td>0.900277</td>\n",
              "      <td>0.926978</td>\n",
              "      <td>0.912176</td>\n",
              "      <td>0.942268</td>\n",
              "      <td>0.958976</td>\n",
              "    </tr>\n",
              "    <tr>\n",
              "      <th>3</th>\n",
              "      <td>GaussianNB</td>\n",
              "      <td>0.599723</td>\n",
              "      <td>0.637390</td>\n",
              "      <td>0.814103</td>\n",
              "      <td>0.523711</td>\n",
              "      <td>0.645243</td>\n",
              "    </tr>\n",
              "    <tr>\n",
              "      <th>4</th>\n",
              "      <td>Decision Tree Classifier</td>\n",
              "      <td>0.891967</td>\n",
              "      <td>0.918239</td>\n",
              "      <td>0.933902</td>\n",
              "      <td>0.903093</td>\n",
              "      <td>0.886146</td>\n",
              "    </tr>\n",
              "  </tbody>\n",
              "</table>\n",
              "</div>\n",
              "      <button class=\"colab-df-convert\" onclick=\"convertToInteractive('df-5a33d257-2d36-4fae-90c3-2da940b54bd9')\"\n",
              "              title=\"Convert this dataframe to an interactive table.\"\n",
              "              style=\"display:none;\">\n",
              "        \n",
              "  <svg xmlns=\"http://www.w3.org/2000/svg\" height=\"24px\"viewBox=\"0 0 24 24\"\n",
              "       width=\"24px\">\n",
              "    <path d=\"M0 0h24v24H0V0z\" fill=\"none\"/>\n",
              "    <path d=\"M18.56 5.44l.94 2.06.94-2.06 2.06-.94-2.06-.94-.94-2.06-.94 2.06-2.06.94zm-11 1L8.5 8.5l.94-2.06 2.06-.94-2.06-.94L8.5 2.5l-.94 2.06-2.06.94zm10 10l.94 2.06.94-2.06 2.06-.94-2.06-.94-.94-2.06-.94 2.06-2.06.94z\"/><path d=\"M17.41 7.96l-1.37-1.37c-.4-.4-.92-.59-1.43-.59-.52 0-1.04.2-1.43.59L10.3 9.45l-7.72 7.72c-.78.78-.78 2.05 0 2.83L4 21.41c.39.39.9.59 1.41.59.51 0 1.02-.2 1.41-.59l7.78-7.78 2.81-2.81c.8-.78.8-2.07 0-2.86zM5.41 20L4 18.59l7.72-7.72 1.47 1.35L5.41 20z\"/>\n",
              "  </svg>\n",
              "      </button>\n",
              "      \n",
              "  <style>\n",
              "    .colab-df-container {\n",
              "      display:flex;\n",
              "      flex-wrap:wrap;\n",
              "      gap: 12px;\n",
              "    }\n",
              "\n",
              "    .colab-df-convert {\n",
              "      background-color: #E8F0FE;\n",
              "      border: none;\n",
              "      border-radius: 50%;\n",
              "      cursor: pointer;\n",
              "      display: none;\n",
              "      fill: #1967D2;\n",
              "      height: 32px;\n",
              "      padding: 0 0 0 0;\n",
              "      width: 32px;\n",
              "    }\n",
              "\n",
              "    .colab-df-convert:hover {\n",
              "      background-color: #E2EBFA;\n",
              "      box-shadow: 0px 1px 2px rgba(60, 64, 67, 0.3), 0px 1px 3px 1px rgba(60, 64, 67, 0.15);\n",
              "      fill: #174EA6;\n",
              "    }\n",
              "\n",
              "    [theme=dark] .colab-df-convert {\n",
              "      background-color: #3B4455;\n",
              "      fill: #D2E3FC;\n",
              "    }\n",
              "\n",
              "    [theme=dark] .colab-df-convert:hover {\n",
              "      background-color: #434B5C;\n",
              "      box-shadow: 0px 1px 3px 1px rgba(0, 0, 0, 0.15);\n",
              "      filter: drop-shadow(0px 1px 2px rgba(0, 0, 0, 0.3));\n",
              "      fill: #FFFFFF;\n",
              "    }\n",
              "  </style>\n",
              "\n",
              "      <script>\n",
              "        const buttonEl =\n",
              "          document.querySelector('#df-5a33d257-2d36-4fae-90c3-2da940b54bd9 button.colab-df-convert');\n",
              "        buttonEl.style.display =\n",
              "          google.colab.kernel.accessAllowed ? 'block' : 'none';\n",
              "\n",
              "        async function convertToInteractive(key) {\n",
              "          const element = document.querySelector('#df-5a33d257-2d36-4fae-90c3-2da940b54bd9');\n",
              "          const dataTable =\n",
              "            await google.colab.kernel.invokeFunction('convertToInteractive',\n",
              "                                                     [key], {});\n",
              "          if (!dataTable) return;\n",
              "\n",
              "          const docLinkHtml = 'Like what you see? Visit the ' +\n",
              "            '<a target=\"_blank\" href=https://colab.research.google.com/notebooks/data_table.ipynb>data table notebook</a>'\n",
              "            + ' to learn more about interactive tables.';\n",
              "          element.innerHTML = '';\n",
              "          dataTable['output_type'] = 'display_data';\n",
              "          await google.colab.output.renderOutput(dataTable, element);\n",
              "          const docLink = document.createElement('div');\n",
              "          docLink.innerHTML = docLinkHtml;\n",
              "          element.appendChild(docLink);\n",
              "        }\n",
              "      </script>\n",
              "    </div>\n",
              "  </div>\n",
              "  "
            ]
          },
          "metadata": {}
        }
      ]
    },
    {
      "cell_type": "markdown",
      "source": [
        "## Random Forest Classifier"
      ],
      "metadata": {
        "id": "5TzKtQbNn00y"
      }
    },
    {
      "cell_type": "markdown",
      "source": [
        "First, test the best number of forest depth"
      ],
      "metadata": {
        "id": "ZQwUk9eEn4Cx"
      }
    },
    {
      "cell_type": "code",
      "source": [
        "#test for number of trees depth\n",
        "for t in range(2,15):\n",
        "    forest = RandomForestClassifier(n_estimators = t, criterion = 'entropy', random_state = 0)\n",
        "    forest.fit(X_train_sc, y_train)\n",
        "    y_pred = forest.predict(X_test_sc)\n",
        "    cm_forest = confusion_matrix(y_test, y_pred)\n",
        "    print('forest depth = ', t)\n",
        "    print(cm_forest)\n",
        "    print('Accuracy: ',(accuracy_score(y_test, y_pred)))\n",
        "    print('')"
      ],
      "metadata": {
        "colab": {
          "base_uri": "https://localhost:8080/"
        },
        "id": "JKtWGVrDnwC-",
        "outputId": "a6bff986-c070-4d03-de6e-f376670741f3"
      },
      "execution_count": null,
      "outputs": [
        {
          "output_type": "stream",
          "name": "stdout",
          "text": [
            "forest depth =  2\n",
            "[[221  16]\n",
            " [ 91 394]]\n",
            "Accuracy:  0.8518005540166205\n",
            "\n",
            "forest depth =  3\n",
            "[[193  44]\n",
            " [ 36 449]]\n",
            "Accuracy:  0.889196675900277\n",
            "\n",
            "forest depth =  4\n",
            "[[218  19]\n",
            " [ 54 431]]\n",
            "Accuracy:  0.8988919667590027\n",
            "\n",
            "forest depth =  5\n",
            "[[203  34]\n",
            " [ 27 458]]\n",
            "Accuracy:  0.9155124653739612\n",
            "\n",
            "forest depth =  6\n",
            "[[217  20]\n",
            " [ 42 443]]\n",
            "Accuracy:  0.9141274238227147\n",
            "\n",
            "forest depth =  7\n",
            "[[203  34]\n",
            " [ 25 460]]\n",
            "Accuracy:  0.9182825484764543\n",
            "\n",
            "forest depth =  8\n",
            "[[217  20]\n",
            " [ 34 451]]\n",
            "Accuracy:  0.925207756232687\n",
            "\n",
            "forest depth =  9\n",
            "[[206  31]\n",
            " [ 19 466]]\n",
            "Accuracy:  0.9307479224376731\n",
            "\n",
            "forest depth =  10\n",
            "[[211  26]\n",
            " [ 32 453]]\n",
            "Accuracy:  0.9196675900277008\n",
            "\n",
            "forest depth =  11\n",
            "[[204  33]\n",
            " [ 21 464]]\n",
            "Accuracy:  0.925207756232687\n",
            "\n",
            "forest depth =  12\n",
            "[[210  27]\n",
            " [ 29 456]]\n",
            "Accuracy:  0.9224376731301939\n",
            "\n",
            "forest depth =  13\n",
            "[[204  33]\n",
            " [ 23 462]]\n",
            "Accuracy:  0.9224376731301939\n",
            "\n",
            "forest depth =  14\n",
            "[[212  25]\n",
            " [ 27 458]]\n",
            "Accuracy:  0.9279778393351801\n",
            "\n"
          ]
        }
      ]
    },
    {
      "cell_type": "markdown",
      "source": [
        "Depth 9 gives the best accuracy, so..."
      ],
      "metadata": {
        "id": "PMzdlfXSoKiY"
      }
    },
    {
      "cell_type": "code",
      "source": [
        "forest = RandomForestClassifier(n_estimators = 9, criterion = 'entropy', random_state = 0)\n",
        "forest.fit(X_train_sc, y_train)\n",
        "y_pred = forest.predict(X_test_sc)\n",
        "accuracy = (accuracy_score(y_test, y_pred))\n",
        "print('forest depth = ', 9)\n",
        "print('Accuracy: ',round(accuracy*100,3),'%')"
      ],
      "metadata": {
        "colab": {
          "base_uri": "https://localhost:8080/"
        },
        "id": "PdLPDuAqoC_H",
        "outputId": "6120cd9e-bd22-4926-f175-a820c8b05e3e"
      },
      "execution_count": null,
      "outputs": [
        {
          "output_type": "stream",
          "name": "stdout",
          "text": [
            "forest depth =  9\n",
            "Accuracy:  93.075 %\n"
          ]
        }
      ]
    },
    {
      "cell_type": "code",
      "source": [
        "create_complete_report(forest, \"Random Forest\")"
      ],
      "metadata": {
        "colab": {
          "base_uri": "https://localhost:8080/",
          "height": 1000
        },
        "id": "Aseilci7ofSB",
        "outputId": "14a8a48b-a057-403a-a9fa-ef0168645d8e"
      },
      "execution_count": null,
      "outputs": [
        {
          "output_type": "stream",
          "name": "stdout",
          "text": [
            "CROSS VALIDATION\n",
            "---------------------------------------------------------------------------------------------------\n",
            "Accuracy of fold 0 0.953\n",
            "Accuracy of fold 1 0.947\n",
            "Accuracy of fold 2 0.893\n",
            "Accuracy of fold 3 0.869\n",
            "Accuracy of fold 4 0.917\n",
            "Accuracy of fold 5 0.899\n",
            "Accuracy of fold 6 0.923\n",
            "Accuracy of fold 7 0.857\n",
            "Accuracy of fold 8 0.935\n",
            "Accuracy of fold 9 0.935\n",
            "Mean Accuracy of Cross Validation: 91.26%\n",
            "Standard Deviation: 3.06%\n",
            "---------------------------------------------------------------------------------------------------\n",
            "\n",
            "CLASSIFICATION REPORT\n",
            "---------------------------------------------------------------------------------------------------\n",
            "              precision    recall  f1-score   support\n",
            "\n",
            "           0       0.92      0.87      0.89       237\n",
            "           1       0.94      0.96      0.95       485\n",
            "\n",
            "    accuracy                           0.93       722\n",
            "   macro avg       0.93      0.92      0.92       722\n",
            "weighted avg       0.93      0.93      0.93       722\n",
            "\n",
            "---------------------------------------------------------------------------------------------------\n",
            "\n"
          ]
        },
        {
          "output_type": "display_data",
          "data": {
            "text/plain": [
              "<Figure size 1080x432 with 3 Axes>"
            ],
            "image/png": "[encoded data removed]"
          },
          "metadata": {
            "needs_background": "light"
          }
        },
        {
          "output_type": "stream",
          "name": "stdout",
          "text": [
            "\n",
            "---------------------------------------------------------------------------------------------------\n",
            "MODEL RESULT SUMMARY\n"
          ]
        },
        {
          "output_type": "display_data",
          "data": {
            "text/plain": [
              "                      Model  Accuracy  F1 Score  Precision    Recall       AUC\n",
              "0       Logistic Regression  0.919668  0.941414   0.922772  0.960825  0.968811\n",
              "1                       KNN  0.759003  0.840659   0.756178  0.946392  0.743699\n",
              "2              SVM (Linear)  0.900277  0.926978   0.912176  0.942268  0.958976\n",
              "3                GaussianNB  0.599723  0.637390   0.814103  0.523711  0.645243\n",
              "4  Decision Tree Classifier  0.891967  0.918239   0.933902  0.903093  0.886146\n",
              "5             Random Forest  0.930748  0.949084   0.937626  0.960825  0.971117"
            ],
            "text/html": [
              "\n",
              "  <div id=\"df-d468aabf-e407-4790-934c-3d208d8d6677\">\n",
              "    <div class=\"colab-df-container\">\n",
              "      <div>\n",
              "<style scoped>\n",
              "    .dataframe tbody tr th:only-of-type {\n",
              "        vertical-align: middle;\n",
              "    }\n",
              "\n",
              "    .dataframe tbody tr th {\n",
              "        vertical-align: top;\n",
              "    }\n",
              "\n",
              "    .dataframe thead th {\n",
              "        text-align: right;\n",
              "    }\n",
              "</style>\n",
              "<table border=\"1\" class=\"dataframe\">\n",
              "  <thead>\n",
              "    <tr style=\"text-align: right;\">\n",
              "      <th></th>\n",
              "      <th>Model</th>\n",
              "      <th>Accuracy</th>\n",
              "      <th>F1 Score</th>\n",
              "      <th>Precision</th>\n",
              "      <th>Recall</th>\n",
              "      <th>AUC</th>\n",
              "    </tr>\n",
              "  </thead>\n",
              "  <tbody>\n",
              "    <tr>\n",
              "      <th>0</th>\n",
              "      <td>Logistic Regression</td>\n",
              "      <td>0.919668</td>\n",
              "      <td>0.941414</td>\n",
              "      <td>0.922772</td>\n",
              "      <td>0.960825</td>\n",
              "      <td>0.968811</td>\n",
              "    </tr>\n",
              "    <tr>\n",
              "      <th>1</th>\n",
              "      <td>KNN</td>\n",
              "      <td>0.759003</td>\n",
              "      <td>0.840659</td>\n",
              "      <td>0.756178</td>\n",
              "      <td>0.946392</td>\n",
              "      <td>0.743699</td>\n",
              "    </tr>\n",
              "    <tr>\n",
              "      <th>2</th>\n",
              "      <td>SVM (Linear)</td>\n",
              "      <td>0.900277</td>\n",
              "      <td>0.926978</td>\n",
              "      <td>0.912176</td>\n",
              "      <td>0.942268</td>\n",
              "      <td>0.958976</td>\n",
              "    </tr>\n",
              "    <tr>\n",
              "      <th>3</th>\n",
              "      <td>GaussianNB</td>\n",
              "      <td>0.599723</td>\n",
              "      <td>0.637390</td>\n",
              "      <td>0.814103</td>\n",
              "      <td>0.523711</td>\n",
              "      <td>0.645243</td>\n",
              "    </tr>\n",
              "    <tr>\n",
              "      <th>4</th>\n",
              "      <td>Decision Tree Classifier</td>\n",
              "      <td>0.891967</td>\n",
              "      <td>0.918239</td>\n",
              "      <td>0.933902</td>\n",
              "      <td>0.903093</td>\n",
              "      <td>0.886146</td>\n",
              "    </tr>\n",
              "    <tr>\n",
              "      <th>5</th>\n",
              "      <td>Random Forest</td>\n",
              "      <td>0.930748</td>\n",
              "      <td>0.949084</td>\n",
              "      <td>0.937626</td>\n",
              "      <td>0.960825</td>\n",
              "      <td>0.971117</td>\n",
              "    </tr>\n",
              "  </tbody>\n",
              "</table>\n",
              "</div>\n",
              "      <button class=\"colab-df-convert\" onclick=\"convertToInteractive('df-d468aabf-e407-4790-934c-3d208d8d6677')\"\n",
              "              title=\"Convert this dataframe to an interactive table.\"\n",
              "              style=\"display:none;\">\n",
              "        \n",
              "  <svg xmlns=\"http://www.w3.org/2000/svg\" height=\"24px\"viewBox=\"0 0 24 24\"\n",
              "       width=\"24px\">\n",
              "    <path d=\"M0 0h24v24H0V0z\" fill=\"none\"/>\n",
              "    <path d=\"M18.56 5.44l.94 2.06.94-2.06 2.06-.94-2.06-.94-.94-2.06-.94 2.06-2.06.94zm-11 1L8.5 8.5l.94-2.06 2.06-.94-2.06-.94L8.5 2.5l-.94 2.06-2.06.94zm10 10l.94 2.06.94-2.06 2.06-.94-2.06-.94-.94-2.06-.94 2.06-2.06.94z\"/><path d=\"M17.41 7.96l-1.37-1.37c-.4-.4-.92-.59-1.43-.59-.52 0-1.04.2-1.43.59L10.3 9.45l-7.72 7.72c-.78.78-.78 2.05 0 2.83L4 21.41c.39.39.9.59 1.41.59.51 0 1.02-.2 1.41-.59l7.78-7.78 2.81-2.81c.8-.78.8-2.07 0-2.86zM5.41 20L4 18.59l7.72-7.72 1.47 1.35L5.41 20z\"/>\n",
              "  </svg>\n",
              "      </button>\n",
              "      \n",
              "  <style>\n",
              "    .colab-df-container {\n",
              "      display:flex;\n",
              "      flex-wrap:wrap;\n",
              "      gap: 12px;\n",
              "    }\n",
              "\n",
              "    .colab-df-convert {\n",
              "      background-color: #E8F0FE;\n",
              "      border: none;\n",
              "      border-radius: 50%;\n",
              "      cursor: pointer;\n",
              "      display: none;\n",
              "      fill: #1967D2;\n",
              "      height: 32px;\n",
              "      padding: 0 0 0 0;\n",
              "      width: 32px;\n",
              "    }\n",
              "\n",
              "    .colab-df-convert:hover {\n",
              "      background-color: #E2EBFA;\n",
              "      box-shadow: 0px 1px 2px rgba(60, 64, 67, 0.3), 0px 1px 3px 1px rgba(60, 64, 67, 0.15);\n",
              "      fill: #174EA6;\n",
              "    }\n",
              "\n",
              "    [theme=dark] .colab-df-convert {\n",
              "      background-color: #3B4455;\n",
              "      fill: #D2E3FC;\n",
              "    }\n",
              "\n",
              "    [theme=dark] .colab-df-convert:hover {\n",
              "      background-color: #434B5C;\n",
              "      box-shadow: 0px 1px 3px 1px rgba(0, 0, 0, 0.15);\n",
              "      filter: drop-shadow(0px 1px 2px rgba(0, 0, 0, 0.3));\n",
              "      fill: #FFFFFF;\n",
              "    }\n",
              "  </style>\n",
              "\n",
              "      <script>\n",
              "        const buttonEl =\n",
              "          document.querySelector('#df-d468aabf-e407-4790-934c-3d208d8d6677 button.colab-df-convert');\n",
              "        buttonEl.style.display =\n",
              "          google.colab.kernel.accessAllowed ? 'block' : 'none';\n",
              "\n",
              "        async function convertToInteractive(key) {\n",
              "          const element = document.querySelector('#df-d468aabf-e407-4790-934c-3d208d8d6677');\n",
              "          const dataTable =\n",
              "            await google.colab.kernel.invokeFunction('convertToInteractive',\n",
              "                                                     [key], {});\n",
              "          if (!dataTable) return;\n",
              "\n",
              "          const docLinkHtml = 'Like what you see? Visit the ' +\n",
              "            '<a target=\"_blank\" href=https://colab.research.google.com/notebooks/data_table.ipynb>data table notebook</a>'\n",
              "            + ' to learn more about interactive tables.';\n",
              "          element.innerHTML = '';\n",
              "          dataTable['output_type'] = 'display_data';\n",
              "          await google.colab.output.renderOutput(dataTable, element);\n",
              "          const docLink = document.createElement('div');\n",
              "          docLink.innerHTML = docLinkHtml;\n",
              "          element.appendChild(docLink);\n",
              "        }\n",
              "      </script>\n",
              "    </div>\n",
              "  </div>\n",
              "  "
            ]
          },
          "metadata": {}
        }
      ]
    },
    {
      "cell_type": "markdown",
      "source": [
        "## XGBoost Classifier"
      ],
      "metadata": {
        "id": "rrjtuNYIorM0"
      }
    },
    {
      "cell_type": "code",
      "source": [
        "xg = XGBClassifier()\n",
        "xg.fit(X_train_sc, y_train)\n",
        "y_pred = xg.predict(X_test_sc)\n",
        "accuracy = (accuracy_score(y_test, y_pred))\n",
        "print('Accuracy: ',round(accuracy*100,3),'%')"
      ],
      "metadata": {
        "colab": {
          "base_uri": "https://localhost:8080/"
        },
        "id": "1gWrf2nJoifX",
        "outputId": "7b4619cc-ada2-41c7-af06-bdc7b2a1f7c4"
      },
      "execution_count": null,
      "outputs": [
        {
          "output_type": "stream",
          "name": "stdout",
          "text": [
            "Accuracy:  96.26 %\n"
          ]
        }
      ]
    },
    {
      "cell_type": "code",
      "source": [
        "create_complete_report(xg, \"XGBoost Classifier\")"
      ],
      "metadata": {
        "colab": {
          "base_uri": "https://localhost:8080/",
          "height": 1000
        },
        "id": "_IpHsQaHo1mG",
        "outputId": "49f4a562-0155-4c47-d040-612cdc7376b9"
      },
      "execution_count": null,
      "outputs": [
        {
          "output_type": "stream",
          "name": "stdout",
          "text": [
            "CROSS VALIDATION\n",
            "---------------------------------------------------------------------------------------------------\n",
            "Accuracy of fold 0 0.976\n",
            "Accuracy of fold 1 0.97\n",
            "Accuracy of fold 2 0.959\n",
            "Accuracy of fold 3 0.964\n",
            "Accuracy of fold 4 0.976\n",
            "Accuracy of fold 5 0.935\n",
            "Accuracy of fold 6 0.97\n",
            "Accuracy of fold 7 0.976\n",
            "Accuracy of fold 8 0.952\n",
            "Accuracy of fold 9 0.964\n",
            "Mean Accuracy of Cross Validation: 96.43%\n",
            "Standard Deviation: 1.25%\n",
            "---------------------------------------------------------------------------------------------------\n",
            "\n",
            "CLASSIFICATION REPORT\n",
            "---------------------------------------------------------------------------------------------------\n",
            "              precision    recall  f1-score   support\n",
            "\n",
            "           0       0.94      0.94      0.94       237\n",
            "           1       0.97      0.97      0.97       485\n",
            "\n",
            "    accuracy                           0.96       722\n",
            "   macro avg       0.96      0.96      0.96       722\n",
            "weighted avg       0.96      0.96      0.96       722\n",
            "\n",
            "---------------------------------------------------------------------------------------------------\n",
            "\n"
          ]
        },
        {
          "output_type": "display_data",
          "data": {
            "text/plain": [
              "<Figure size 1080x432 with 3 Axes>"
            ],
            "image/png": "[encoded data removed]"
          },
          "metadata": {
            "needs_background": "light"
          }
        },
        {
          "output_type": "stream",
          "name": "stdout",
          "text": [
            "\n",
            "---------------------------------------------------------------------------------------------------\n",
            "MODEL RESULT SUMMARY\n"
          ]
        },
        {
          "output_type": "display_data",
          "data": {
            "text/plain": [
              "                      Model  Accuracy  F1 Score  Precision    Recall       AUC\n",
              "0       Logistic Regression  0.919668  0.941414   0.922772  0.960825  0.968811\n",
              "1                       KNN  0.759003  0.840659   0.756178  0.946392  0.743699\n",
              "2              SVM (Linear)  0.900277  0.926978   0.912176  0.942268  0.958976\n",
              "3                GaussianNB  0.599723  0.637390   0.814103  0.523711  0.645243\n",
              "4  Decision Tree Classifier  0.891967  0.918239   0.933902  0.903093  0.886146\n",
              "5             Random Forest  0.930748  0.949084   0.937626  0.960825  0.971117\n",
              "6        XGBoost Classifier  0.962604  0.972194   0.971193  0.973196  0.994502"
            ],
            "text/html": [
              "\n",
              "  <div id=\"df-2073fc5b-cf52-4b39-9920-f3c6db4aceae\">\n",
              "    <div class=\"colab-df-container\">\n",
              "      <div>\n",
              "<style scoped>\n",
              "    .dataframe tbody tr th:only-of-type {\n",
              "        vertical-align: middle;\n",
              "    }\n",
              "\n",
              "    .dataframe tbody tr th {\n",
              "        vertical-align: top;\n",
              "    }\n",
              "\n",
              "    .dataframe thead th {\n",
              "        text-align: right;\n",
              "    }\n",
              "</style>\n",
              "<table border=\"1\" class=\"dataframe\">\n",
              "  <thead>\n",
              "    <tr style=\"text-align: right;\">\n",
              "      <th></th>\n",
              "      <th>Model</th>\n",
              "      <th>Accuracy</th>\n",
              "      <th>F1 Score</th>\n",
              "      <th>Precision</th>\n",
              "      <th>Recall</th>\n",
              "      <th>AUC</th>\n",
              "    </tr>\n",
              "  </thead>\n",
              "  <tbody>\n",
              "    <tr>\n",
              "      <th>0</th>\n",
              "      <td>Logistic Regression</td>\n",
              "      <td>0.919668</td>\n",
              "      <td>0.941414</td>\n",
              "      <td>0.922772</td>\n",
              "      <td>0.960825</td>\n",
              "      <td>0.968811</td>\n",
              "    </tr>\n",
              "    <tr>\n",
              "      <th>1</th>\n",
              "      <td>KNN</td>\n",
              "      <td>0.759003</td>\n",
              "      <td>0.840659</td>\n",
              "      <td>0.756178</td>\n",
              "      <td>0.946392</td>\n",
              "      <td>0.743699</td>\n",
              "    </tr>\n",
              "    <tr>\n",
              "      <th>2</th>\n",
              "      <td>SVM (Linear)</td>\n",
              "      <td>0.900277</td>\n",
              "      <td>0.926978</td>\n",
              "      <td>0.912176</td>\n",
              "      <td>0.942268</td>\n",
              "      <td>0.958976</td>\n",
              "    </tr>\n",
              "    <tr>\n",
              "      <th>3</th>\n",
              "      <td>GaussianNB</td>\n",
              "      <td>0.599723</td>\n",
              "      <td>0.637390</td>\n",
              "      <td>0.814103</td>\n",
              "      <td>0.523711</td>\n",
              "      <td>0.645243</td>\n",
              "    </tr>\n",
              "    <tr>\n",
              "      <th>4</th>\n",
              "      <td>Decision Tree Classifier</td>\n",
              "      <td>0.891967</td>\n",
              "      <td>0.918239</td>\n",
              "      <td>0.933902</td>\n",
              "      <td>0.903093</td>\n",
              "      <td>0.886146</td>\n",
              "    </tr>\n",
              "    <tr>\n",
              "      <th>5</th>\n",
              "      <td>Random Forest</td>\n",
              "      <td>0.930748</td>\n",
              "      <td>0.949084</td>\n",
              "      <td>0.937626</td>\n",
              "      <td>0.960825</td>\n",
              "      <td>0.971117</td>\n",
              "    </tr>\n",
              "    <tr>\n",
              "      <th>6</th>\n",
              "      <td>XGBoost Classifier</td>\n",
              "      <td>0.962604</td>\n",
              "      <td>0.972194</td>\n",
              "      <td>0.971193</td>\n",
              "      <td>0.973196</td>\n",
              "      <td>0.994502</td>\n",
              "    </tr>\n",
              "  </tbody>\n",
              "</table>\n",
              "</div>\n",
              "      <button class=\"colab-df-convert\" onclick=\"convertToInteractive('df-2073fc5b-cf52-4b39-9920-f3c6db4aceae')\"\n",
              "              title=\"Convert this dataframe to an interactive table.\"\n",
              "              style=\"display:none;\">\n",
              "        \n",
              "  <svg xmlns=\"http://www.w3.org/2000/svg\" height=\"24px\"viewBox=\"0 0 24 24\"\n",
              "       width=\"24px\">\n",
              "    <path d=\"M0 0h24v24H0V0z\" fill=\"none\"/>\n",
              "    <path d=\"M18.56 5.44l.94 2.06.94-2.06 2.06-.94-2.06-.94-.94-2.06-.94 2.06-2.06.94zm-11 1L8.5 8.5l.94-2.06 2.06-.94-2.06-.94L8.5 2.5l-.94 2.06-2.06.94zm10 10l.94 2.06.94-2.06 2.06-.94-2.06-.94-.94-2.06-.94 2.06-2.06.94z\"/><path d=\"M17.41 7.96l-1.37-1.37c-.4-.4-.92-.59-1.43-.59-.52 0-1.04.2-1.43.59L10.3 9.45l-7.72 7.72c-.78.78-.78 2.05 0 2.83L4 21.41c.39.39.9.59 1.41.59.51 0 1.02-.2 1.41-.59l7.78-7.78 2.81-2.81c.8-.78.8-2.07 0-2.86zM5.41 20L4 18.59l7.72-7.72 1.47 1.35L5.41 20z\"/>\n",
              "  </svg>\n",
              "      </button>\n",
              "      \n",
              "  <style>\n",
              "    .colab-df-container {\n",
              "      display:flex;\n",
              "      flex-wrap:wrap;\n",
              "      gap: 12px;\n",
              "    }\n",
              "\n",
              "    .colab-df-convert {\n",
              "      background-color: #E8F0FE;\n",
              "      border: none;\n",
              "      border-radius: 50%;\n",
              "      cursor: pointer;\n",
              "      display: none;\n",
              "      fill: #1967D2;\n",
              "      height: 32px;\n",
              "      padding: 0 0 0 0;\n",
              "      width: 32px;\n",
              "    }\n",
              "\n",
              "    .colab-df-convert:hover {\n",
              "      background-color: #E2EBFA;\n",
              "      box-shadow: 0px 1px 2px rgba(60, 64, 67, 0.3), 0px 1px 3px 1px rgba(60, 64, 67, 0.15);\n",
              "      fill: #174EA6;\n",
              "    }\n",
              "\n",
              "    [theme=dark] .colab-df-convert {\n",
              "      background-color: #3B4455;\n",
              "      fill: #D2E3FC;\n",
              "    }\n",
              "\n",
              "    [theme=dark] .colab-df-convert:hover {\n",
              "      background-color: #434B5C;\n",
              "      box-shadow: 0px 1px 3px 1px rgba(0, 0, 0, 0.15);\n",
              "      filter: drop-shadow(0px 1px 2px rgba(0, 0, 0, 0.3));\n",
              "      fill: #FFFFFF;\n",
              "    }\n",
              "  </style>\n",
              "\n",
              "      <script>\n",
              "        const buttonEl =\n",
              "          document.querySelector('#df-2073fc5b-cf52-4b39-9920-f3c6db4aceae button.colab-df-convert');\n",
              "        buttonEl.style.display =\n",
              "          google.colab.kernel.accessAllowed ? 'block' : 'none';\n",
              "\n",
              "        async function convertToInteractive(key) {\n",
              "          const element = document.querySelector('#df-2073fc5b-cf52-4b39-9920-f3c6db4aceae');\n",
              "          const dataTable =\n",
              "            await google.colab.kernel.invokeFunction('convertToInteractive',\n",
              "                                                     [key], {});\n",
              "          if (!dataTable) return;\n",
              "\n",
              "          const docLinkHtml = 'Like what you see? Visit the ' +\n",
              "            '<a target=\"_blank\" href=https://colab.research.google.com/notebooks/data_table.ipynb>data table notebook</a>'\n",
              "            + ' to learn more about interactive tables.';\n",
              "          element.innerHTML = '';\n",
              "          dataTable['output_type'] = 'display_data';\n",
              "          await google.colab.output.renderOutput(dataTable, element);\n",
              "          const docLink = document.createElement('div');\n",
              "          docLink.innerHTML = docLinkHtml;\n",
              "          element.appendChild(docLink);\n",
              "        }\n",
              "      </script>\n",
              "    </div>\n",
              "  </div>\n",
              "  "
            ]
          },
          "metadata": {}
        }
      ]
    },
    {
      "cell_type": "markdown",
      "source": [
        "## Visualize Models Metrics"
      ],
      "metadata": {
        "id": "BZkfYez1rBTG"
      }
    },
    {
      "cell_type": "code",
      "source": [
        "pd.DataFrame(model_collection).plot(x=\"Model\", y=[\"Accuracy\", \"F1 Score\", 'Precision','Recall','AUC'], kind=\"bar\", figsize=(15, 6))\n",
        "plt.title(\"Models' Metrics\")\n",
        "plt.xlabel('Models')\n",
        "plt.ylabel('Accuracy')\n",
        "plt.legend(loc=(1.01,0))"
      ],
      "metadata": {
        "colab": {
          "base_uri": "https://localhost:8080/",
          "height": 528
        },
        "id": "5ScMZsFUo6En",
        "outputId": "d79f4fb3-4411-45ee-df02-365e6449e446"
      },
      "execution_count": null,
      "outputs": [
        {
          "output_type": "execute_result",
          "data": {
            "text/plain": [
              "<matplotlib.legend.Legend at 0x7f45c2a1d490>"
            ]
          },
          "metadata": {},
          "execution_count": 39
        },
        {
          "output_type": "display_data",
          "data": {
            "text/plain": [
              "<Figure size 1080x432 with 1 Axes>"
            ],
            "image/png": "[encoded data removed]"
          },
          "metadata": {
            "needs_background": "light"
          }
        }
      ]
    },
    {
      "cell_type": "code",
      "source": [
        "pd.DataFrame(model_collection)"
      ],
      "metadata": {
        "colab": {
          "base_uri": "https://localhost:8080/",
          "height": 269
        },
        "id": "DmQL7ulFsVR2",
        "outputId": "a37f1ae9-f5d4-4dd3-be91-46aa84498a59"
      },
      "execution_count": null,
      "outputs": [
        {
          "output_type": "execute_result",
          "data": {
            "text/plain": [
              "                      Model  Accuracy  F1 Score  Precision    Recall       AUC\n",
              "0       Logistic Regression  0.919668  0.941414   0.922772  0.960825  0.968811\n",
              "1                       KNN  0.759003  0.840659   0.756178  0.946392  0.743699\n",
              "2              SVM (Linear)  0.900277  0.926978   0.912176  0.942268  0.958976\n",
              "3                GaussianNB  0.599723  0.637390   0.814103  0.523711  0.645243\n",
              "4  Decision Tree Classifier  0.891967  0.918239   0.933902  0.903093  0.886146\n",
              "5             Random Forest  0.930748  0.949084   0.937626  0.960825  0.971117\n",
              "6        XGBoost Classifier  0.962604  0.972194   0.971193  0.973196  0.994502"
            ],
            "text/html": [
              "\n",
              "  <div id=\"df-e25ab25e-b306-4071-8273-ffa7bb93dc1e\">\n",
              "    <div class=\"colab-df-container\">\n",
              "      <div>\n",
              "<style scoped>\n",
              "    .dataframe tbody tr th:only-of-type {\n",
              "        vertical-align: middle;\n",
              "    }\n",
              "\n",
              "    .dataframe tbody tr th {\n",
              "        vertical-align: top;\n",
              "    }\n",
              "\n",
              "    .dataframe thead th {\n",
              "        text-align: right;\n",
              "    }\n",
              "</style>\n",
              "<table border=\"1\" class=\"dataframe\">\n",
              "  <thead>\n",
              "    <tr style=\"text-align: right;\">\n",
              "      <th></th>\n",
              "      <th>Model</th>\n",
              "      <th>Accuracy</th>\n",
              "      <th>F1 Score</th>\n",
              "      <th>Precision</th>\n",
              "      <th>Recall</th>\n",
              "      <th>AUC</th>\n",
              "    </tr>\n",
              "  </thead>\n",
              "  <tbody>\n",
              "    <tr>\n",
              "      <th>0</th>\n",
              "      <td>Logistic Regression</td>\n",
              "      <td>0.919668</td>\n",
              "      <td>0.941414</td>\n",
              "      <td>0.922772</td>\n",
              "      <td>0.960825</td>\n",
              "      <td>0.968811</td>\n",
              "    </tr>\n",
              "    <tr>\n",
              "      <th>1</th>\n",
              "      <td>KNN</td>\n",
              "      <td>0.759003</td>\n",
              "      <td>0.840659</td>\n",
              "      <td>0.756178</td>\n",
              "      <td>0.946392</td>\n",
              "      <td>0.743699</td>\n",
              "    </tr>\n",
              "    <tr>\n",
              "      <th>2</th>\n",
              "      <td>SVM (Linear)</td>\n",
              "      <td>0.900277</td>\n",
              "      <td>0.926978</td>\n",
              "      <td>0.912176</td>\n",
              "      <td>0.942268</td>\n",
              "      <td>0.958976</td>\n",
              "    </tr>\n",
              "    <tr>\n",
              "      <th>3</th>\n",
              "      <td>GaussianNB</td>\n",
              "      <td>0.599723</td>\n",
              "      <td>0.637390</td>\n",
              "      <td>0.814103</td>\n",
              "      <td>0.523711</td>\n",
              "      <td>0.645243</td>\n",
              "    </tr>\n",
              "    <tr>\n",
              "      <th>4</th>\n",
              "      <td>Decision Tree Classifier</td>\n",
              "      <td>0.891967</td>\n",
              "      <td>0.918239</td>\n",
              "      <td>0.933902</td>\n",
              "      <td>0.903093</td>\n",
              "      <td>0.886146</td>\n",
              "    </tr>\n",
              "    <tr>\n",
              "      <th>5</th>\n",
              "      <td>Random Forest</td>\n",
              "      <td>0.930748</td>\n",
              "      <td>0.949084</td>\n",
              "      <td>0.937626</td>\n",
              "      <td>0.960825</td>\n",
              "      <td>0.971117</td>\n",
              "    </tr>\n",
              "    <tr>\n",
              "      <th>6</th>\n",
              "      <td>XGBoost Classifier</td>\n",
              "      <td>0.962604</td>\n",
              "      <td>0.972194</td>\n",
              "      <td>0.971193</td>\n",
              "      <td>0.973196</td>\n",
              "      <td>0.994502</td>\n",
              "    </tr>\n",
              "  </tbody>\n",
              "</table>\n",
              "</div>\n",
              "      <button class=\"colab-df-convert\" onclick=\"convertToInteractive('df-e25ab25e-b306-4071-8273-ffa7bb93dc1e')\"\n",
              "              title=\"Convert this dataframe to an interactive table.\"\n",
              "              style=\"display:none;\">\n",
              "        \n",
              "  <svg xmlns=\"http://www.w3.org/2000/svg\" height=\"24px\"viewBox=\"0 0 24 24\"\n",
              "       width=\"24px\">\n",
              "    <path d=\"M0 0h24v24H0V0z\" fill=\"none\"/>\n",
              "    <path d=\"M18.56 5.44l.94 2.06.94-2.06 2.06-.94-2.06-.94-.94-2.06-.94 2.06-2.06.94zm-11 1L8.5 8.5l.94-2.06 2.06-.94-2.06-.94L8.5 2.5l-.94 2.06-2.06.94zm10 10l.94 2.06.94-2.06 2.06-.94-2.06-.94-.94-2.06-.94 2.06-2.06.94z\"/><path d=\"M17.41 7.96l-1.37-1.37c-.4-.4-.92-.59-1.43-.59-.52 0-1.04.2-1.43.59L10.3 9.45l-7.72 7.72c-.78.78-.78 2.05 0 2.83L4 21.41c.39.39.9.59 1.41.59.51 0 1.02-.2 1.41-.59l7.78-7.78 2.81-2.81c.8-.78.8-2.07 0-2.86zM5.41 20L4 18.59l7.72-7.72 1.47 1.35L5.41 20z\"/>\n",
              "  </svg>\n",
              "      </button>\n",
              "      \n",
              "  <style>\n",
              "    .colab-df-container {\n",
              "      display:flex;\n",
              "      flex-wrap:wrap;\n",
              "      gap: 12px;\n",
              "    }\n",
              "\n",
              "    .colab-df-convert {\n",
              "      background-color: #E8F0FE;\n",
              "      border: none;\n",
              "      border-radius: 50%;\n",
              "      cursor: pointer;\n",
              "      display: none;\n",
              "      fill: #1967D2;\n",
              "      height: 32px;\n",
              "      padding: 0 0 0 0;\n",
              "      width: 32px;\n",
              "    }\n",
              "\n",
              "    .colab-df-convert:hover {\n",
              "      background-color: #E2EBFA;\n",
              "      box-shadow: 0px 1px 2px rgba(60, 64, 67, 0.3), 0px 1px 3px 1px rgba(60, 64, 67, 0.15);\n",
              "      fill: #174EA6;\n",
              "    }\n",
              "\n",
              "    [theme=dark] .colab-df-convert {\n",
              "      background-color: #3B4455;\n",
              "      fill: #D2E3FC;\n",
              "    }\n",
              "\n",
              "    [theme=dark] .colab-df-convert:hover {\n",
              "      background-color: #434B5C;\n",
              "      box-shadow: 0px 1px 3px 1px rgba(0, 0, 0, 0.15);\n",
              "      filter: drop-shadow(0px 1px 2px rgba(0, 0, 0, 0.3));\n",
              "      fill: #FFFFFF;\n",
              "    }\n",
              "  </style>\n",
              "\n",
              "      <script>\n",
              "        const buttonEl =\n",
              "          document.querySelector('#df-e25ab25e-b306-4071-8273-ffa7bb93dc1e button.colab-df-convert');\n",
              "        buttonEl.style.display =\n",
              "          google.colab.kernel.accessAllowed ? 'block' : 'none';\n",
              "\n",
              "        async function convertToInteractive(key) {\n",
              "          const element = document.querySelector('#df-e25ab25e-b306-4071-8273-ffa7bb93dc1e');\n",
              "          const dataTable =\n",
              "            await google.colab.kernel.invokeFunction('convertToInteractive',\n",
              "                                                     [key], {});\n",
              "          if (!dataTable) return;\n",
              "\n",
              "          const docLinkHtml = 'Like what you see? Visit the ' +\n",
              "            '<a target=\"_blank\" href=https://colab.research.google.com/notebooks/data_table.ipynb>data table notebook</a>'\n",
              "            + ' to learn more about interactive tables.';\n",
              "          element.innerHTML = '';\n",
              "          dataTable['output_type'] = 'display_data';\n",
              "          await google.colab.output.renderOutput(dataTable, element);\n",
              "          const docLink = document.createElement('div');\n",
              "          docLink.innerHTML = docLinkHtml;\n",
              "          element.appendChild(docLink);\n",
              "        }\n",
              "      </script>\n",
              "    </div>\n",
              "  </div>\n",
              "  "
            ]
          },
          "metadata": {},
          "execution_count": 40
        }
      ]
    },
    {
      "cell_type": "markdown",
      "source": [
        "> Best Performance belongs to XGBoost.\n",
        "\n",
        "\n",
        "\n",
        "\n",
        "\n",
        "\n",
        "\n",
        "\n"
      ],
      "metadata": {
        "id": "_zpd3oe5rOST"
      }
    },
    {
      "cell_type": "markdown",
      "source": [
        "# Save Model"
      ],
      "metadata": {
        "id": "NGQM3StVsZiu"
      }
    },
    {
      "cell_type": "code",
      "source": [
        "import joblib\n",
        "joblib.dump(xg, 'xgboost classifier for COVID-19 Tesing.pkl')"
      ],
      "metadata": {
        "colab": {
          "base_uri": "https://localhost:8080/"
        },
        "id": "p5YrA7iYpoXP",
        "outputId": "9a73be2c-6608-4ec7-8277-ff0d9b9f2b52"
      },
      "execution_count": null,
      "outputs": [
        {
          "output_type": "execute_result",
          "data": {
            "text/plain": [
              "['xgboost classifier for COVID-19 Tesing.pkl']"
            ]
          },
          "metadata": {},
          "execution_count": 41
        }
      ]
    },
    {
      "cell_type": "markdown",
      "source": [
        "# Test Model"
      ],
      "metadata": {
        "id": "On1Qg7GluEO_"
      }
    },
    {
      "cell_type": "code",
      "source": [
        "loaded_model = joblib.load('xgboost classifier for COVID-19 Tesing.pkl')"
      ],
      "metadata": {
        "id": "gdZpIX45svht"
      },
      "execution_count": null,
      "outputs": []
    },
    {
      "cell_type": "code",
      "source": [
        "loaded_model.predict(X_test_sc)[:6]"
      ],
      "metadata": {
        "colab": {
          "base_uri": "https://localhost:8080/"
        },
        "id": "oQ2ul9TFs4hT",
        "outputId": "811a3695-9e75-4173-b03e-ed21990f2c5d"
      },
      "execution_count": null,
      "outputs": [
        {
          "output_type": "execute_result",
          "data": {
            "text/plain": [
              "array([0, 1, 1, 1, 1, 1])"
            ]
          },
          "metadata": {},
          "execution_count": 43
        }
      ]
    },
    {
      "cell_type": "code",
      "source": [
        "individual_neg = df.iloc[[df[df['PCR_result'] == 0].index[54]], 1:].values\n",
        "result = loaded_model.predict(sc.transform(individual_neg))\n",
        "prob = loaded_model.predict_proba(sc.transform(individual_neg))\n",
        "if result[0] == 0:\n",
        "  print(\"COVID-19 undetectable\")\n",
        "  print(\"Confidence Rate:\", round(prob[0][np.argmax(prob[0])]*100, 3), '%')\n",
        "else:\n",
        "  print(\"COVID-19 detectable\")\n",
        "  print(\"Confidence Rate:\", round(prob[0][np.argmax(prob[0])]*100, 3), '%')"
      ],
      "metadata": {
        "colab": {
          "base_uri": "https://localhost:8080/"
        },
        "id": "6dO4tADmugfd",
        "outputId": "dc664003-df5f-406e-c183-85153e7e4dbc"
      },
      "execution_count": null,
      "outputs": [
        {
          "output_type": "stream",
          "name": "stdout",
          "text": [
            "COVID-19 undetectable\n",
            "Confidence Rate: 95.053 %\n"
          ]
        }
      ]
    },
    {
      "cell_type": "code",
      "source": [
        "individual_pos = df.iloc[[df[df['PCR_result'] == 1].index[54]], 1:].values\n",
        "result = loaded_model.predict(sc.transform(individual_pos))\n",
        "prob = loaded_model.predict_proba(sc.transform(individual_pos))\n",
        "if result[0] == 0:\n",
        "  print(\"COVID-19 undetectable\")\n",
        "  print(\"Confidence Rate:\", round(prob[0][np.argmax(prob[0])]*100, 3), '%')\n",
        "else:\n",
        "  print(\"COVID-19 detectable\")\n",
        "  print(\"Confidence Rate:\", round(prob[0][np.argmax(prob[0])]*100, 3), '%')"
      ],
      "metadata": {
        "colab": {
          "base_uri": "https://localhost:8080/"
        },
        "id": "ZM-gThvjwcrZ",
        "outputId": "8054c3da-44e5-4da7-d6ec-061d8b628265"
      },
      "execution_count": null,
      "outputs": [
        {
          "output_type": "stream",
          "name": "stdout",
          "text": [
            "COVID-19 detectable\n",
            "Confidence Rate: 85.042 %\n"
          ]
        }
      ]
    },
    {
      "cell_type": "code",
      "source": [
        "individual_pos = df.iloc[[df[df['PCR_result'] == 1].index[75]], 1:].values\n",
        "result = loaded_model.predict(sc.transform(individual_pos))\n",
        "prob = loaded_model.predict_proba(sc.transform(individual_pos))\n",
        "if result[0] == 0:\n",
        "  print(\"COVID-19 undetectable\")\n",
        "  print(\"Confidence Rate:\", round(prob[0][np.argmax(prob[0])]*100, 3), '%')\n",
        "else:\n",
        "  print(\"COVID-19 detectable\")\n",
        "  print(\"Confidence Rate:\", round(prob[0][np.argmax(prob[0])]*100, 3), '%')"
      ],
      "metadata": {
        "colab": {
          "base_uri": "https://localhost:8080/"
        },
        "id": "vGSdo8Onw4I4",
        "outputId": "f5103234-e637-46af-fb59-a64520c08c3c"
      },
      "execution_count": null,
      "outputs": [
        {
          "output_type": "stream",
          "name": "stdout",
          "text": [
            "COVID-19 detectable\n",
            "Confidence Rate: 95.816 %\n"
          ]
        }
      ]
    },
    {
      "cell_type": "code",
      "source": [
        "individual_neg = df.iloc[[df[df['PCR_result'] == 0].index[75]], 1:].values\n",
        "result = loaded_model.predict(sc.transform(individual_neg))\n",
        "prob = loaded_model.predict_proba(sc.transform(individual_neg))\n",
        "if result[0] == 0:\n",
        "  print(\"COVID-19 undetectable\")\n",
        "  print(\"Confidence Rate:\", round(prob[0][np.argmax(prob[0])]*100, 3), '%')\n",
        "else:\n",
        "  print(\"COVID-19 detectable\")\n",
        "  print(\"Confidence Rate:\", round(prob[0][np.argmax(prob[0])]*100, 3), '%')"
      ],
      "metadata": {
        "colab": {
          "base_uri": "https://localhost:8080/"
        },
        "id": "KHdlYpbPw_HV",
        "outputId": "c16c29cb-fdae-4e91-a09c-f3a84982d185"
      },
      "execution_count": null,
      "outputs": [
        {
          "output_type": "stream",
          "name": "stdout",
          "text": [
            "COVID-19 undetectable\n",
            "Confidence Rate: 98.841 %\n"
          ]
        }
      ]
    },
    {
      "cell_type": "markdown",
      "source": [
        "# Identify Protein (Features) Importance"
      ],
      "metadata": {
        "id": "Sobd4b8cxHDU"
      }
    },
    {
      "cell_type": "code",
      "source": [
        "sorted_idx = loaded_model.feature_importances_.argsort()\n",
        "\n",
        "plt.figure(figsize=(15,6))\n",
        "plots = plt.bar(range(len(loaded_model.feature_importances_[sorted_idx][-5:])), loaded_model.feature_importances_[sorted_idx][-5:] * 100, color = 'lightblue')\n",
        "plt.title('Feature Importance')\n",
        "plt.xticks([0,1,2,3,4,5], np.array(mass_to_charge_names)[sorted_idx][-5:])\n",
        "plt.ylabel('Percent Importance')\n",
        "plt.xlabel('Protein Spectra m/z')\n",
        "plt.ylim(0,max(loaded_model.feature_importances_[sorted_idx][-5:] * 100)+2)\n",
        "for bar in plots.patches:\n",
        "    plt.annotate(format(bar.get_height(), '.2f'),\n",
        "                   (bar.get_x() + bar.get_width() / 2,\n",
        "                    bar.get_height()), ha='center', va='center',\n",
        "                   size=10, xytext=(0, 8),\n",
        "                   textcoords='offset points')\n",
        "plt.show()"
      ],
      "metadata": {
        "colab": {
          "base_uri": "https://localhost:8080/",
          "height": 404
        },
        "id": "C0DhAI7sxkYA",
        "outputId": "47b352e5-464f-431e-c6df-b4de217b72e0"
      },
      "execution_count": null,
      "outputs": [
        {
          "output_type": "display_data",
          "data": {
            "text/plain": [
              "<Figure size 1080x432 with 1 Axes>"
            ],
            "image/png": "[encoded data removed]"
          },
          "metadata": {
            "needs_background": "light"
          }
        }
      ]
    },
    {
      "cell_type": "markdown",
      "source": [
        "The result showed 5 most influential molecules represented in molecular mass as in the chart.\n",
        "\n",
        "The molecules have the following molecular mass:\n",
        "\n",
        "> 1. 3325.02 g/mol\n",
        "> 2. 3354.77 g/mol\n",
        "> 3. 301.02 g/mol\n",
        "> 4. 3758.78 g/mol\n",
        "> 5. 1848.42 g/mol\n",
        "\n",
        "\n",
        "\n",
        "\n",
        "\n",
        "\n"
      ],
      "metadata": {
        "id": "1tTe5RZaccZ3"
      }
    },
    {
      "cell_type": "markdown",
      "source": [
        "# [*Challenge*] Unlabeled Data Points"
      ],
      "metadata": {
        "id": "emiUui2JpHFX"
      }
    },
    {
      "cell_type": "markdown",
      "source": [
        "Get back the default dataset"
      ],
      "metadata": {
        "id": "JswLJVwmqIxN"
      }
    },
    {
      "cell_type": "code",
      "source": [
        "default_data = pd.read_csv('anonymized_COVID-19_MS_dataset_041822.csv')\n",
        "unlabeled_df = default_data[default_data['PCR_result'] == 'unknown'].iloc[:, 2:]\n",
        "unlabeled_df"
      ],
      "metadata": {
        "colab": {
          "base_uri": "https://localhost:8080/",
          "height": 488
        },
        "id": "SRV5adompNid",
        "outputId": "53c70745-538d-4efb-f736-20e6df824ef0"
      },
      "execution_count": null,
      "outputs": [
        {
          "output_type": "execute_result",
          "data": {
            "text/plain": [
              "     PCR_result  244.17  244.38  245.48  246.44  246.69    247.36  247.99  \\\n",
              "209     unknown     NaN     NaN     NaN     NaN     NaN       NaN     NaN   \n",
              "210     unknown     NaN     NaN     NaN     NaN     NaN       NaN     NaN   \n",
              "211     unknown     NaN     NaN     NaN     NaN     NaN  0.914284     NaN   \n",
              "212     unknown     NaN     NaN     NaN     NaN     NaN       NaN     NaN   \n",
              "213     unknown     NaN     NaN     NaN     NaN     NaN       NaN     NaN   \n",
              "...         ...     ...     ...     ...     ...     ...       ...     ...   \n",
              "4277    unknown     NaN     NaN     NaN     NaN     NaN       NaN     NaN   \n",
              "4278    unknown     NaN     NaN     NaN     NaN     NaN       NaN     NaN   \n",
              "4279    unknown     NaN     NaN     NaN     NaN     NaN       NaN     NaN   \n",
              "4280    unknown     NaN     NaN     NaN     NaN     NaN       NaN     NaN   \n",
              "4281    unknown     NaN     NaN     NaN     NaN     NaN       NaN     NaN   \n",
              "\n",
              "      248.21  248.6  ...  15406.61  15411.6  15417.97  15468.66  16531.56  \\\n",
              "209      NaN    NaN  ...       NaN      NaN       NaN       NaN       NaN   \n",
              "210      NaN    NaN  ...       NaN      NaN       NaN       NaN       NaN   \n",
              "211      NaN    NaN  ...       NaN      NaN       NaN       NaN       NaN   \n",
              "212      NaN    NaN  ...       NaN      NaN       NaN       NaN       NaN   \n",
              "213      NaN    NaN  ...       NaN      NaN       NaN       NaN       NaN   \n",
              "...      ...    ...  ...       ...      ...       ...       ...       ...   \n",
              "4277     NaN    NaN  ...       NaN      NaN       NaN       NaN       NaN   \n",
              "4278     NaN    NaN  ...       NaN      NaN       NaN       NaN       NaN   \n",
              "4279     NaN    NaN  ...       NaN      NaN       NaN       NaN       NaN   \n",
              "4280     NaN    NaN  ...       NaN      NaN       NaN       NaN       NaN   \n",
              "4281     NaN    NaN  ...       NaN      NaN       NaN       NaN       NaN   \n",
              "\n",
              "      16612.52  16810.09  17207.81  18738.92  20265.36  \n",
              "209        NaN       NaN       NaN       NaN       NaN  \n",
              "210        NaN       NaN       NaN       NaN       NaN  \n",
              "211        NaN       NaN       NaN       NaN       NaN  \n",
              "212        NaN       NaN       NaN       NaN       NaN  \n",
              "213        NaN       NaN       NaN       NaN       NaN  \n",
              "...        ...       ...       ...       ...       ...  \n",
              "4277       NaN       NaN       NaN       NaN       NaN  \n",
              "4278       NaN       NaN       NaN       NaN       NaN  \n",
              "4279       NaN       NaN       NaN       NaN       NaN  \n",
              "4280       NaN       NaN       NaN       NaN       NaN  \n",
              "4281       NaN       NaN       NaN       NaN       NaN  \n",
              "\n",
              "[1877 rows x 2716 columns]"
            ],
            "text/html": [
              "\n",
              "  <div id=\"df-8292e5d4-1500-44d3-bb29-a79b51fe6309\">\n",
              "    <div class=\"colab-df-container\">\n",
              "      <div>\n",
              "<style scoped>\n",
              "    .dataframe tbody tr th:only-of-type {\n",
              "        vertical-align: middle;\n",
              "    }\n",
              "\n",
              "    .dataframe tbody tr th {\n",
              "        vertical-align: top;\n",
              "    }\n",
              "\n",
              "    .dataframe thead th {\n",
              "        text-align: right;\n",
              "    }\n",
              "</style>\n",
              "<table border=\"1\" class=\"dataframe\">\n",
              "  <thead>\n",
              "    <tr style=\"text-align: right;\">\n",
              "      <th></th>\n",
              "      <th>PCR_result</th>\n",
              "      <th>244.17</th>\n",
              "      <th>244.38</th>\n",
              "      <th>245.48</th>\n",
              "      <th>246.44</th>\n",
              "      <th>246.69</th>\n",
              "      <th>247.36</th>\n",
              "      <th>247.99</th>\n",
              "      <th>248.21</th>\n",
              "      <th>248.6</th>\n",
              "      <th>...</th>\n",
              "      <th>15406.61</th>\n",
              "      <th>15411.6</th>\n",
              "      <th>15417.97</th>\n",
              "      <th>15468.66</th>\n",
              "      <th>16531.56</th>\n",
              "      <th>16612.52</th>\n",
              "      <th>16810.09</th>\n",
              "      <th>17207.81</th>\n",
              "      <th>18738.92</th>\n",
              "      <th>20265.36</th>\n",
              "    </tr>\n",
              "  </thead>\n",
              "  <tbody>\n",
              "    <tr>\n",
              "      <th>209</th>\n",
              "      <td>unknown</td>\n",
              "      <td>NaN</td>\n",
              "      <td>NaN</td>\n",
              "      <td>NaN</td>\n",
              "      <td>NaN</td>\n",
              "      <td>NaN</td>\n",
              "      <td>NaN</td>\n",
              "      <td>NaN</td>\n",
              "      <td>NaN</td>\n",
              "      <td>NaN</td>\n",
              "      <td>...</td>\n",
              "      <td>NaN</td>\n",
              "      <td>NaN</td>\n",
              "      <td>NaN</td>\n",
              "      <td>NaN</td>\n",
              "      <td>NaN</td>\n",
              "      <td>NaN</td>\n",
              "      <td>NaN</td>\n",
              "      <td>NaN</td>\n",
              "      <td>NaN</td>\n",
              "      <td>NaN</td>\n",
              "    </tr>\n",
              "    <tr>\n",
              "      <th>210</th>\n",
              "      <td>unknown</td>\n",
              "      <td>NaN</td>\n",
              "      <td>NaN</td>\n",
              "      <td>NaN</td>\n",
              "      <td>NaN</td>\n",
              "      <td>NaN</td>\n",
              "      <td>NaN</td>\n",
              "      <td>NaN</td>\n",
              "      <td>NaN</td>\n",
              "      <td>NaN</td>\n",
              "      <td>...</td>\n",
              "      <td>NaN</td>\n",
              "      <td>NaN</td>\n",
              "      <td>NaN</td>\n",
              "      <td>NaN</td>\n",
              "      <td>NaN</td>\n",
              "      <td>NaN</td>\n",
              "      <td>NaN</td>\n",
              "      <td>NaN</td>\n",
              "      <td>NaN</td>\n",
              "      <td>NaN</td>\n",
              "    </tr>\n",
              "    <tr>\n",
              "      <th>211</th>\n",
              "      <td>unknown</td>\n",
              "      <td>NaN</td>\n",
              "      <td>NaN</td>\n",
              "      <td>NaN</td>\n",
              "      <td>NaN</td>\n",
              "      <td>NaN</td>\n",
              "      <td>0.914284</td>\n",
              "      <td>NaN</td>\n",
              "      <td>NaN</td>\n",
              "      <td>NaN</td>\n",
              "      <td>...</td>\n",
              "      <td>NaN</td>\n",
              "      <td>NaN</td>\n",
              "      <td>NaN</td>\n",
              "      <td>NaN</td>\n",
              "      <td>NaN</td>\n",
              "      <td>NaN</td>\n",
              "      <td>NaN</td>\n",
              "      <td>NaN</td>\n",
              "      <td>NaN</td>\n",
              "      <td>NaN</td>\n",
              "    </tr>\n",
              "    <tr>\n",
              "      <th>212</th>\n",
              "      <td>unknown</td>\n",
              "      <td>NaN</td>\n",
              "      <td>NaN</td>\n",
              "      <td>NaN</td>\n",
              "      <td>NaN</td>\n",
              "      <td>NaN</td>\n",
              "      <td>NaN</td>\n",
              "      <td>NaN</td>\n",
              "      <td>NaN</td>\n",
              "      <td>NaN</td>\n",
              "      <td>...</td>\n",
              "      <td>NaN</td>\n",
              "      <td>NaN</td>\n",
              "      <td>NaN</td>\n",
              "      <td>NaN</td>\n",
              "      <td>NaN</td>\n",
              "      <td>NaN</td>\n",
              "      <td>NaN</td>\n",
              "      <td>NaN</td>\n",
              "      <td>NaN</td>\n",
              "      <td>NaN</td>\n",
              "    </tr>\n",
              "    <tr>\n",
              "      <th>213</th>\n",
              "      <td>unknown</td>\n",
              "      <td>NaN</td>\n",
              "      <td>NaN</td>\n",
              "      <td>NaN</td>\n",
              "      <td>NaN</td>\n",
              "      <td>NaN</td>\n",
              "      <td>NaN</td>\n",
              "      <td>NaN</td>\n",
              "      <td>NaN</td>\n",
              "      <td>NaN</td>\n",
              "      <td>...</td>\n",
              "      <td>NaN</td>\n",
              "      <td>NaN</td>\n",
              "      <td>NaN</td>\n",
              "      <td>NaN</td>\n",
              "      <td>NaN</td>\n",
              "      <td>NaN</td>\n",
              "      <td>NaN</td>\n",
              "      <td>NaN</td>\n",
              "      <td>NaN</td>\n",
              "      <td>NaN</td>\n",
              "    </tr>\n",
              "    <tr>\n",
              "      <th>...</th>\n",
              "      <td>...</td>\n",
              "      <td>...</td>\n",
              "      <td>...</td>\n",
              "      <td>...</td>\n",
              "      <td>...</td>\n",
              "      <td>...</td>\n",
              "      <td>...</td>\n",
              "      <td>...</td>\n",
              "      <td>...</td>\n",
              "      <td>...</td>\n",
              "      <td>...</td>\n",
              "      <td>...</td>\n",
              "      <td>...</td>\n",
              "      <td>...</td>\n",
              "      <td>...</td>\n",
              "      <td>...</td>\n",
              "      <td>...</td>\n",
              "      <td>...</td>\n",
              "      <td>...</td>\n",
              "      <td>...</td>\n",
              "      <td>...</td>\n",
              "    </tr>\n",
              "    <tr>\n",
              "      <th>4277</th>\n",
              "      <td>unknown</td>\n",
              "      <td>NaN</td>\n",
              "      <td>NaN</td>\n",
              "      <td>NaN</td>\n",
              "      <td>NaN</td>\n",
              "      <td>NaN</td>\n",
              "      <td>NaN</td>\n",
              "      <td>NaN</td>\n",
              "      <td>NaN</td>\n",
              "      <td>NaN</td>\n",
              "      <td>...</td>\n",
              "      <td>NaN</td>\n",
              "      <td>NaN</td>\n",
              "      <td>NaN</td>\n",
              "      <td>NaN</td>\n",
              "      <td>NaN</td>\n",
              "      <td>NaN</td>\n",
              "      <td>NaN</td>\n",
              "      <td>NaN</td>\n",
              "      <td>NaN</td>\n",
              "      <td>NaN</td>\n",
              "    </tr>\n",
              "    <tr>\n",
              "      <th>4278</th>\n",
              "      <td>unknown</td>\n",
              "      <td>NaN</td>\n",
              "      <td>NaN</td>\n",
              "      <td>NaN</td>\n",
              "      <td>NaN</td>\n",
              "      <td>NaN</td>\n",
              "      <td>NaN</td>\n",
              "      <td>NaN</td>\n",
              "      <td>NaN</td>\n",
              "      <td>NaN</td>\n",
              "      <td>...</td>\n",
              "      <td>NaN</td>\n",
              "      <td>NaN</td>\n",
              "      <td>NaN</td>\n",
              "      <td>NaN</td>\n",
              "      <td>NaN</td>\n",
              "      <td>NaN</td>\n",
              "      <td>NaN</td>\n",
              "      <td>NaN</td>\n",
              "      <td>NaN</td>\n",
              "      <td>NaN</td>\n",
              "    </tr>\n",
              "    <tr>\n",
              "      <th>4279</th>\n",
              "      <td>unknown</td>\n",
              "      <td>NaN</td>\n",
              "      <td>NaN</td>\n",
              "      <td>NaN</td>\n",
              "      <td>NaN</td>\n",
              "      <td>NaN</td>\n",
              "      <td>NaN</td>\n",
              "      <td>NaN</td>\n",
              "      <td>NaN</td>\n",
              "      <td>NaN</td>\n",
              "      <td>...</td>\n",
              "      <td>NaN</td>\n",
              "      <td>NaN</td>\n",
              "      <td>NaN</td>\n",
              "      <td>NaN</td>\n",
              "      <td>NaN</td>\n",
              "      <td>NaN</td>\n",
              "      <td>NaN</td>\n",
              "      <td>NaN</td>\n",
              "      <td>NaN</td>\n",
              "      <td>NaN</td>\n",
              "    </tr>\n",
              "    <tr>\n",
              "      <th>4280</th>\n",
              "      <td>unknown</td>\n",
              "      <td>NaN</td>\n",
              "      <td>NaN</td>\n",
              "      <td>NaN</td>\n",
              "      <td>NaN</td>\n",
              "      <td>NaN</td>\n",
              "      <td>NaN</td>\n",
              "      <td>NaN</td>\n",
              "      <td>NaN</td>\n",
              "      <td>NaN</td>\n",
              "      <td>...</td>\n",
              "      <td>NaN</td>\n",
              "      <td>NaN</td>\n",
              "      <td>NaN</td>\n",
              "      <td>NaN</td>\n",
              "      <td>NaN</td>\n",
              "      <td>NaN</td>\n",
              "      <td>NaN</td>\n",
              "      <td>NaN</td>\n",
              "      <td>NaN</td>\n",
              "      <td>NaN</td>\n",
              "    </tr>\n",
              "    <tr>\n",
              "      <th>4281</th>\n",
              "      <td>unknown</td>\n",
              "      <td>NaN</td>\n",
              "      <td>NaN</td>\n",
              "      <td>NaN</td>\n",
              "      <td>NaN</td>\n",
              "      <td>NaN</td>\n",
              "      <td>NaN</td>\n",
              "      <td>NaN</td>\n",
              "      <td>NaN</td>\n",
              "      <td>NaN</td>\n",
              "      <td>...</td>\n",
              "      <td>NaN</td>\n",
              "      <td>NaN</td>\n",
              "      <td>NaN</td>\n",
              "      <td>NaN</td>\n",
              "      <td>NaN</td>\n",
              "      <td>NaN</td>\n",
              "      <td>NaN</td>\n",
              "      <td>NaN</td>\n",
              "      <td>NaN</td>\n",
              "      <td>NaN</td>\n",
              "    </tr>\n",
              "  </tbody>\n",
              "</table>\n",
              "<p>1877 rows × 2716 columns</p>\n",
              "</div>\n",
              "      <button class=\"colab-df-convert\" onclick=\"convertToInteractive('df-8292e5d4-1500-44d3-bb29-a79b51fe6309')\"\n",
              "              title=\"Convert this dataframe to an interactive table.\"\n",
              "              style=\"display:none;\">\n",
              "        \n",
              "  <svg xmlns=\"http://www.w3.org/2000/svg\" height=\"24px\"viewBox=\"0 0 24 24\"\n",
              "       width=\"24px\">\n",
              "    <path d=\"M0 0h24v24H0V0z\" fill=\"none\"/>\n",
              "    <path d=\"M18.56 5.44l.94 2.06.94-2.06 2.06-.94-2.06-.94-.94-2.06-.94 2.06-2.06.94zm-11 1L8.5 8.5l.94-2.06 2.06-.94-2.06-.94L8.5 2.5l-.94 2.06-2.06.94zm10 10l.94 2.06.94-2.06 2.06-.94-2.06-.94-.94-2.06-.94 2.06-2.06.94z\"/><path d=\"M17.41 7.96l-1.37-1.37c-.4-.4-.92-.59-1.43-.59-.52 0-1.04.2-1.43.59L10.3 9.45l-7.72 7.72c-.78.78-.78 2.05 0 2.83L4 21.41c.39.39.9.59 1.41.59.51 0 1.02-.2 1.41-.59l7.78-7.78 2.81-2.81c.8-.78.8-2.07 0-2.86zM5.41 20L4 18.59l7.72-7.72 1.47 1.35L5.41 20z\"/>\n",
              "  </svg>\n",
              "      </button>\n",
              "      \n",
              "  <style>\n",
              "    .colab-df-container {\n",
              "      display:flex;\n",
              "      flex-wrap:wrap;\n",
              "      gap: 12px;\n",
              "    }\n",
              "\n",
              "    .colab-df-convert {\n",
              "      background-color: #E8F0FE;\n",
              "      border: none;\n",
              "      border-radius: 50%;\n",
              "      cursor: pointer;\n",
              "      display: none;\n",
              "      fill: #1967D2;\n",
              "      height: 32px;\n",
              "      padding: 0 0 0 0;\n",
              "      width: 32px;\n",
              "    }\n",
              "\n",
              "    .colab-df-convert:hover {\n",
              "      background-color: #E2EBFA;\n",
              "      box-shadow: 0px 1px 2px rgba(60, 64, 67, 0.3), 0px 1px 3px 1px rgba(60, 64, 67, 0.15);\n",
              "      fill: #174EA6;\n",
              "    }\n",
              "\n",
              "    [theme=dark] .colab-df-convert {\n",
              "      background-color: #3B4455;\n",
              "      fill: #D2E3FC;\n",
              "    }\n",
              "\n",
              "    [theme=dark] .colab-df-convert:hover {\n",
              "      background-color: #434B5C;\n",
              "      box-shadow: 0px 1px 3px 1px rgba(0, 0, 0, 0.15);\n",
              "      filter: drop-shadow(0px 1px 2px rgba(0, 0, 0, 0.3));\n",
              "      fill: #FFFFFF;\n",
              "    }\n",
              "  </style>\n",
              "\n",
              "      <script>\n",
              "        const buttonEl =\n",
              "          document.querySelector('#df-8292e5d4-1500-44d3-bb29-a79b51fe6309 button.colab-df-convert');\n",
              "        buttonEl.style.display =\n",
              "          google.colab.kernel.accessAllowed ? 'block' : 'none';\n",
              "\n",
              "        async function convertToInteractive(key) {\n",
              "          const element = document.querySelector('#df-8292e5d4-1500-44d3-bb29-a79b51fe6309');\n",
              "          const dataTable =\n",
              "            await google.colab.kernel.invokeFunction('convertToInteractive',\n",
              "                                                     [key], {});\n",
              "          if (!dataTable) return;\n",
              "\n",
              "          const docLinkHtml = 'Like what you see? Visit the ' +\n",
              "            '<a target=\"_blank\" href=https://colab.research.google.com/notebooks/data_table.ipynb>data table notebook</a>'\n",
              "            + ' to learn more about interactive tables.';\n",
              "          element.innerHTML = '';\n",
              "          dataTable['output_type'] = 'display_data';\n",
              "          await google.colab.output.renderOutput(dataTable, element);\n",
              "          const docLink = document.createElement('div');\n",
              "          docLink.innerHTML = docLinkHtml;\n",
              "          element.appendChild(docLink);\n",
              "        }\n",
              "      </script>\n",
              "    </div>\n",
              "  </div>\n",
              "  "
            ]
          },
          "metadata": {},
          "execution_count": 49
        }
      ]
    },
    {
      "cell_type": "code",
      "source": [
        "unlabeled_df['PCR_result'].value_counts()"
      ],
      "metadata": {
        "colab": {
          "base_uri": "https://localhost:8080/"
        },
        "id": "eY78DPLtqX-E",
        "outputId": "9e044b51-8042-4d16-829f-ef618d8e2ce8"
      },
      "execution_count": null,
      "outputs": [
        {
          "output_type": "execute_result",
          "data": {
            "text/plain": [
              "unknown    1877\n",
              "Name: PCR_result, dtype: int64"
            ]
          },
          "metadata": {},
          "execution_count": 50
        }
      ]
    },
    {
      "cell_type": "markdown",
      "source": [
        "Manipulation on unlabeled data"
      ],
      "metadata": {
        "id": "-Z501uJuqMEI"
      }
    },
    {
      "cell_type": "code",
      "source": [
        "unlabeled_df.fillna(0, axis=0, inplace=True)\n",
        "unlabeled_df['PCR_result'] = 0 #Set to 0 before being replaced by the result from prediction\n",
        "unlabeled_df"
      ],
      "metadata": {
        "colab": {
          "base_uri": "https://localhost:8080/",
          "height": 488
        },
        "id": "siJtxWtdqFMG",
        "outputId": "54e4b62b-bd18-46d3-aa27-ed08dbe99635"
      },
      "execution_count": null,
      "outputs": [
        {
          "output_type": "execute_result",
          "data": {
            "text/plain": [
              "      PCR_result  244.17  244.38  245.48  246.44  246.69    247.36  247.99  \\\n",
              "209            0     0.0     0.0     0.0     0.0     0.0  0.000000     0.0   \n",
              "210            0     0.0     0.0     0.0     0.0     0.0  0.000000     0.0   \n",
              "211            0     0.0     0.0     0.0     0.0     0.0  0.914284     0.0   \n",
              "212            0     0.0     0.0     0.0     0.0     0.0  0.000000     0.0   \n",
              "213            0     0.0     0.0     0.0     0.0     0.0  0.000000     0.0   \n",
              "...          ...     ...     ...     ...     ...     ...       ...     ...   \n",
              "4277           0     0.0     0.0     0.0     0.0     0.0  0.000000     0.0   \n",
              "4278           0     0.0     0.0     0.0     0.0     0.0  0.000000     0.0   \n",
              "4279           0     0.0     0.0     0.0     0.0     0.0  0.000000     0.0   \n",
              "4280           0     0.0     0.0     0.0     0.0     0.0  0.000000     0.0   \n",
              "4281           0     0.0     0.0     0.0     0.0     0.0  0.000000     0.0   \n",
              "\n",
              "      248.21  248.6  ...  15406.61  15411.6  15417.97  15468.66  16531.56  \\\n",
              "209      0.0    0.0  ...       0.0      0.0       0.0       0.0       0.0   \n",
              "210      0.0    0.0  ...       0.0      0.0       0.0       0.0       0.0   \n",
              "211      0.0    0.0  ...       0.0      0.0       0.0       0.0       0.0   \n",
              "212      0.0    0.0  ...       0.0      0.0       0.0       0.0       0.0   \n",
              "213      0.0    0.0  ...       0.0      0.0       0.0       0.0       0.0   \n",
              "...      ...    ...  ...       ...      ...       ...       ...       ...   \n",
              "4277     0.0    0.0  ...       0.0      0.0       0.0       0.0       0.0   \n",
              "4278     0.0    0.0  ...       0.0      0.0       0.0       0.0       0.0   \n",
              "4279     0.0    0.0  ...       0.0      0.0       0.0       0.0       0.0   \n",
              "4280     0.0    0.0  ...       0.0      0.0       0.0       0.0       0.0   \n",
              "4281     0.0    0.0  ...       0.0      0.0       0.0       0.0       0.0   \n",
              "\n",
              "      16612.52  16810.09  17207.81  18738.92  20265.36  \n",
              "209        0.0       0.0       0.0       0.0       0.0  \n",
              "210        0.0       0.0       0.0       0.0       0.0  \n",
              "211        0.0       0.0       0.0       0.0       0.0  \n",
              "212        0.0       0.0       0.0       0.0       0.0  \n",
              "213        0.0       0.0       0.0       0.0       0.0  \n",
              "...        ...       ...       ...       ...       ...  \n",
              "4277       0.0       0.0       0.0       0.0       0.0  \n",
              "4278       0.0       0.0       0.0       0.0       0.0  \n",
              "4279       0.0       0.0       0.0       0.0       0.0  \n",
              "4280       0.0       0.0       0.0       0.0       0.0  \n",
              "4281       0.0       0.0       0.0       0.0       0.0  \n",
              "\n",
              "[1877 rows x 2716 columns]"
            ],
            "text/html": [
              "\n",
              "  <div id=\"df-a01d78a6-95e1-43ea-9be2-2b227d1f2cd6\">\n",
              "    <div class=\"colab-df-container\">\n",
              "      <div>\n",
              "<style scoped>\n",
              "    .dataframe tbody tr th:only-of-type {\n",
              "        vertical-align: middle;\n",
              "    }\n",
              "\n",
              "    .dataframe tbody tr th {\n",
              "        vertical-align: top;\n",
              "    }\n",
              "\n",
              "    .dataframe thead th {\n",
              "        text-align: right;\n",
              "    }\n",
              "</style>\n",
              "<table border=\"1\" class=\"dataframe\">\n",
              "  <thead>\n",
              "    <tr style=\"text-align: right;\">\n",
              "      <th></th>\n",
              "      <th>PCR_result</th>\n",
              "      <th>244.17</th>\n",
              "      <th>244.38</th>\n",
              "      <th>245.48</th>\n",
              "      <th>246.44</th>\n",
              "      <th>246.69</th>\n",
              "      <th>247.36</th>\n",
              "      <th>247.99</th>\n",
              "      <th>248.21</th>\n",
              "      <th>248.6</th>\n",
              "      <th>...</th>\n",
              "      <th>15406.61</th>\n",
              "      <th>15411.6</th>\n",
              "      <th>15417.97</th>\n",
              "      <th>15468.66</th>\n",
              "      <th>16531.56</th>\n",
              "      <th>16612.52</th>\n",
              "      <th>16810.09</th>\n",
              "      <th>17207.81</th>\n",
              "      <th>18738.92</th>\n",
              "      <th>20265.36</th>\n",
              "    </tr>\n",
              "  </thead>\n",
              "  <tbody>\n",
              "    <tr>\n",
              "      <th>209</th>\n",
              "      <td>0</td>\n",
              "      <td>0.0</td>\n",
              "      <td>0.0</td>\n",
              "      <td>0.0</td>\n",
              "      <td>0.0</td>\n",
              "      <td>0.0</td>\n",
              "      <td>0.000000</td>\n",
              "      <td>0.0</td>\n",
              "      <td>0.0</td>\n",
              "      <td>0.0</td>\n",
              "      <td>...</td>\n",
              "      <td>0.0</td>\n",
              "      <td>0.0</td>\n",
              "      <td>0.0</td>\n",
              "      <td>0.0</td>\n",
              "      <td>0.0</td>\n",
              "      <td>0.0</td>\n",
              "      <td>0.0</td>\n",
              "      <td>0.0</td>\n",
              "      <td>0.0</td>\n",
              "      <td>0.0</td>\n",
              "    </tr>\n",
              "    <tr>\n",
              "      <th>210</th>\n",
              "      <td>0</td>\n",
              "      <td>0.0</td>\n",
              "      <td>0.0</td>\n",
              "      <td>0.0</td>\n",
              "      <td>0.0</td>\n",
              "      <td>0.0</td>\n",
              "      <td>0.000000</td>\n",
              "      <td>0.0</td>\n",
              "      <td>0.0</td>\n",
              "      <td>0.0</td>\n",
              "      <td>...</td>\n",
              "      <td>0.0</td>\n",
              "      <td>0.0</td>\n",
              "      <td>0.0</td>\n",
              "      <td>0.0</td>\n",
              "      <td>0.0</td>\n",
              "      <td>0.0</td>\n",
              "      <td>0.0</td>\n",
              "      <td>0.0</td>\n",
              "      <td>0.0</td>\n",
              "      <td>0.0</td>\n",
              "    </tr>\n",
              "    <tr>\n",
              "      <th>211</th>\n",
              "      <td>0</td>\n",
              "      <td>0.0</td>\n",
              "      <td>0.0</td>\n",
              "      <td>0.0</td>\n",
              "      <td>0.0</td>\n",
              "      <td>0.0</td>\n",
              "      <td>0.914284</td>\n",
              "      <td>0.0</td>\n",
              "      <td>0.0</td>\n",
              "      <td>0.0</td>\n",
              "      <td>...</td>\n",
              "      <td>0.0</td>\n",
              "      <td>0.0</td>\n",
              "      <td>0.0</td>\n",
              "      <td>0.0</td>\n",
              "      <td>0.0</td>\n",
              "      <td>0.0</td>\n",
              "      <td>0.0</td>\n",
              "      <td>0.0</td>\n",
              "      <td>0.0</td>\n",
              "      <td>0.0</td>\n",
              "    </tr>\n",
              "    <tr>\n",
              "      <th>212</th>\n",
              "      <td>0</td>\n",
              "      <td>0.0</td>\n",
              "      <td>0.0</td>\n",
              "      <td>0.0</td>\n",
              "      <td>0.0</td>\n",
              "      <td>0.0</td>\n",
              "      <td>0.000000</td>\n",
              "      <td>0.0</td>\n",
              "      <td>0.0</td>\n",
              "      <td>0.0</td>\n",
              "      <td>...</td>\n",
              "      <td>0.0</td>\n",
              "      <td>0.0</td>\n",
              "      <td>0.0</td>\n",
              "      <td>0.0</td>\n",
              "      <td>0.0</td>\n",
              "      <td>0.0</td>\n",
              "      <td>0.0</td>\n",
              "      <td>0.0</td>\n",
              "      <td>0.0</td>\n",
              "      <td>0.0</td>\n",
              "    </tr>\n",
              "    <tr>\n",
              "      <th>213</th>\n",
              "      <td>0</td>\n",
              "      <td>0.0</td>\n",
              "      <td>0.0</td>\n",
              "      <td>0.0</td>\n",
              "      <td>0.0</td>\n",
              "      <td>0.0</td>\n",
              "      <td>0.000000</td>\n",
              "      <td>0.0</td>\n",
              "      <td>0.0</td>\n",
              "      <td>0.0</td>\n",
              "      <td>...</td>\n",
              "      <td>0.0</td>\n",
              "      <td>0.0</td>\n",
              "      <td>0.0</td>\n",
              "      <td>0.0</td>\n",
              "      <td>0.0</td>\n",
              "      <td>0.0</td>\n",
              "      <td>0.0</td>\n",
              "      <td>0.0</td>\n",
              "      <td>0.0</td>\n",
              "      <td>0.0</td>\n",
              "    </tr>\n",
              "    <tr>\n",
              "      <th>...</th>\n",
              "      <td>...</td>\n",
              "      <td>...</td>\n",
              "      <td>...</td>\n",
              "      <td>...</td>\n",
              "      <td>...</td>\n",
              "      <td>...</td>\n",
              "      <td>...</td>\n",
              "      <td>...</td>\n",
              "      <td>...</td>\n",
              "      <td>...</td>\n",
              "      <td>...</td>\n",
              "      <td>...</td>\n",
              "      <td>...</td>\n",
              "      <td>...</td>\n",
              "      <td>...</td>\n",
              "      <td>...</td>\n",
              "      <td>...</td>\n",
              "      <td>...</td>\n",
              "      <td>...</td>\n",
              "      <td>...</td>\n",
              "      <td>...</td>\n",
              "    </tr>\n",
              "    <tr>\n",
              "      <th>4277</th>\n",
              "      <td>0</td>\n",
              "      <td>0.0</td>\n",
              "      <td>0.0</td>\n",
              "      <td>0.0</td>\n",
              "      <td>0.0</td>\n",
              "      <td>0.0</td>\n",
              "      <td>0.000000</td>\n",
              "      <td>0.0</td>\n",
              "      <td>0.0</td>\n",
              "      <td>0.0</td>\n",
              "      <td>...</td>\n",
              "      <td>0.0</td>\n",
              "      <td>0.0</td>\n",
              "      <td>0.0</td>\n",
              "      <td>0.0</td>\n",
              "      <td>0.0</td>\n",
              "      <td>0.0</td>\n",
              "      <td>0.0</td>\n",
              "      <td>0.0</td>\n",
              "      <td>0.0</td>\n",
              "      <td>0.0</td>\n",
              "    </tr>\n",
              "    <tr>\n",
              "      <th>4278</th>\n",
              "      <td>0</td>\n",
              "      <td>0.0</td>\n",
              "      <td>0.0</td>\n",
              "      <td>0.0</td>\n",
              "      <td>0.0</td>\n",
              "      <td>0.0</td>\n",
              "      <td>0.000000</td>\n",
              "      <td>0.0</td>\n",
              "      <td>0.0</td>\n",
              "      <td>0.0</td>\n",
              "      <td>...</td>\n",
              "      <td>0.0</td>\n",
              "      <td>0.0</td>\n",
              "      <td>0.0</td>\n",
              "      <td>0.0</td>\n",
              "      <td>0.0</td>\n",
              "      <td>0.0</td>\n",
              "      <td>0.0</td>\n",
              "      <td>0.0</td>\n",
              "      <td>0.0</td>\n",
              "      <td>0.0</td>\n",
              "    </tr>\n",
              "    <tr>\n",
              "      <th>4279</th>\n",
              "      <td>0</td>\n",
              "      <td>0.0</td>\n",
              "      <td>0.0</td>\n",
              "      <td>0.0</td>\n",
              "      <td>0.0</td>\n",
              "      <td>0.0</td>\n",
              "      <td>0.000000</td>\n",
              "      <td>0.0</td>\n",
              "      <td>0.0</td>\n",
              "      <td>0.0</td>\n",
              "      <td>...</td>\n",
              "      <td>0.0</td>\n",
              "      <td>0.0</td>\n",
              "      <td>0.0</td>\n",
              "      <td>0.0</td>\n",
              "      <td>0.0</td>\n",
              "      <td>0.0</td>\n",
              "      <td>0.0</td>\n",
              "      <td>0.0</td>\n",
              "      <td>0.0</td>\n",
              "      <td>0.0</td>\n",
              "    </tr>\n",
              "    <tr>\n",
              "      <th>4280</th>\n",
              "      <td>0</td>\n",
              "      <td>0.0</td>\n",
              "      <td>0.0</td>\n",
              "      <td>0.0</td>\n",
              "      <td>0.0</td>\n",
              "      <td>0.0</td>\n",
              "      <td>0.000000</td>\n",
              "      <td>0.0</td>\n",
              "      <td>0.0</td>\n",
              "      <td>0.0</td>\n",
              "      <td>...</td>\n",
              "      <td>0.0</td>\n",
              "      <td>0.0</td>\n",
              "      <td>0.0</td>\n",
              "      <td>0.0</td>\n",
              "      <td>0.0</td>\n",
              "      <td>0.0</td>\n",
              "      <td>0.0</td>\n",
              "      <td>0.0</td>\n",
              "      <td>0.0</td>\n",
              "      <td>0.0</td>\n",
              "    </tr>\n",
              "    <tr>\n",
              "      <th>4281</th>\n",
              "      <td>0</td>\n",
              "      <td>0.0</td>\n",
              "      <td>0.0</td>\n",
              "      <td>0.0</td>\n",
              "      <td>0.0</td>\n",
              "      <td>0.0</td>\n",
              "      <td>0.000000</td>\n",
              "      <td>0.0</td>\n",
              "      <td>0.0</td>\n",
              "      <td>0.0</td>\n",
              "      <td>...</td>\n",
              "      <td>0.0</td>\n",
              "      <td>0.0</td>\n",
              "      <td>0.0</td>\n",
              "      <td>0.0</td>\n",
              "      <td>0.0</td>\n",
              "      <td>0.0</td>\n",
              "      <td>0.0</td>\n",
              "      <td>0.0</td>\n",
              "      <td>0.0</td>\n",
              "      <td>0.0</td>\n",
              "    </tr>\n",
              "  </tbody>\n",
              "</table>\n",
              "<p>1877 rows × 2716 columns</p>\n",
              "</div>\n",
              "      <button class=\"colab-df-convert\" onclick=\"convertToInteractive('df-a01d78a6-95e1-43ea-9be2-2b227d1f2cd6')\"\n",
              "              title=\"Convert this dataframe to an interactive table.\"\n",
              "              style=\"display:none;\">\n",
              "        \n",
              "  <svg xmlns=\"http://www.w3.org/2000/svg\" height=\"24px\"viewBox=\"0 0 24 24\"\n",
              "       width=\"24px\">\n",
              "    <path d=\"M0 0h24v24H0V0z\" fill=\"none\"/>\n",
              "    <path d=\"M18.56 5.44l.94 2.06.94-2.06 2.06-.94-2.06-.94-.94-2.06-.94 2.06-2.06.94zm-11 1L8.5 8.5l.94-2.06 2.06-.94-2.06-.94L8.5 2.5l-.94 2.06-2.06.94zm10 10l.94 2.06.94-2.06 2.06-.94-2.06-.94-.94-2.06-.94 2.06-2.06.94z\"/><path d=\"M17.41 7.96l-1.37-1.37c-.4-.4-.92-.59-1.43-.59-.52 0-1.04.2-1.43.59L10.3 9.45l-7.72 7.72c-.78.78-.78 2.05 0 2.83L4 21.41c.39.39.9.59 1.41.59.51 0 1.02-.2 1.41-.59l7.78-7.78 2.81-2.81c.8-.78.8-2.07 0-2.86zM5.41 20L4 18.59l7.72-7.72 1.47 1.35L5.41 20z\"/>\n",
              "  </svg>\n",
              "      </button>\n",
              "      \n",
              "  <style>\n",
              "    .colab-df-container {\n",
              "      display:flex;\n",
              "      flex-wrap:wrap;\n",
              "      gap: 12px;\n",
              "    }\n",
              "\n",
              "    .colab-df-convert {\n",
              "      background-color: #E8F0FE;\n",
              "      border: none;\n",
              "      border-radius: 50%;\n",
              "      cursor: pointer;\n",
              "      display: none;\n",
              "      fill: #1967D2;\n",
              "      height: 32px;\n",
              "      padding: 0 0 0 0;\n",
              "      width: 32px;\n",
              "    }\n",
              "\n",
              "    .colab-df-convert:hover {\n",
              "      background-color: #E2EBFA;\n",
              "      box-shadow: 0px 1px 2px rgba(60, 64, 67, 0.3), 0px 1px 3px 1px rgba(60, 64, 67, 0.15);\n",
              "      fill: #174EA6;\n",
              "    }\n",
              "\n",
              "    [theme=dark] .colab-df-convert {\n",
              "      background-color: #3B4455;\n",
              "      fill: #D2E3FC;\n",
              "    }\n",
              "\n",
              "    [theme=dark] .colab-df-convert:hover {\n",
              "      background-color: #434B5C;\n",
              "      box-shadow: 0px 1px 3px 1px rgba(0, 0, 0, 0.15);\n",
              "      filter: drop-shadow(0px 1px 2px rgba(0, 0, 0, 0.3));\n",
              "      fill: #FFFFFF;\n",
              "    }\n",
              "  </style>\n",
              "\n",
              "      <script>\n",
              "        const buttonEl =\n",
              "          document.querySelector('#df-a01d78a6-95e1-43ea-9be2-2b227d1f2cd6 button.colab-df-convert');\n",
              "        buttonEl.style.display =\n",
              "          google.colab.kernel.accessAllowed ? 'block' : 'none';\n",
              "\n",
              "        async function convertToInteractive(key) {\n",
              "          const element = document.querySelector('#df-a01d78a6-95e1-43ea-9be2-2b227d1f2cd6');\n",
              "          const dataTable =\n",
              "            await google.colab.kernel.invokeFunction('convertToInteractive',\n",
              "                                                     [key], {});\n",
              "          if (!dataTable) return;\n",
              "\n",
              "          const docLinkHtml = 'Like what you see? Visit the ' +\n",
              "            '<a target=\"_blank\" href=https://colab.research.google.com/notebooks/data_table.ipynb>data table notebook</a>'\n",
              "            + ' to learn more about interactive tables.';\n",
              "          element.innerHTML = '';\n",
              "          dataTable['output_type'] = 'display_data';\n",
              "          await google.colab.output.renderOutput(dataTable, element);\n",
              "          const docLink = document.createElement('div');\n",
              "          docLink.innerHTML = docLinkHtml;\n",
              "          element.appendChild(docLink);\n",
              "        }\n",
              "      </script>\n",
              "    </div>\n",
              "  </div>\n",
              "  "
            ]
          },
          "metadata": {},
          "execution_count": 51
        }
      ]
    },
    {
      "cell_type": "markdown",
      "source": [
        "Extract only Features Vectors"
      ],
      "metadata": {
        "id": "s2lRmMwZro-v"
      }
    },
    {
      "cell_type": "code",
      "source": [
        "unlabeled_X = unlabeled_df.iloc[:, 1:].values\n",
        "unlabeled_X.shape"
      ],
      "metadata": {
        "colab": {
          "base_uri": "https://localhost:8080/"
        },
        "id": "j56_7cFdrT4Q",
        "outputId": "e8300db2-c44d-4a7a-f1d2-34511281e122"
      },
      "execution_count": null,
      "outputs": [
        {
          "output_type": "execute_result",
          "data": {
            "text/plain": [
              "(1877, 2715)"
            ]
          },
          "metadata": {},
          "execution_count": 52
        }
      ]
    },
    {
      "cell_type": "markdown",
      "source": [
        "Data Standardization"
      ],
      "metadata": {
        "id": "bVz_zI7Ur5lc"
      }
    },
    {
      "cell_type": "code",
      "source": [
        "unlabeled_X = sc.transform(unlabeled_X)\n",
        "unlabeled_X[:, :2]"
      ],
      "metadata": {
        "colab": {
          "base_uri": "https://localhost:8080/"
        },
        "id": "6nVEOhrZrv2C",
        "outputId": "3dacca21-1891-4b2e-f97e-272cccef0f42"
      },
      "execution_count": null,
      "outputs": [
        {
          "output_type": "execute_result",
          "data": {
            "text/plain": [
              "array([[-0.03268146, -0.04431945],\n",
              "       [-0.03268146, -0.04431945],\n",
              "       [-0.03268146, -0.04431945],\n",
              "       ...,\n",
              "       [-0.03268146, -0.04431945],\n",
              "       [-0.03268146, -0.04431945],\n",
              "       [-0.03268146, -0.04431945]])"
            ]
          },
          "metadata": {},
          "execution_count": 53
        }
      ]
    },
    {
      "cell_type": "markdown",
      "source": [
        "Getting Prediction from the model and labeling the data points"
      ],
      "metadata": {
        "id": "AyyekDP8t1lb"
      }
    },
    {
      "cell_type": "code",
      "source": [
        "unlabeled_ypred = loaded_model.predict(unlabeled_X)\n",
        "unlabeled_df['PCR_result'] = unlabeled_ypred\n",
        "unlabeled_df['PCR_result'].value_counts()"
      ],
      "metadata": {
        "colab": {
          "base_uri": "https://localhost:8080/"
        },
        "id": "vEDCsscNs6oH",
        "outputId": "a2167115-045f-467f-84ee-8e691aa147c9"
      },
      "execution_count": null,
      "outputs": [
        {
          "output_type": "execute_result",
          "data": {
            "text/plain": [
              "1    1367\n",
              "0     510\n",
              "Name: PCR_result, dtype: int64"
            ]
          },
          "metadata": {},
          "execution_count": 54
        }
      ]
    },
    {
      "cell_type": "markdown",
      "source": [
        "Recheck the originally labeled data point"
      ],
      "metadata": {
        "id": "twLZAYVst-4d"
      }
    },
    {
      "cell_type": "code",
      "source": [
        "df['PCR_result'].value_counts()"
      ],
      "metadata": {
        "colab": {
          "base_uri": "https://localhost:8080/"
        },
        "id": "ogTzICWftWed",
        "outputId": "5de9400c-448e-4c08-b8df-c9c86e076489"
      },
      "execution_count": null,
      "outputs": [
        {
          "output_type": "execute_result",
          "data": {
            "text/plain": [
              "1    1632\n",
              "0     773\n",
              "Name: PCR_result, dtype: int64"
            ]
          },
          "metadata": {},
          "execution_count": 55
        }
      ]
    },
    {
      "cell_type": "markdown",
      "source": [
        "Concatenate 2 Dataframes. Then, the dataset size is equal to the default dataset."
      ],
      "metadata": {
        "id": "6K_TwIXcuFUL"
      }
    },
    {
      "cell_type": "code",
      "source": [
        "df_concat = pd.concat([df, unlabeled_df], axis=0)\n",
        "df_concat['PCR_result'].value_counts()"
      ],
      "metadata": {
        "colab": {
          "base_uri": "https://localhost:8080/"
        },
        "id": "4ywMlaCQtoYw",
        "outputId": "1a53f201-bca7-4cc6-ef11-3f7367ab1451"
      },
      "execution_count": null,
      "outputs": [
        {
          "output_type": "execute_result",
          "data": {
            "text/plain": [
              "1    2999\n",
              "0    1283\n",
              "Name: PCR_result, dtype: int64"
            ]
          },
          "metadata": {},
          "execution_count": 56
        }
      ]
    },
    {
      "cell_type": "markdown",
      "source": [
        "Re-train model"
      ],
      "metadata": {
        "id": "vNPLqZzlukFr"
      }
    },
    {
      "cell_type": "code",
      "source": [
        "concat_X = df_concat.iloc[:, 1:].values\n",
        "concat_y = df_concat.iloc[:, 0].values\n",
        "print(concat_X.shape)\n",
        "print(concat_y.shape)"
      ],
      "metadata": {
        "colab": {
          "base_uri": "https://localhost:8080/"
        },
        "id": "_vcfIKaTu3PL",
        "outputId": "faf492e4-8259-4eaf-93f3-347e95b11473"
      },
      "execution_count": null,
      "outputs": [
        {
          "output_type": "stream",
          "name": "stdout",
          "text": [
            "(4282, 2715)\n",
            "(4282,)\n"
          ]
        }
      ]
    },
    {
      "cell_type": "code",
      "source": [
        "concat_X_train, concat_X_test, concat_y_train, concat_y_test = train_test_split(concat_X, concat_y, test_size=0.3, random_state=0)\n",
        "print(concat_X_train.shape)\n",
        "print(concat_X_test.shape)\n",
        "print(concat_y_train.shape)\n",
        "print(concat_y_test.shape)"
      ],
      "metadata": {
        "colab": {
          "base_uri": "https://localhost:8080/"
        },
        "id": "G2nlOZhrvNG4",
        "outputId": "e5dc114b-1459-4cb5-c3c8-d649c4d8c798"
      },
      "execution_count": null,
      "outputs": [
        {
          "output_type": "stream",
          "name": "stdout",
          "text": [
            "(2997, 2715)\n",
            "(1285, 2715)\n",
            "(2997,)\n",
            "(1285,)\n"
          ]
        }
      ]
    },
    {
      "cell_type": "code",
      "source": [
        "xg = XGBClassifier()\n",
        "xg.fit(concat_X_train, concat_y_train)\n",
        "y_pred = xg.predict(concat_X_test)\n",
        "accuracy = (accuracy_score(concat_y_test, y_pred))\n",
        "print('Accuracy: ',round(accuracy*100,3),'%')"
      ],
      "metadata": {
        "colab": {
          "base_uri": "https://localhost:8080/"
        },
        "id": "3z0h_k4zuJ9G",
        "outputId": "a2196da5-2541-49f0-8f83-118885efb1ab"
      },
      "execution_count": null,
      "outputs": [
        {
          "output_type": "stream",
          "name": "stdout",
          "text": [
            "Accuracy:  95.097 %\n"
          ]
        }
      ]
    },
    {
      "cell_type": "code",
      "source": [
        "create_complete_report(xg, \"XGBoost Classifier (Concat DF)\",concat_X_test, concat_y_test)"
      ],
      "metadata": {
        "colab": {
          "base_uri": "https://localhost:8080/",
          "height": 1000
        },
        "id": "NZ1kUyozu1Ft",
        "outputId": "0a769da2-4796-4ca2-f604-88a38238fb75"
      },
      "execution_count": null,
      "outputs": [
        {
          "output_type": "stream",
          "name": "stdout",
          "text": [
            "CROSS VALIDATION\n",
            "---------------------------------------------------------------------------------------------------\n",
            "Accuracy of fold 0 0.976\n",
            "Accuracy of fold 1 0.97\n",
            "Accuracy of fold 2 0.959\n",
            "Accuracy of fold 3 0.964\n",
            "Accuracy of fold 4 0.976\n",
            "Accuracy of fold 5 0.935\n",
            "Accuracy of fold 6 0.97\n",
            "Accuracy of fold 7 0.976\n",
            "Accuracy of fold 8 0.952\n",
            "Accuracy of fold 9 0.964\n",
            "Mean Accuracy of Cross Validation: 96.43%\n",
            "Standard Deviation: 1.25%\n",
            "---------------------------------------------------------------------------------------------------\n",
            "\n",
            "CLASSIFICATION REPORT\n",
            "---------------------------------------------------------------------------------------------------\n",
            "              precision    recall  f1-score   support\n",
            "\n",
            "           0       0.93      0.90      0.91       371\n",
            "           1       0.96      0.97      0.97       914\n",
            "\n",
            "    accuracy                           0.95      1285\n",
            "   macro avg       0.94      0.94      0.94      1285\n",
            "weighted avg       0.95      0.95      0.95      1285\n",
            "\n",
            "---------------------------------------------------------------------------------------------------\n",
            "\n"
          ]
        },
        {
          "output_type": "display_data",
          "data": {
            "text/plain": [
              "<Figure size 1080x432 with 3 Axes>"
            ],
            "image/png": "[encoded data removed]"
          },
          "metadata": {
            "needs_background": "light"
          }
        },
        {
          "output_type": "stream",
          "name": "stdout",
          "text": [
            "\n",
            "---------------------------------------------------------------------------------------------------\n",
            "MODEL RESULT SUMMARY\n"
          ]
        },
        {
          "output_type": "display_data",
          "data": {
            "text/plain": [
              "                            Model  Accuracy  F1 Score  Precision    Recall  \\\n",
              "0             Logistic Regression  0.919668  0.941414   0.922772  0.960825   \n",
              "1                             KNN  0.759003  0.840659   0.756178  0.946392   \n",
              "2                    SVM (Linear)  0.900277  0.926978   0.912176  0.942268   \n",
              "3                      GaussianNB  0.599723  0.637390   0.814103  0.523711   \n",
              "4        Decision Tree Classifier  0.891967  0.918239   0.933902  0.903093   \n",
              "5                   Random Forest  0.930748  0.949084   0.937626  0.960825   \n",
              "6              XGBoost Classifier  0.962604  0.972194   0.971193  0.973196   \n",
              "7  XGBoost Classifier (Concat DF)  0.950973  0.965705   0.960997  0.970460   \n",
              "\n",
              "        AUC  \n",
              "0  0.968811  \n",
              "1  0.743699  \n",
              "2  0.958976  \n",
              "3  0.645243  \n",
              "4  0.886146  \n",
              "5  0.971117  \n",
              "6  0.994502  \n",
              "7  0.988985  "
            ],
            "text/html": [
              "\n",
              "  <div id=\"df-aa98ca1a-871f-4d34-8b94-92ea7e663c50\">\n",
              "    <div class=\"colab-df-container\">\n",
              "      <div>\n",
              "<style scoped>\n",
              "    .dataframe tbody tr th:only-of-type {\n",
              "        vertical-align: middle;\n",
              "    }\n",
              "\n",
              "    .dataframe tbody tr th {\n",
              "        vertical-align: top;\n",
              "    }\n",
              "\n",
              "    .dataframe thead th {\n",
              "        text-align: right;\n",
              "    }\n",
              "</style>\n",
              "<table border=\"1\" class=\"dataframe\">\n",
              "  <thead>\n",
              "    <tr style=\"text-align: right;\">\n",
              "      <th></th>\n",
              "      <th>Model</th>\n",
              "      <th>Accuracy</th>\n",
              "      <th>F1 Score</th>\n",
              "      <th>Precision</th>\n",
              "      <th>Recall</th>\n",
              "      <th>AUC</th>\n",
              "    </tr>\n",
              "  </thead>\n",
              "  <tbody>\n",
              "    <tr>\n",
              "      <th>0</th>\n",
              "      <td>Logistic Regression</td>\n",
              "      <td>0.919668</td>\n",
              "      <td>0.941414</td>\n",
              "      <td>0.922772</td>\n",
              "      <td>0.960825</td>\n",
              "      <td>0.968811</td>\n",
              "    </tr>\n",
              "    <tr>\n",
              "      <th>1</th>\n",
              "      <td>KNN</td>\n",
              "      <td>0.759003</td>\n",
              "      <td>0.840659</td>\n",
              "      <td>0.756178</td>\n",
              "      <td>0.946392</td>\n",
              "      <td>0.743699</td>\n",
              "    </tr>\n",
              "    <tr>\n",
              "      <th>2</th>\n",
              "      <td>SVM (Linear)</td>\n",
              "      <td>0.900277</td>\n",
              "      <td>0.926978</td>\n",
              "      <td>0.912176</td>\n",
              "      <td>0.942268</td>\n",
              "      <td>0.958976</td>\n",
              "    </tr>\n",
              "    <tr>\n",
              "      <th>3</th>\n",
              "      <td>GaussianNB</td>\n",
              "      <td>0.599723</td>\n",
              "      <td>0.637390</td>\n",
              "      <td>0.814103</td>\n",
              "      <td>0.523711</td>\n",
              "      <td>0.645243</td>\n",
              "    </tr>\n",
              "    <tr>\n",
              "      <th>4</th>\n",
              "      <td>Decision Tree Classifier</td>\n",
              "      <td>0.891967</td>\n",
              "      <td>0.918239</td>\n",
              "      <td>0.933902</td>\n",
              "      <td>0.903093</td>\n",
              "      <td>0.886146</td>\n",
              "    </tr>\n",
              "    <tr>\n",
              "      <th>5</th>\n",
              "      <td>Random Forest</td>\n",
              "      <td>0.930748</td>\n",
              "      <td>0.949084</td>\n",
              "      <td>0.937626</td>\n",
              "      <td>0.960825</td>\n",
              "      <td>0.971117</td>\n",
              "    </tr>\n",
              "    <tr>\n",
              "      <th>6</th>\n",
              "      <td>XGBoost Classifier</td>\n",
              "      <td>0.962604</td>\n",
              "      <td>0.972194</td>\n",
              "      <td>0.971193</td>\n",
              "      <td>0.973196</td>\n",
              "      <td>0.994502</td>\n",
              "    </tr>\n",
              "    <tr>\n",
              "      <th>7</th>\n",
              "      <td>XGBoost Classifier (Concat DF)</td>\n",
              "      <td>0.950973</td>\n",
              "      <td>0.965705</td>\n",
              "      <td>0.960997</td>\n",
              "      <td>0.970460</td>\n",
              "      <td>0.988985</td>\n",
              "    </tr>\n",
              "  </tbody>\n",
              "</table>\n",
              "</div>\n",
              "      <button class=\"colab-df-convert\" onclick=\"convertToInteractive('df-aa98ca1a-871f-4d34-8b94-92ea7e663c50')\"\n",
              "              title=\"Convert this dataframe to an interactive table.\"\n",
              "              style=\"display:none;\">\n",
              "        \n",
              "  <svg xmlns=\"http://www.w3.org/2000/svg\" height=\"24px\"viewBox=\"0 0 24 24\"\n",
              "       width=\"24px\">\n",
              "    <path d=\"M0 0h24v24H0V0z\" fill=\"none\"/>\n",
              "    <path d=\"M18.56 5.44l.94 2.06.94-2.06 2.06-.94-2.06-.94-.94-2.06-.94 2.06-2.06.94zm-11 1L8.5 8.5l.94-2.06 2.06-.94-2.06-.94L8.5 2.5l-.94 2.06-2.06.94zm10 10l.94 2.06.94-2.06 2.06-.94-2.06-.94-.94-2.06-.94 2.06-2.06.94z\"/><path d=\"M17.41 7.96l-1.37-1.37c-.4-.4-.92-.59-1.43-.59-.52 0-1.04.2-1.43.59L10.3 9.45l-7.72 7.72c-.78.78-.78 2.05 0 2.83L4 21.41c.39.39.9.59 1.41.59.51 0 1.02-.2 1.41-.59l7.78-7.78 2.81-2.81c.8-.78.8-2.07 0-2.86zM5.41 20L4 18.59l7.72-7.72 1.47 1.35L5.41 20z\"/>\n",
              "  </svg>\n",
              "      </button>\n",
              "      \n",
              "  <style>\n",
              "    .colab-df-container {\n",
              "      display:flex;\n",
              "      flex-wrap:wrap;\n",
              "      gap: 12px;\n",
              "    }\n",
              "\n",
              "    .colab-df-convert {\n",
              "      background-color: #E8F0FE;\n",
              "      border: none;\n",
              "      border-radius: 50%;\n",
              "      cursor: pointer;\n",
              "      display: none;\n",
              "      fill: #1967D2;\n",
              "      height: 32px;\n",
              "      padding: 0 0 0 0;\n",
              "      width: 32px;\n",
              "    }\n",
              "\n",
              "    .colab-df-convert:hover {\n",
              "      background-color: #E2EBFA;\n",
              "      box-shadow: 0px 1px 2px rgba(60, 64, 67, 0.3), 0px 1px 3px 1px rgba(60, 64, 67, 0.15);\n",
              "      fill: #174EA6;\n",
              "    }\n",
              "\n",
              "    [theme=dark] .colab-df-convert {\n",
              "      background-color: #3B4455;\n",
              "      fill: #D2E3FC;\n",
              "    }\n",
              "\n",
              "    [theme=dark] .colab-df-convert:hover {\n",
              "      background-color: #434B5C;\n",
              "      box-shadow: 0px 1px 3px 1px rgba(0, 0, 0, 0.15);\n",
              "      filter: drop-shadow(0px 1px 2px rgba(0, 0, 0, 0.3));\n",
              "      fill: #FFFFFF;\n",
              "    }\n",
              "  </style>\n",
              "\n",
              "      <script>\n",
              "        const buttonEl =\n",
              "          document.querySelector('#df-aa98ca1a-871f-4d34-8b94-92ea7e663c50 button.colab-df-convert');\n",
              "        buttonEl.style.display =\n",
              "          google.colab.kernel.accessAllowed ? 'block' : 'none';\n",
              "\n",
              "        async function convertToInteractive(key) {\n",
              "          const element = document.querySelector('#df-aa98ca1a-871f-4d34-8b94-92ea7e663c50');\n",
              "          const dataTable =\n",
              "            await google.colab.kernel.invokeFunction('convertToInteractive',\n",
              "                                                     [key], {});\n",
              "          if (!dataTable) return;\n",
              "\n",
              "          const docLinkHtml = 'Like what you see? Visit the ' +\n",
              "            '<a target=\"_blank\" href=https://colab.research.google.com/notebooks/data_table.ipynb>data table notebook</a>'\n",
              "            + ' to learn more about interactive tables.';\n",
              "          element.innerHTML = '';\n",
              "          dataTable['output_type'] = 'display_data';\n",
              "          await google.colab.output.renderOutput(dataTable, element);\n",
              "          const docLink = document.createElement('div');\n",
              "          docLink.innerHTML = docLinkHtml;\n",
              "          element.appendChild(docLink);\n",
              "        }\n",
              "      </script>\n",
              "    </div>\n",
              "  </div>\n",
              "  "
            ]
          },
          "metadata": {}
        }
      ]
    },
    {
      "cell_type": "code",
      "source": [
        "individual_neg = df_concat.iloc[[df_concat[df_concat['PCR_result'] == 0].index[75]], 1:].values\n",
        "result = xg.predict(sc.transform(individual_neg))\n",
        "prob = xg.predict_proba(sc.transform(individual_neg))\n",
        "if result[0] == 0:\n",
        "  print(\"COVID-19 undetectable\")\n",
        "  print(\"Confidence Rate:\", round(prob[0][np.argmax(prob[0])]*100, 3), '%')\n",
        "else:\n",
        "  print(\"COVID-19 detectable\")\n",
        "  print(\"Confidence Rate:\", round(prob[0][np.argmax(prob[0])]*100, 3), '%')"
      ],
      "metadata": {
        "colab": {
          "base_uri": "https://localhost:8080/"
        },
        "id": "6qRoQuJGwIyY",
        "outputId": "e19bd96e-1f8a-4286-9b07-56e6ee8f2ef8"
      },
      "execution_count": null,
      "outputs": [
        {
          "output_type": "stream",
          "name": "stdout",
          "text": [
            "COVID-19 undetectable\n",
            "Confidence Rate: 97.336 %\n"
          ]
        }
      ]
    },
    {
      "cell_type": "code",
      "source": [
        "individual_pos = df_concat.iloc[[df_concat[df_concat['PCR_result'] == 1].index[75]], 1:].values\n",
        "result = xg.predict(sc.transform(individual_pos))\n",
        "prob = xg.predict_proba(sc.transform(individual_pos))\n",
        "if result[0] == 0:\n",
        "  print(\"COVID-19 undetectable\")\n",
        "  print(\"Confidence Rate:\", round(prob[0][np.argmax(prob[0])]*100, 3), '%')\n",
        "else:\n",
        "  print(\"COVID-19 detectable\")\n",
        "  print(\"Confidence Rate:\", round(prob[0][np.argmax(prob[0])]*100, 3), '%')"
      ],
      "metadata": {
        "colab": {
          "base_uri": "https://localhost:8080/"
        },
        "id": "5_RK0_kCwocc",
        "outputId": "98d0df34-c070-4978-d342-6a7540eca629"
      },
      "execution_count": null,
      "outputs": [
        {
          "output_type": "stream",
          "name": "stdout",
          "text": [
            "COVID-19 detectable\n",
            "Confidence Rate: 98.102 %\n"
          ]
        }
      ]
    },
    {
      "cell_type": "code",
      "source": [
        "pd.DataFrame(model_collection).plot(x=\"Model\", y=[\"Accuracy\", \"F1 Score\", 'Precision','Recall','AUC'], kind=\"bar\", figsize=(15, 6))\n",
        "plt.title(\"Models' Metrics\")\n",
        "plt.xlabel('Models')\n",
        "plt.ylabel('Accuracy')\n",
        "plt.legend(loc=(1.01,0))"
      ],
      "metadata": {
        "colab": {
          "base_uri": "https://localhost:8080/",
          "height": 566
        },
        "id": "TwP2DqEq1hYd",
        "outputId": "e6adcf77-0bff-4e72-f875-07f44a97e4ea"
      },
      "execution_count": null,
      "outputs": [
        {
          "output_type": "execute_result",
          "data": {
            "text/plain": [
              "<matplotlib.legend.Legend at 0x7f45c51d4b90>"
            ]
          },
          "metadata": {},
          "execution_count": 63
        },
        {
          "output_type": "display_data",
          "data": {
            "text/plain": [
              "<Figure size 1080x432 with 1 Axes>"
            ],
            "image/png": "[encoded data removed]"
          },
          "metadata": {
            "needs_background": "light"
          }
        }
      ]
    }
  ]
}
